{
 "cells": [
  {
   "cell_type": "markdown",
   "id": "230f0550",
   "metadata": {
    "papermill": {
     "duration": 0.005511,
     "end_time": "2025-10-27T17:54:21.027179",
     "exception": false,
     "start_time": "2025-10-27T17:54:21.021668",
     "status": "completed"
    },
    "tags": []
   },
   "source": [
    "## Introdução"
   ]
  },
  {
   "cell_type": "markdown",
   "id": "2e753b62",
   "metadata": {
    "papermill": {
     "duration": 0.005486,
     "end_time": "2025-10-27T17:54:21.038429",
     "exception": false,
     "start_time": "2025-10-27T17:54:21.032943",
     "status": "completed"
    },
    "tags": []
   },
   "source": [
    "O presente projeto tem como objetivo realizar uma análise preditiva e exploratória sobre o comportamento de vendas em uma rede de supermercados, utilizando o dataset “Supermarket Sales”, disponível publicamente no Kaggle\n",
    ".\n",
    "\n",
    "O conjunto de dados contém registros de transações realizadas em três filiais de uma rede de supermercados localizadas em Yangon, Mandalay e Naypyitaw (Myanmar), ao longo de um período de três meses (janeiro a março de 2019). Cada transação inclui informações detalhadas sobre o tipo de cliente, gênero, categoria de produto, quantidade comprada, preço unitário, forma de pagamento, impostos, margem bruta e avaliação do cliente.\n",
    "\n",
    "A partir desses dados, o projeto busca entender os padrões de consumo dos clientes e identificar fatores que influenciam as vendas e a satisfação. Além disso, será desenvolvido um modelo preditivo capaz de estimar o valor total da compra (ou a margem bruta) com base em características observadas na transação, auxiliando na tomada de decisão estratégica do negócio."
   ]
  },
  {
   "cell_type": "code",
   "execution_count": null,
   "id": "1440b35f",
   "metadata": {},
   "outputs": [
    {
     "name": "stdout",
     "output_type": "stream",
     "text": [
      "Requirement already satisfied: asttokens==3.0.0 in d:\\documentos\\vscode\\projetos_git\\supermarket sales\\.venv\\lib\\site-packages (from -r requirements.txt (line 1)) (3.0.0)\n",
      "Requirement already satisfied: colorama==0.4.6 in d:\\documentos\\vscode\\projetos_git\\supermarket sales\\.venv\\lib\\site-packages (from -r requirements.txt (line 2)) (0.4.6)\n",
      "Requirement already satisfied: comm==0.2.3 in d:\\documentos\\vscode\\projetos_git\\supermarket sales\\.venv\\lib\\site-packages (from -r requirements.txt (line 3)) (0.2.3)\n",
      "Requirement already satisfied: contourpy==1.3.3 in d:\\documentos\\vscode\\projetos_git\\supermarket sales\\.venv\\lib\\site-packages (from -r requirements.txt (line 4)) (1.3.3)\n",
      "Requirement already satisfied: cycler==0.12.1 in d:\\documentos\\vscode\\projetos_git\\supermarket sales\\.venv\\lib\\site-packages (from -r requirements.txt (line 5)) (0.12.1)\n",
      "Requirement already satisfied: debugpy==1.8.17 in d:\\documentos\\vscode\\projetos_git\\supermarket sales\\.venv\\lib\\site-packages (from -r requirements.txt (line 6)) (1.8.17)\n",
      "Requirement already satisfied: decorator==5.2.1 in d:\\documentos\\vscode\\projetos_git\\supermarket sales\\.venv\\lib\\site-packages (from -r requirements.txt (line 7)) (5.2.1)\n",
      "Requirement already satisfied: executing==2.2.1 in d:\\documentos\\vscode\\projetos_git\\supermarket sales\\.venv\\lib\\site-packages (from -r requirements.txt (line 8)) (2.2.1)\n",
      "Requirement already satisfied: fonttools==4.60.1 in d:\\documentos\\vscode\\projetos_git\\supermarket sales\\.venv\\lib\\site-packages (from -r requirements.txt (line 9)) (4.60.1)\n",
      "Requirement already satisfied: ipykernel==7.1.0 in d:\\documentos\\vscode\\projetos_git\\supermarket sales\\.venv\\lib\\site-packages (from -r requirements.txt (line 10)) (7.1.0)\n",
      "Requirement already satisfied: ipython==9.6.0 in d:\\documentos\\vscode\\projetos_git\\supermarket sales\\.venv\\lib\\site-packages (from -r requirements.txt (line 11)) (9.6.0)\n",
      "Requirement already satisfied: ipython_pygments_lexers==1.1.1 in d:\\documentos\\vscode\\projetos_git\\supermarket sales\\.venv\\lib\\site-packages (from -r requirements.txt (line 12)) (1.1.1)\n",
      "Requirement already satisfied: jedi==0.19.2 in d:\\documentos\\vscode\\projetos_git\\supermarket sales\\.venv\\lib\\site-packages (from -r requirements.txt (line 13)) (0.19.2)\n",
      "Requirement already satisfied: joblib==1.5.2 in d:\\documentos\\vscode\\projetos_git\\supermarket sales\\.venv\\lib\\site-packages (from -r requirements.txt (line 14)) (1.5.2)\n",
      "Requirement already satisfied: jupyter_client==8.6.3 in d:\\documentos\\vscode\\projetos_git\\supermarket sales\\.venv\\lib\\site-packages (from -r requirements.txt (line 15)) (8.6.3)\n",
      "Requirement already satisfied: jupyter_core==5.9.1 in d:\\documentos\\vscode\\projetos_git\\supermarket sales\\.venv\\lib\\site-packages (from -r requirements.txt (line 16)) (5.9.1)\n",
      "Requirement already satisfied: kiwisolver==1.4.9 in d:\\documentos\\vscode\\projetos_git\\supermarket sales\\.venv\\lib\\site-packages (from -r requirements.txt (line 17)) (1.4.9)\n",
      "Requirement already satisfied: kneed==0.8.5 in d:\\documentos\\vscode\\projetos_git\\supermarket sales\\.venv\\lib\\site-packages (from -r requirements.txt (line 18)) (0.8.5)\n",
      "Requirement already satisfied: matplotlib==3.10.7 in d:\\documentos\\vscode\\projetos_git\\supermarket sales\\.venv\\lib\\site-packages (from -r requirements.txt (line 19)) (3.10.7)\n",
      "Requirement already satisfied: matplotlib-inline==0.2.1 in d:\\documentos\\vscode\\projetos_git\\supermarket sales\\.venv\\lib\\site-packages (from -r requirements.txt (line 20)) (0.2.1)\n",
      "Requirement already satisfied: nest-asyncio==1.6.0 in d:\\documentos\\vscode\\projetos_git\\supermarket sales\\.venv\\lib\\site-packages (from -r requirements.txt (line 21)) (1.6.0)\n",
      "Requirement already satisfied: numpy==2.3.4 in d:\\documentos\\vscode\\projetos_git\\supermarket sales\\.venv\\lib\\site-packages (from -r requirements.txt (line 22)) (2.3.4)\n",
      "Requirement already satisfied: packaging==25.0 in d:\\documentos\\vscode\\projetos_git\\supermarket sales\\.venv\\lib\\site-packages (from -r requirements.txt (line 23)) (25.0)\n",
      "Requirement already satisfied: pandas==2.3.3 in d:\\documentos\\vscode\\projetos_git\\supermarket sales\\.venv\\lib\\site-packages (from -r requirements.txt (line 24)) (2.3.3)\n",
      "Requirement already satisfied: parso==0.8.5 in d:\\documentos\\vscode\\projetos_git\\supermarket sales\\.venv\\lib\\site-packages (from -r requirements.txt (line 25)) (0.8.5)\n",
      "Requirement already satisfied: pillow==12.0.0 in d:\\documentos\\vscode\\projetos_git\\supermarket sales\\.venv\\lib\\site-packages (from -r requirements.txt (line 26)) (12.0.0)\n",
      "Requirement already satisfied: platformdirs==4.5.0 in d:\\documentos\\vscode\\projetos_git\\supermarket sales\\.venv\\lib\\site-packages (from -r requirements.txt (line 27)) (4.5.0)\n",
      "Requirement already satisfied: prompt_toolkit==3.0.52 in d:\\documentos\\vscode\\projetos_git\\supermarket sales\\.venv\\lib\\site-packages (from -r requirements.txt (line 28)) (3.0.52)\n",
      "Requirement already satisfied: psutil==7.1.2 in d:\\documentos\\vscode\\projetos_git\\supermarket sales\\.venv\\lib\\site-packages (from -r requirements.txt (line 29)) (7.1.2)\n",
      "Requirement already satisfied: pure_eval==0.2.3 in d:\\documentos\\vscode\\projetos_git\\supermarket sales\\.venv\\lib\\site-packages (from -r requirements.txt (line 30)) (0.2.3)\n",
      "Requirement already satisfied: Pygments==2.19.2 in d:\\documentos\\vscode\\projetos_git\\supermarket sales\\.venv\\lib\\site-packages (from -r requirements.txt (line 31)) (2.19.2)\n",
      "Requirement already satisfied: pyparsing==3.2.5 in d:\\documentos\\vscode\\projetos_git\\supermarket sales\\.venv\\lib\\site-packages (from -r requirements.txt (line 32)) (3.2.5)\n",
      "Requirement already satisfied: python-dateutil==2.9.0.post0 in d:\\documentos\\vscode\\projetos_git\\supermarket sales\\.venv\\lib\\site-packages (from -r requirements.txt (line 33)) (2.9.0.post0)\n",
      "Requirement already satisfied: pytz==2025.2 in d:\\documentos\\vscode\\projetos_git\\supermarket sales\\.venv\\lib\\site-packages (from -r requirements.txt (line 34)) (2025.2)\n",
      "Requirement already satisfied: pyzmq==27.1.0 in d:\\documentos\\vscode\\projetos_git\\supermarket sales\\.venv\\lib\\site-packages (from -r requirements.txt (line 35)) (27.1.0)\n",
      "Requirement already satisfied: scikit-learn==1.7.2 in d:\\documentos\\vscode\\projetos_git\\supermarket sales\\.venv\\lib\\site-packages (from -r requirements.txt (line 36)) (1.7.2)\n",
      "Requirement already satisfied: scipy==1.16.2 in d:\\documentos\\vscode\\projetos_git\\supermarket sales\\.venv\\lib\\site-packages (from -r requirements.txt (line 37)) (1.16.2)\n",
      "Requirement already satisfied: seaborn==0.13.2 in d:\\documentos\\vscode\\projetos_git\\supermarket sales\\.venv\\lib\\site-packages (from -r requirements.txt (line 38)) (0.13.2)\n",
      "Requirement already satisfied: six==1.17.0 in d:\\documentos\\vscode\\projetos_git\\supermarket sales\\.venv\\lib\\site-packages (from -r requirements.txt (line 39)) (1.17.0)\n",
      "Requirement already satisfied: stack-data==0.6.3 in d:\\documentos\\vscode\\projetos_git\\supermarket sales\\.venv\\lib\\site-packages (from -r requirements.txt (line 40)) (0.6.3)\n",
      "Requirement already satisfied: threadpoolctl==3.6.0 in d:\\documentos\\vscode\\projetos_git\\supermarket sales\\.venv\\lib\\site-packages (from -r requirements.txt (line 41)) (3.6.0)\n",
      "Requirement already satisfied: tornado==6.5.2 in d:\\documentos\\vscode\\projetos_git\\supermarket sales\\.venv\\lib\\site-packages (from -r requirements.txt (line 42)) (6.5.2)\n",
      "Requirement already satisfied: traitlets==5.14.3 in d:\\documentos\\vscode\\projetos_git\\supermarket sales\\.venv\\lib\\site-packages (from -r requirements.txt (line 43)) (5.14.3)\n",
      "Requirement already satisfied: tzdata==2025.2 in d:\\documentos\\vscode\\projetos_git\\supermarket sales\\.venv\\lib\\site-packages (from -r requirements.txt (line 44)) (2025.2)\n",
      "Requirement already satisfied: wcwidth==0.2.14 in d:\\documentos\\vscode\\projetos_git\\supermarket sales\\.venv\\lib\\site-packages (from -r requirements.txt (line 45)) (0.2.14)\n",
      "Collecting xgboost>=1.7.6 (from -r requirements.txt (line 48))\n",
      "  Downloading xgboost-3.1.1-py3-none-win_amd64.whl.metadata (2.1 kB)\n",
      "Requirement already satisfied: plotly>=5.18.0 in d:\\documentos\\vscode\\projetos_git\\supermarket sales\\.venv\\lib\\site-packages (from -r requirements.txt (line 53)) (6.3.1)\n",
      "Requirement already satisfied: narwhals>=1.15.1 in d:\\documentos\\vscode\\projetos_git\\supermarket sales\\.venv\\lib\\site-packages (from plotly>=5.18.0->-r requirements.txt (line 53)) (2.10.0)\n",
      "Downloading xgboost-3.1.1-py3-none-win_amd64.whl (72.0 MB)\n",
      "   ---------------------------------------- 0.0/72.0 MB ? eta -:--:--\n",
      "   -- ------------------------------------- 4.5/72.0 MB 33.9 MB/s eta 0:00:02\n",
      "   ------- -------------------------------- 13.4/72.0 MB 35.8 MB/s eta 0:00:02\n",
      "   ----------- ---------------------------- 21.2/72.0 MB 35.7 MB/s eta 0:00:02\n",
      "   ---------------- ----------------------- 29.9/72.0 MB 36.9 MB/s eta 0:00:02\n",
      "   --------------------- ------------------ 39.3/72.0 MB 38.1 MB/s eta 0:00:01\n",
      "   -------------------------- ------------- 48.0/72.0 MB 38.9 MB/s eta 0:00:01\n",
      "   ------------------------------- -------- 56.4/72.0 MB 39.3 MB/s eta 0:00:01\n",
      "   ----------------------------------- ---- 64.2/72.0 MB 39.0 MB/s eta 0:00:01\n",
      "   ---------------------------------------  71.8/72.0 MB 39.7 MB/s eta 0:00:01\n",
      "   ---------------------------------------  71.8/72.0 MB 39.7 MB/s eta 0:00:01\n",
      "   ---------------------------------------- 72.0/72.0 MB 34.5 MB/s  0:00:02\n",
      "Installing collected packages: xgboost\n",
      "Successfully installed xgboost-3.1.1\n",
      "Note: you may need to restart the kernel to use updated packages.\n"
     ]
    },
    {
     "name": "stderr",
     "output_type": "stream",
     "text": [
      "\n",
      "[notice] A new release of pip is available: 25.2 -> 25.3\n",
      "[notice] To update, run: python.exe -m pip install --upgrade pip\n"
     ]
    }
   ],
   "source": [
    "pip install -r requirements.txt --qq"
   ]
  },
  {
   "cell_type": "markdown",
   "id": "cf47fed5",
   "metadata": {
    "papermill": {
     "duration": 0.005377,
     "end_time": "2025-10-27T17:54:21.049533",
     "exception": false,
     "start_time": "2025-10-27T17:54:21.044156",
     "status": "completed"
    },
    "tags": []
   },
   "source": [
    "## Importação de Bibliotecas e Configurações Iniciais"
   ]
  },
  {
   "cell_type": "code",
   "execution_count": 2,
   "id": "a793f526",
   "metadata": {
    "execution": {
     "iopub.execute_input": "2025-10-27T17:54:21.062327Z",
     "iopub.status.busy": "2025-10-27T17:54:21.061881Z",
     "iopub.status.idle": "2025-10-27T17:54:21.066410Z",
     "shell.execute_reply": "2025-10-27T17:54:21.065454Z"
    },
    "papermill": {
     "duration": 0.01273,
     "end_time": "2025-10-27T17:54:21.067902",
     "exception": false,
     "start_time": "2025-10-27T17:54:21.055172",
     "status": "completed"
    },
    "tags": []
   },
   "outputs": [],
   "source": [
    "# Bibliotecas essenciais\n",
    "import numpy as np\n",
    "import pandas as pd\n",
    "import os"
   ]
  },
  {
   "cell_type": "code",
   "execution_count": 3,
   "id": "b1665a3b",
   "metadata": {
    "execution": {
     "iopub.execute_input": "2025-10-27T17:54:21.081556Z",
     "iopub.status.busy": "2025-10-27T17:54:21.080633Z",
     "iopub.status.idle": "2025-10-27T17:54:23.897860Z",
     "shell.execute_reply": "2025-10-27T17:54:23.896614Z"
    },
    "papermill": {
     "duration": 2.825807,
     "end_time": "2025-10-27T17:54:23.899698",
     "exception": false,
     "start_time": "2025-10-27T17:54:21.073891",
     "status": "completed"
    },
    "tags": []
   },
   "outputs": [],
   "source": [
    "# Bibliotecas de visualização\n",
    "import matplotlib.pyplot as plt\n",
    "import seaborn as sns\n",
    "import plotly.express as px"
   ]
  },
  {
   "cell_type": "code",
   "execution_count": 4,
   "id": "9fa719bc",
   "metadata": {
    "execution": {
     "iopub.execute_input": "2025-10-27T17:54:23.913385Z",
     "iopub.status.busy": "2025-10-27T17:54:23.912850Z",
     "iopub.status.idle": "2025-10-27T17:54:24.874671Z",
     "shell.execute_reply": "2025-10-27T17:54:24.873719Z"
    },
    "papermill": {
     "duration": 0.970538,
     "end_time": "2025-10-27T17:54:24.876445",
     "exception": false,
     "start_time": "2025-10-27T17:54:23.905907",
     "status": "completed"
    },
    "tags": []
   },
   "outputs": [],
   "source": [
    "# Bibliotecas de Machine Learning e Métricas\n",
    "from sklearn.model_selection import train_test_split, RandomizedSearchCV\n",
    "from sklearn.metrics import mean_squared_error, r2_score, mean_absolute_error\n",
    "from sklearn.inspection import permutation_importance\n",
    "from xgboost import XGBRegressor\n",
    "from sklearn.linear_model import LinearRegression, LassoCV"
   ]
  },
  {
   "cell_type": "markdown",
   "id": "c3300edb",
   "metadata": {
    "papermill": {
     "duration": 0.005574,
     "end_time": "2025-10-27T17:54:24.909662",
     "exception": false,
     "start_time": "2025-10-27T17:54:24.904088",
     "status": "completed"
    },
    "tags": []
   },
   "source": [
    "# Carregando e vialisando o DF"
   ]
  },
  {
   "cell_type": "code",
   "execution_count": null,
   "id": "752f6cfc",
   "metadata": {
    "execution": {
     "iopub.execute_input": "2025-10-27T17:54:24.923031Z",
     "iopub.status.busy": "2025-10-27T17:54:24.921939Z",
     "iopub.status.idle": "2025-10-27T17:54:24.973439Z",
     "shell.execute_reply": "2025-10-27T17:54:24.972460Z"
    },
    "papermill": {
     "duration": 0.059876,
     "end_time": "2025-10-27T17:54:24.975131",
     "exception": false,
     "start_time": "2025-10-27T17:54:24.915255",
     "status": "completed"
    },
    "tags": []
   },
   "outputs": [
    {
     "name": "stdout",
     "output_type": "stream",
     "text": [
      "Shape do dataset: (1000, 17)\n",
      "\n",
      "Informações iniciais do dataset:\n",
      "<class 'pandas.core.frame.DataFrame'>\n",
      "RangeIndex: 1000 entries, 0 to 999\n",
      "Data columns (total 17 columns):\n",
      " #   Column                   Non-Null Count  Dtype  \n",
      "---  ------                   --------------  -----  \n",
      " 0   Invoice ID               1000 non-null   object \n",
      " 1   Branch                   1000 non-null   object \n",
      " 2   City                     1000 non-null   object \n",
      " 3   Customer type            1000 non-null   object \n",
      " 4   Gender                   1000 non-null   object \n",
      " 5   Product line             1000 non-null   object \n",
      " 6   Unit price               1000 non-null   float64\n",
      " 7   Quantity                 1000 non-null   int64  \n",
      " 8   Tax 5%                   1000 non-null   float64\n",
      " 9   Sales                    1000 non-null   float64\n",
      " 10  Date                     1000 non-null   object \n",
      " 11  Time                     1000 non-null   object \n",
      " 12  Payment                  1000 non-null   object \n",
      " 13  cogs                     1000 non-null   float64\n",
      " 14  gross margin percentage  1000 non-null   float64\n",
      " 15  gross income             1000 non-null   float64\n",
      " 16  Rating                   1000 non-null   float64\n",
      "dtypes: float64(7), int64(1), object(9)\n",
      "memory usage: 132.9+ KB\n"
     ]
    },
    {
     "name": "stderr",
     "output_type": "stream",
     "text": [
      "<>:2: SyntaxWarning: invalid escape sequence '\\D'\n",
      "<>:2: SyntaxWarning: invalid escape sequence '\\D'\n",
      "C:\\Users\\Ramos\\AppData\\Local\\Temp\\ipykernel_9456\\3300759764.py:2: SyntaxWarning: invalid escape sequence '\\D'\n",
      "  df = pd.read_csv('D:\\Documentos\\VsCode\\projetos_git\\supermarket sales\\data\\SuperMarket Analysis.csv' )\n"
     ]
    }
   ],
   "source": [
    "# Carregamento dos dados\n",
    "df = pd.read_csv('data\\SuperMarket Analysis.csv' )\n",
    "\n",
    "\n",
    "print(\"Shape do dataset:\", df.shape)\n",
    "print(\"\\nInformações iniciais do dataset:\")\n",
    "df.info()"
   ]
  },
  {
   "cell_type": "markdown",
   "id": "3bdf5f2f",
   "metadata": {
    "papermill": {
     "duration": 0.005581,
     "end_time": "2025-10-27T17:54:24.986717",
     "exception": false,
     "start_time": "2025-10-27T17:54:24.981136",
     "status": "completed"
    },
    "tags": []
   },
   "source": [
    "### Análise Exploratória de Dados (EDA) e Limpeza"
   ]
  },
  {
   "cell_type": "code",
   "execution_count": 6,
   "id": "72ab7e5c",
   "metadata": {
    "execution": {
     "iopub.execute_input": "2025-10-27T17:54:25.000141Z",
     "iopub.status.busy": "2025-10-27T17:54:24.999783Z",
     "iopub.status.idle": "2025-10-27T17:54:25.047358Z",
     "shell.execute_reply": "2025-10-27T17:54:25.045970Z"
    },
    "papermill": {
     "duration": 0.05641,
     "end_time": "2025-10-27T17:54:25.048930",
     "exception": false,
     "start_time": "2025-10-27T17:54:24.992520",
     "status": "completed"
    },
    "tags": []
   },
   "outputs": [
    {
     "name": "stdout",
     "output_type": "stream",
     "text": [
      "\n",
      "Verificação de valores nulos:\n",
      "Invoice ID                 0\n",
      "Branch                     0\n",
      "City                       0\n",
      "Customer type              0\n",
      "Gender                     0\n",
      "Product line               0\n",
      "Unit price                 0\n",
      "Quantity                   0\n",
      "Tax 5%                     0\n",
      "Sales                      0\n",
      "Date                       0\n",
      "Time                       0\n",
      "Payment                    0\n",
      "cogs                       0\n",
      "gross margin percentage    0\n",
      "gross income               0\n",
      "Rating                     0\n",
      "dtype: int64\n",
      "\n",
      "Estatísticas descritivas:\n",
      "         Invoice ID Branch    City Customer type  Gender         Product line  \\\n",
      "count          1000   1000    1000          1000    1000                 1000   \n",
      "unique         1000      3       3             2       2                    6   \n",
      "top     750-67-8428   Alex  Yangon        Member  Female  Fashion accessories   \n",
      "freq              1    340     340           565     571                  178   \n",
      "mean            NaN    NaN     NaN           NaN     NaN                  NaN   \n",
      "std             NaN    NaN     NaN           NaN     NaN                  NaN   \n",
      "min             NaN    NaN     NaN           NaN     NaN                  NaN   \n",
      "25%             NaN    NaN     NaN           NaN     NaN                  NaN   \n",
      "50%             NaN    NaN     NaN           NaN     NaN                  NaN   \n",
      "75%             NaN    NaN     NaN           NaN     NaN                  NaN   \n",
      "max             NaN    NaN     NaN           NaN     NaN                  NaN   \n",
      "\n",
      "         Unit price     Quantity       Tax 5%        Sales      Date  \\\n",
      "count   1000.000000  1000.000000  1000.000000  1000.000000      1000   \n",
      "unique          NaN          NaN          NaN          NaN        89   \n",
      "top             NaN          NaN          NaN          NaN  2/7/2019   \n",
      "freq            NaN          NaN          NaN          NaN        20   \n",
      "mean      55.672130     5.510000    15.379369   322.966749       NaN   \n",
      "std       26.494628     2.923431    11.708825   245.885335       NaN   \n",
      "min       10.080000     1.000000     0.508500    10.678500       NaN   \n",
      "25%       32.875000     3.000000     5.924875   124.422375       NaN   \n",
      "50%       55.230000     5.000000    12.088000   253.848000       NaN   \n",
      "75%       77.935000     8.000000    22.445250   471.350250       NaN   \n",
      "max       99.960000    10.000000    49.650000  1042.650000       NaN   \n",
      "\n",
      "              Time  Payment        cogs  gross margin percentage  \\\n",
      "count         1000     1000  1000.00000              1000.000000   \n",
      "unique         506        3         NaN                      NaN   \n",
      "top     7:48:00 PM  Ewallet         NaN                      NaN   \n",
      "freq             7      345         NaN                      NaN   \n",
      "mean           NaN      NaN   307.58738                 4.761905   \n",
      "std            NaN      NaN   234.17651                 0.000000   \n",
      "min            NaN      NaN    10.17000                 4.761905   \n",
      "25%            NaN      NaN   118.49750                 4.761905   \n",
      "50%            NaN      NaN   241.76000                 4.761905   \n",
      "75%            NaN      NaN   448.90500                 4.761905   \n",
      "max            NaN      NaN   993.00000                 4.761905   \n",
      "\n",
      "        gross income      Rating  \n",
      "count    1000.000000  1000.00000  \n",
      "unique           NaN         NaN  \n",
      "top              NaN         NaN  \n",
      "freq             NaN         NaN  \n",
      "mean       15.379369     6.97270  \n",
      "std        11.708825     1.71858  \n",
      "min         0.508500     4.00000  \n",
      "25%         5.924875     5.50000  \n",
      "50%        12.088000     7.00000  \n",
      "75%        22.445250     8.50000  \n",
      "max        49.650000    10.00000  \n"
     ]
    }
   ],
   "source": [
    "# Verificação de valores nulos e estatísticas\n",
    "print(\"\\nVerificação de valores nulos:\")\n",
    "print(df.isnull().sum())\n",
    "\n",
    "print(\"\\nEstatísticas descritivas:\")\n",
    "print(df.describe(include='all'))"
   ]
  },
  {
   "cell_type": "markdown",
   "id": "6b4529c3",
   "metadata": {
    "papermill": {
     "duration": 0.005871,
     "end_time": "2025-10-27T17:54:25.060960",
     "exception": false,
     "start_time": "2025-10-27T17:54:25.055089",
     "status": "completed"
    },
    "tags": []
   },
   "source": [
    "### Identificação de Colunas Inúteis/Constantes"
   ]
  },
  {
   "cell_type": "markdown",
   "id": "ae4ef315",
   "metadata": {
    "papermill": {
     "duration": 0.00567,
     "end_time": "2025-10-27T17:54:25.072653",
     "exception": false,
     "start_time": "2025-10-27T17:54:25.066983",
     "status": "completed"
    },
    "tags": []
   },
   "source": [
    "Comentário da Melhoria: A coluna gross margin percentage é uma constante em todo o dataset (4.76...) e não pode ser usada como feature preditiva."
   ]
  },
  {
   "cell_type": "code",
   "execution_count": 7,
   "id": "366a5ff2",
   "metadata": {
    "execution": {
     "iopub.execute_input": "2025-10-27T17:54:25.086085Z",
     "iopub.status.busy": "2025-10-27T17:54:25.085793Z",
     "iopub.status.idle": "2025-10-27T17:54:25.098214Z",
     "shell.execute_reply": "2025-10-27T17:54:25.097241Z"
    },
    "papermill": {
     "duration": 0.020913,
     "end_time": "2025-10-27T17:54:25.099600",
     "exception": false,
     "start_time": "2025-10-27T17:54:25.078687",
     "status": "completed"
    },
    "tags": []
   },
   "outputs": [
    {
     "name": "stdout",
     "output_type": "stream",
     "text": [
      "\n",
      "Colunas constantes a serem removidas: ['gross margin percentage']\n",
      "\n",
      "Colunas após remoção de constantes e ID: ['Branch', 'City', 'Customer type', 'Gender', 'Product line', 'Unit price', 'Quantity', 'Tax 5%', 'Sales', 'Date', 'Time', 'Payment', 'cogs', 'gross income', 'Rating']\n"
     ]
    }
   ],
   "source": [
    "# Identificação de colunas com valor único (constantes)\n",
    "const_cols = [col for col in df.columns if df[col].nunique() <= 1]\n",
    "print(f\"\\nColunas constantes a serem removidas: {const_cols}\")\n",
    "\n",
    "# Adiciona colunas que não serão usadas na modelagem\n",
    "cols_to_drop = const_cols + ['Invoice ID'] \n",
    "\n",
    "df = df.drop(columns=cols_to_drop, axis=1)\n",
    "print(f\"\\nColunas após remoção de constantes e ID: {df.columns.tolist()}\")"
   ]
  },
  {
   "cell_type": "markdown",
   "id": "200eef34",
   "metadata": {
    "papermill": {
     "duration": 0.005781,
     "end_time": "2025-10-27T17:54:25.111476",
     "exception": false,
     "start_time": "2025-10-27T17:54:25.105695",
     "status": "completed"
    },
    "tags": []
   },
   "source": [
    "### Feature Engineering (Engenharia de Características)"
   ]
  },
  {
   "cell_type": "code",
   "execution_count": 8,
   "id": "46b1e12f",
   "metadata": {
    "execution": {
     "iopub.execute_input": "2025-10-27T17:54:25.124929Z",
     "iopub.status.busy": "2025-10-27T17:54:25.124612Z",
     "iopub.status.idle": "2025-10-27T17:54:25.195900Z",
     "shell.execute_reply": "2025-10-27T17:54:25.194870Z"
    },
    "papermill": {
     "duration": 0.079912,
     "end_time": "2025-10-27T17:54:25.197485",
     "exception": false,
     "start_time": "2025-10-27T17:54:25.117573",
     "status": "completed"
    },
    "tags": []
   },
   "outputs": [
    {
     "name": "stderr",
     "output_type": "stream",
     "text": [
      "C:\\Users\\Ramos\\AppData\\Local\\Temp\\ipykernel_9456\\3436956220.py:3: UserWarning: Could not infer format, so each element will be parsed individually, falling back to `dateutil`. To ensure parsing is consistent and as-expected, please specify a format.\n",
      "  df['Time'] = pd.to_datetime(df['Time'])\n"
     ]
    }
   ],
   "source": [
    "# Conversão para datetime\n",
    "df['Date'] = pd.to_datetime(df['Date'])\n",
    "df['Time'] = pd.to_datetime(df['Time'])\n",
    "\n",
    "# Extração de Features Temporais\n",
    "df['Year'] = df['Date'].dt.year\n",
    "df['MonthName'] = df['Date'].dt.strftime('%B')\n",
    "df['DayName'] = df['Date'].dt.strftime('%A')\n",
    "df['Hour'] = df['Time'].dt.hour\n",
    "df['TimeOfDay'] = pd.cut(df['Hour'], \n",
    "                         bins=[0, 12, 17, 21, 24], \n",
    "                         labels=['Morning', 'Afternoon', 'Evening', 'Night'], \n",
    "                         right=False)\n",
    "\n",
    "# Remoção das colunas originais de data e hora\n",
    "df = df.drop(columns=['Date', 'Time'])"
   ]
  },
  {
   "cell_type": "code",
   "execution_count": 9,
   "id": "884c4871",
   "metadata": {
    "execution": {
     "iopub.execute_input": "2025-10-27T17:54:25.211979Z",
     "iopub.status.busy": "2025-10-27T17:54:25.210893Z",
     "iopub.status.idle": "2025-10-27T17:54:25.217935Z",
     "shell.execute_reply": "2025-10-27T17:54:25.217063Z"
    },
    "papermill": {
     "duration": 0.015776,
     "end_time": "2025-10-27T17:54:25.219445",
     "exception": false,
     "start_time": "2025-10-27T17:54:25.203669",
     "status": "completed"
    },
    "tags": []
   },
   "outputs": [
    {
     "data": {
      "text/plain": [
       "Index(['Branch', 'City', 'Customer type', 'Gender', 'Product line',\n",
       "       'Unit price', 'Quantity', 'Tax 5%', 'Sales', 'Payment', 'cogs',\n",
       "       'gross income', 'Rating', 'Year', 'MonthName', 'DayName', 'Hour',\n",
       "       'TimeOfDay'],\n",
       "      dtype='object')"
      ]
     },
     "execution_count": 9,
     "metadata": {},
     "output_type": "execute_result"
    }
   ],
   "source": [
    "df.columns"
   ]
  },
  {
   "cell_type": "markdown",
   "id": "81dbce15",
   "metadata": {
    "papermill": {
     "duration": 0.006102,
     "end_time": "2025-10-27T17:54:25.232075",
     "exception": false,
     "start_time": "2025-10-27T17:54:25.225973",
     "status": "completed"
    },
    "tags": []
   },
   "source": [
    "### Análise Visual (EDA Aprofundada)\n",
    "\n",
    "Visualizações para entender como as variáveis categóricas se relacionam com o alvo (Sales)."
   ]
  },
  {
   "cell_type": "code",
   "execution_count": null,
   "id": "3e2b2f94",
   "metadata": {
    "execution": {
     "iopub.execute_input": "2025-10-27T17:54:25.245916Z",
     "iopub.status.busy": "2025-10-27T17:54:25.245146Z",
     "iopub.status.idle": "2025-10-27T17:54:26.226429Z",
     "shell.execute_reply": "2025-10-27T17:54:26.225431Z"
    },
    "papermill": {
     "duration": 0.989761,
     "end_time": "2025-10-27T17:54:26.227871",
     "exception": false,
     "start_time": "2025-10-27T17:54:25.238110",
     "status": "completed"
    },
    "tags": []
   },
   "outputs": [
    {
     "name": "stderr",
     "output_type": "stream",
     "text": [
      "<>:8: SyntaxWarning: invalid escape sequence '\\D'\n",
      "<>:18: SyntaxWarning: invalid escape sequence '\\D'\n",
      "<>:27: SyntaxWarning: invalid escape sequence '\\D'\n",
      "<>:36: SyntaxWarning: invalid escape sequence '\\D'\n",
      "<>:8: SyntaxWarning: invalid escape sequence '\\D'\n",
      "<>:18: SyntaxWarning: invalid escape sequence '\\D'\n",
      "<>:27: SyntaxWarning: invalid escape sequence '\\D'\n",
      "<>:36: SyntaxWarning: invalid escape sequence '\\D'\n",
      "C:\\Users\\Ramos\\AppData\\Local\\Temp\\ipykernel_9456\\826498689.py:8: SyntaxWarning: invalid escape sequence '\\D'\n",
      "  plt.savefig(\"D:\\Documentos\\VsCode\\projetos_git\\supermarket sales\\outputs\\Distribuição da Receita.png\")\n",
      "C:\\Users\\Ramos\\AppData\\Local\\Temp\\ipykernel_9456\\826498689.py:18: SyntaxWarning: invalid escape sequence '\\D'\n",
      "  plt.savefig(\"D:\\Documentos\\VsCode\\projetos_git\\supermarket sales\\outputs\\Sales por Linha de Produto.png\")\n",
      "C:\\Users\\Ramos\\AppData\\Local\\Temp\\ipykernel_9456\\826498689.py:27: SyntaxWarning: invalid escape sequence '\\D'\n",
      "  plt.savefig(\"D:\\Documentos\\VsCode\\projetos_git\\supermarket sales\\outputs\\Sales por Período do Dia.png\")\n",
      "C:\\Users\\Ramos\\AppData\\Local\\Temp\\ipykernel_9456\\826498689.py:36: SyntaxWarning: invalid escape sequence '\\D'\n",
      "  plt.savefig(\"D:\\Documentos\\VsCode\\projetos_git\\supermarket sales\\outputs\\Sales por Cidade (Filial).png\")\n"
     ]
    },
    {
     "data": {
      "image/png": "[encoded data removed]",
      "text/plain": [
       "<Figure size 800x500 with 1 Axes>"
      ]
     },
     "metadata": {},
     "output_type": "display_data"
    },
    {
     "data": {
      "text/plain": [
       "<Figure size 640x480 with 0 Axes>"
      ]
     },
     "metadata": {},
     "output_type": "display_data"
    },
    {
     "data": {
      "image/png": "[encoded data removed]",
      "text/plain": [
       "<Figure size 1200x600 with 1 Axes>"
      ]
     },
     "metadata": {},
     "output_type": "display_data"
    },
    {
     "data": {
      "text/plain": [
       "<Figure size 640x480 with 0 Axes>"
      ]
     },
     "metadata": {},
     "output_type": "display_data"
    },
    {
     "data": {
      "image/png": "[encoded data removed]",
      "text/plain": [
       "<Figure size 800x500 with 1 Axes>"
      ]
     },
     "metadata": {},
     "output_type": "display_data"
    },
    {
     "data": {
      "text/plain": [
       "<Figure size 640x480 with 0 Axes>"
      ]
     },
     "metadata": {},
     "output_type": "display_data"
    },
    {
     "data": {
      "image/png": "[encoded data removed]",
      "text/plain": [
       "<Figure size 800x500 with 1 Axes>"
      ]
     },
     "metadata": {},
     "output_type": "display_data"
    },
    {
     "data": {
      "text/plain": [
       "<Figure size 640x480 with 0 Axes>"
      ]
     },
     "metadata": {},
     "output_type": "display_data"
    }
   ],
   "source": [
    "# Distribution of the target variable\n",
    "plt.figure(figsize=(8, 5))\n",
    "sns.histplot(df['Sales'], kde=True)\n",
    "plt.title('Distribution of Revenue (Sales)')\n",
    "plt.show()\n",
    "\n",
    "# Save graph\n",
    "plt.savefig(\"outputs\\Distribuição da Receita.png\")\n",
    "\n",
    "# Relationship between product line and price (Sales)\n",
    "plt.figure(figsize=(12, 6))\n",
    "sns.boxplot(x='Product line', y='Sales', data=df)\n",
    "plt.title('Sales by Product Line')\n",
    "plt.xticks(rotation=45, ha='right')\n",
    "plt.show()\n",
    "\n",
    "# Save graph\n",
    "plt.savefig(\"outputs\\Sales por Linha de Produto.png\")\n",
    "\n",
    "# Relationship between time of day and price (Sales)\n",
    "plt.figure(figsize=(8, 5))\n",
    "sns.boxplot(x='TimeOfDay', y='Sales', data=df, order=['Morning', 'Afternoon', 'Evening', 'Night'])\n",
    "plt.title('Sales by Time of Day')\n",
    "plt.show()\n",
    "\n",
    "# Save graph\n",
    "plt.savefig(\"outputs\\Sales por Período do Dia.png\")\n",
    "\n",
    "# Relationship between city and price (Sales)\n",
    "plt.figure(figsize=(8, 5))\n",
    "sns.boxplot(x='City', y='Sales', data=df)\n",
    "plt.title('Sales by City (Branch)')\n",
    "plt.show()\n",
    "\n",
    "# Save graph\n",
    "plt.savefig(\"outputs\\Sales por Cidade (Filial).png\")"
   ]
  },
  {
   "cell_type": "markdown",
   "id": "04e9c3aa",
   "metadata": {
    "papermill": {
     "duration": 0.008773,
     "end_time": "2025-10-27T17:54:26.246630",
     "exception": false,
     "start_time": "2025-10-27T17:54:26.237857",
     "status": "completed"
    },
    "tags": []
   },
   "source": [
    "### Pré-processamento Final e Divisão dos Dados\n",
    "\n",
    "Codificação One-Hot para variáveis categóricas e divisão em conjuntos de treino e teste."
   ]
  },
  {
   "cell_type": "code",
   "execution_count": 11,
   "id": "ed44edec",
   "metadata": {
    "execution": {
     "iopub.execute_input": "2025-10-27T17:54:26.265273Z",
     "iopub.status.busy": "2025-10-27T17:54:26.264924Z",
     "iopub.status.idle": "2025-10-27T17:54:26.270787Z",
     "shell.execute_reply": "2025-10-27T17:54:26.269803Z"
    },
    "papermill": {
     "duration": 0.016799,
     "end_time": "2025-10-27T17:54:26.272115",
     "exception": false,
     "start_time": "2025-10-27T17:54:26.255316",
     "status": "completed"
    },
    "tags": []
   },
   "outputs": [
    {
     "data": {
      "text/plain": [
       "Index(['Branch', 'City', 'Customer type', 'Gender', 'Product line',\n",
       "       'Unit price', 'Quantity', 'Tax 5%', 'Sales', 'Payment', 'cogs',\n",
       "       'gross income', 'Rating', 'Year', 'MonthName', 'DayName', 'Hour',\n",
       "       'TimeOfDay'],\n",
       "      dtype='object')"
      ]
     },
     "execution_count": 11,
     "metadata": {},
     "output_type": "execute_result"
    }
   ],
   "source": [
    "df.columns"
   ]
  },
  {
   "cell_type": "code",
   "execution_count": 12,
   "id": "7ae234d5",
   "metadata": {
    "execution": {
     "iopub.execute_input": "2025-10-27T17:54:26.291418Z",
     "iopub.status.busy": "2025-10-27T17:54:26.290547Z",
     "iopub.status.idle": "2025-10-27T17:54:26.315572Z",
     "shell.execute_reply": "2025-10-27T17:54:26.314536Z"
    },
    "papermill": {
     "duration": 0.036165,
     "end_time": "2025-10-27T17:54:26.317172",
     "exception": false,
     "start_time": "2025-10-27T17:54:26.281007",
     "status": "completed"
    },
    "tags": []
   },
   "outputs": [
    {
     "data": {
      "application/vnd.microsoft.datawrangler.viewer.v0+json": {
       "columns": [
        {
         "name": "index",
         "rawType": "int64",
         "type": "integer"
        },
        {
         "name": "City",
         "rawType": "object",
         "type": "string"
        },
        {
         "name": "Customer type",
         "rawType": "object",
         "type": "string"
        },
        {
         "name": "Gender",
         "rawType": "object",
         "type": "string"
        },
        {
         "name": "Product line",
         "rawType": "object",
         "type": "string"
        },
        {
         "name": "Unit price",
         "rawType": "float64",
         "type": "float"
        },
        {
         "name": "Quantity",
         "rawType": "int64",
         "type": "integer"
        },
        {
         "name": "Tax 5%",
         "rawType": "float64",
         "type": "float"
        },
        {
         "name": "Sales",
         "rawType": "float64",
         "type": "float"
        },
        {
         "name": "Payment",
         "rawType": "object",
         "type": "string"
        },
        {
         "name": "cogs",
         "rawType": "float64",
         "type": "float"
        },
        {
         "name": "gross income",
         "rawType": "float64",
         "type": "float"
        },
        {
         "name": "Rating",
         "rawType": "float64",
         "type": "float"
        },
        {
         "name": "Year",
         "rawType": "int32",
         "type": "integer"
        },
        {
         "name": "MonthName",
         "rawType": "object",
         "type": "string"
        },
        {
         "name": "DayName",
         "rawType": "object",
         "type": "string"
        },
        {
         "name": "Hour",
         "rawType": "int32",
         "type": "integer"
        },
        {
         "name": "TimeOfDay",
         "rawType": "category",
         "type": "unknown"
        }
       ],
       "ref": "035fc626-1b82-4aca-9473-798a86668bd8",
       "rows": [
        [
         "0",
         "Yangon",
         "Member",
         "Female",
         "Health and beauty",
         "74.69",
         "7",
         "26.1415",
         "548.9715",
         "Ewallet",
         "522.83",
         "26.1415",
         "9.1",
         "2019",
         "January",
         "Saturday",
         "13",
         "Afternoon"
        ],
        [
         "1",
         "Naypyitaw",
         "Normal",
         "Female",
         "Electronic accessories",
         "15.28",
         "5",
         "3.82",
         "80.22",
         "Cash",
         "76.4",
         "3.82",
         "9.6",
         "2019",
         "March",
         "Friday",
         "10",
         "Morning"
        ],
        [
         "2",
         "Yangon",
         "Normal",
         "Female",
         "Home and lifestyle",
         "46.33",
         "7",
         "16.2155",
         "340.5255",
         "Credit card",
         "324.31",
         "16.2155",
         "7.4",
         "2019",
         "March",
         "Sunday",
         "13",
         "Afternoon"
        ],
        [
         "3",
         "Yangon",
         "Member",
         "Female",
         "Health and beauty",
         "58.22",
         "8",
         "23.288",
         "489.048",
         "Ewallet",
         "465.76",
         "23.288",
         "8.4",
         "2019",
         "January",
         "Sunday",
         "20",
         "Evening"
        ],
        [
         "4",
         "Yangon",
         "Member",
         "Female",
         "Sports and travel",
         "86.31",
         "7",
         "30.2085",
         "634.3785",
         "Ewallet",
         "604.17",
         "30.2085",
         "5.3",
         "2019",
         "February",
         "Friday",
         "10",
         "Morning"
        ]
       ],
       "shape": {
        "columns": 17,
        "rows": 5
       }
      },
      "text/html": [
       "<div>\n",
       "<style scoped>\n",
       "    .dataframe tbody tr th:only-of-type {\n",
       "        vertical-align: middle;\n",
       "    }\n",
       "\n",
       "    .dataframe tbody tr th {\n",
       "        vertical-align: top;\n",
       "    }\n",
       "\n",
       "    .dataframe thead th {\n",
       "        text-align: right;\n",
       "    }\n",
       "</style>\n",
       "<table border=\"1\" class=\"dataframe\">\n",
       "  <thead>\n",
       "    <tr style=\"text-align: right;\">\n",
       "      <th></th>\n",
       "      <th>City</th>\n",
       "      <th>Customer type</th>\n",
       "      <th>Gender</th>\n",
       "      <th>Product line</th>\n",
       "      <th>Unit price</th>\n",
       "      <th>Quantity</th>\n",
       "      <th>Tax 5%</th>\n",
       "      <th>Sales</th>\n",
       "      <th>Payment</th>\n",
       "      <th>cogs</th>\n",
       "      <th>gross income</th>\n",
       "      <th>Rating</th>\n",
       "      <th>Year</th>\n",
       "      <th>MonthName</th>\n",
       "      <th>DayName</th>\n",
       "      <th>Hour</th>\n",
       "      <th>TimeOfDay</th>\n",
       "    </tr>\n",
       "  </thead>\n",
       "  <tbody>\n",
       "    <tr>\n",
       "      <th>0</th>\n",
       "      <td>Yangon</td>\n",
       "      <td>Member</td>\n",
       "      <td>Female</td>\n",
       "      <td>Health and beauty</td>\n",
       "      <td>74.69</td>\n",
       "      <td>7</td>\n",
       "      <td>26.1415</td>\n",
       "      <td>548.9715</td>\n",
       "      <td>Ewallet</td>\n",
       "      <td>522.83</td>\n",
       "      <td>26.1415</td>\n",
       "      <td>9.1</td>\n",
       "      <td>2019</td>\n",
       "      <td>January</td>\n",
       "      <td>Saturday</td>\n",
       "      <td>13</td>\n",
       "      <td>Afternoon</td>\n",
       "    </tr>\n",
       "    <tr>\n",
       "      <th>1</th>\n",
       "      <td>Naypyitaw</td>\n",
       "      <td>Normal</td>\n",
       "      <td>Female</td>\n",
       "      <td>Electronic accessories</td>\n",
       "      <td>15.28</td>\n",
       "      <td>5</td>\n",
       "      <td>3.8200</td>\n",
       "      <td>80.2200</td>\n",
       "      <td>Cash</td>\n",
       "      <td>76.40</td>\n",
       "      <td>3.8200</td>\n",
       "      <td>9.6</td>\n",
       "      <td>2019</td>\n",
       "      <td>March</td>\n",
       "      <td>Friday</td>\n",
       "      <td>10</td>\n",
       "      <td>Morning</td>\n",
       "    </tr>\n",
       "    <tr>\n",
       "      <th>2</th>\n",
       "      <td>Yangon</td>\n",
       "      <td>Normal</td>\n",
       "      <td>Female</td>\n",
       "      <td>Home and lifestyle</td>\n",
       "      <td>46.33</td>\n",
       "      <td>7</td>\n",
       "      <td>16.2155</td>\n",
       "      <td>340.5255</td>\n",
       "      <td>Credit card</td>\n",
       "      <td>324.31</td>\n",
       "      <td>16.2155</td>\n",
       "      <td>7.4</td>\n",
       "      <td>2019</td>\n",
       "      <td>March</td>\n",
       "      <td>Sunday</td>\n",
       "      <td>13</td>\n",
       "      <td>Afternoon</td>\n",
       "    </tr>\n",
       "    <tr>\n",
       "      <th>3</th>\n",
       "      <td>Yangon</td>\n",
       "      <td>Member</td>\n",
       "      <td>Female</td>\n",
       "      <td>Health and beauty</td>\n",
       "      <td>58.22</td>\n",
       "      <td>8</td>\n",
       "      <td>23.2880</td>\n",
       "      <td>489.0480</td>\n",
       "      <td>Ewallet</td>\n",
       "      <td>465.76</td>\n",
       "      <td>23.2880</td>\n",
       "      <td>8.4</td>\n",
       "      <td>2019</td>\n",
       "      <td>January</td>\n",
       "      <td>Sunday</td>\n",
       "      <td>20</td>\n",
       "      <td>Evening</td>\n",
       "    </tr>\n",
       "    <tr>\n",
       "      <th>4</th>\n",
       "      <td>Yangon</td>\n",
       "      <td>Member</td>\n",
       "      <td>Female</td>\n",
       "      <td>Sports and travel</td>\n",
       "      <td>86.31</td>\n",
       "      <td>7</td>\n",
       "      <td>30.2085</td>\n",
       "      <td>634.3785</td>\n",
       "      <td>Ewallet</td>\n",
       "      <td>604.17</td>\n",
       "      <td>30.2085</td>\n",
       "      <td>5.3</td>\n",
       "      <td>2019</td>\n",
       "      <td>February</td>\n",
       "      <td>Friday</td>\n",
       "      <td>10</td>\n",
       "      <td>Morning</td>\n",
       "    </tr>\n",
       "  </tbody>\n",
       "</table>\n",
       "</div>"
      ],
      "text/plain": [
       "        City Customer type  Gender            Product line  Unit price  \\\n",
       "0     Yangon        Member  Female       Health and beauty       74.69   \n",
       "1  Naypyitaw        Normal  Female  Electronic accessories       15.28   \n",
       "2     Yangon        Normal  Female      Home and lifestyle       46.33   \n",
       "3     Yangon        Member  Female       Health and beauty       58.22   \n",
       "4     Yangon        Member  Female       Sports and travel       86.31   \n",
       "\n",
       "   Quantity   Tax 5%     Sales      Payment    cogs  gross income  Rating  \\\n",
       "0         7  26.1415  548.9715      Ewallet  522.83       26.1415     9.1   \n",
       "1         5   3.8200   80.2200         Cash   76.40        3.8200     9.6   \n",
       "2         7  16.2155  340.5255  Credit card  324.31       16.2155     7.4   \n",
       "3         8  23.2880  489.0480      Ewallet  465.76       23.2880     8.4   \n",
       "4         7  30.2085  634.3785      Ewallet  604.17       30.2085     5.3   \n",
       "\n",
       "   Year MonthName   DayName  Hour  TimeOfDay  \n",
       "0  2019   January  Saturday    13  Afternoon  \n",
       "1  2019     March    Friday    10    Morning  \n",
       "2  2019     March    Sunday    13  Afternoon  \n",
       "3  2019   January    Sunday    20    Evening  \n",
       "4  2019  February    Friday    10    Morning  "
      ]
     },
     "execution_count": 12,
     "metadata": {},
     "output_type": "execute_result"
    }
   ],
   "source": [
    "df = df.drop(columns=['Branch'])\n",
    "\n",
    "\n",
    "df.head(5)"
   ]
  },
  {
   "cell_type": "code",
   "execution_count": 13,
   "id": "5d692d8a",
   "metadata": {
    "execution": {
     "iopub.execute_input": "2025-10-27T17:54:26.337487Z",
     "iopub.status.busy": "2025-10-27T17:54:26.336767Z",
     "iopub.status.idle": "2025-10-27T17:54:26.350471Z",
     "shell.execute_reply": "2025-10-27T17:54:26.349296Z"
    },
    "papermill": {
     "duration": 0.025523,
     "end_time": "2025-10-27T17:54:26.352153",
     "exception": false,
     "start_time": "2025-10-27T17:54:26.326630",
     "status": "completed"
    },
    "tags": []
   },
   "outputs": [],
   "source": [
    "# One-Hot Encoding\n",
    "df = pd.get_dummies(df, drop_first=True)\n",
    "\n"
   ]
  },
  {
   "cell_type": "code",
   "execution_count": null,
   "id": "d0709f5f",
   "metadata": {
    "execution": {
     "iopub.execute_input": "2025-10-27T17:54:26.372048Z",
     "iopub.status.busy": "2025-10-27T17:54:26.371751Z",
     "iopub.status.idle": "2025-10-27T17:54:26.697180Z",
     "shell.execute_reply": "2025-10-27T17:54:26.696259Z"
    },
    "papermill": {
     "duration": 0.337672,
     "end_time": "2025-10-27T17:54:26.699051",
     "exception": false,
     "start_time": "2025-10-27T17:54:26.361379",
     "status": "completed"
    },
    "tags": []
   },
   "outputs": [
    {
     "name": "stderr",
     "output_type": "stream",
     "text": [
      "<>:28: SyntaxWarning: invalid escape sequence '\\D'\n",
      "<>:28: SyntaxWarning: invalid escape sequence '\\D'\n",
      "C:\\Users\\Ramos\\AppData\\Local\\Temp\\ipykernel_9456\\622215957.py:28: SyntaxWarning: invalid escape sequence '\\D'\n",
      "  plt.savefig(\"D:\\Documentos\\VsCode\\projetos_git\\supermarket sales\\outputs\\Top 20 Correlations with the Target Variable (Sales) After One-Hot Encoding.png\")\n",
      "C:\\Users\\Ramos\\AppData\\Local\\Temp\\ipykernel_9456\\622215957.py:21: FutureWarning: \n",
      "\n",
      "Passing `palette` without assigning `hue` is deprecated and will be removed in v0.14.0. Assign the `y` variable to `hue` and set `legend=False` for the same effect.\n",
      "\n",
      "  sns.barplot(x=top_20_corr.values, y=top_20_corr.index, palette=colors)\n"
     ]
    },
    {
     "data": {
      "image/png": "[encoded data removed]",
      "text/plain": [
       "<Figure size 1000x800 with 1 Axes>"
      ]
     },
     "metadata": {},
     "output_type": "display_data"
    },
    {
     "data": {
      "text/plain": [
       "<Figure size 640x480 with 0 Axes>"
      ]
     },
     "metadata": {},
     "output_type": "display_data"
    }
   ],
   "source": [
    "# Assuming 'df' is your DataFrame after pd.get_dummies()\n",
    "\n",
    "# 1. Calculate the correlation of all columns with 'Sales'\n",
    "correlation_with_target = df.corr()['Sales'].sort_values(ascending=False)\n",
    "\n",
    "# 2. Remove the correlation of 'Sales' with itself\n",
    "correlation_with_target = correlation_with_target.drop('Sales')\n",
    "\n",
    "# 3. Visualize the TOP 20 Features (the most correlated, positively and negatively)\n",
    "# We combine the 10 most positive and the 10 most negative (ignoring Sales itself)\n",
    "top_positive = correlation_with_target.head(10)\n",
    "top_negative = correlation_with_target.tail(10)\n",
    "\n",
    "# Combine and sort for plotting\n",
    "top_20_corr = pd.concat([top_positive, top_negative]).sort_values(ascending=False)\n",
    "\n",
    "# Plotting\n",
    "plt.figure(figsize=(10, 8))\n",
    "# We use the color of the coefficient (positive or negative)\n",
    "colors = ['red' if c < 0 else 'blue' for c in top_20_corr.values]\n",
    "sns.barplot(x=top_20_corr.values, y=top_20_corr.index, palette=colors)\n",
    "plt.title('Top 20 Correlations with the Target Variable (Sales) After One-Hot Encoding')\n",
    "plt.xlabel('Correlation Coefficient')\n",
    "plt.ylabel('Feature')\n",
    "plt.show()\n",
    "\n",
    "# Save plot\n",
    "plt.savefig(\"outputs\\Top 20 Correlations with the Target Variable (Sales) After One-Hot Encoding.png\")"
   ]
  },
  {
   "cell_type": "code",
   "execution_count": 15,
   "id": "c2abcd6a",
   "metadata": {
    "execution": {
     "iopub.execute_input": "2025-10-27T17:54:26.721544Z",
     "iopub.status.busy": "2025-10-27T17:54:26.721171Z",
     "iopub.status.idle": "2025-10-27T17:54:26.727055Z",
     "shell.execute_reply": "2025-10-27T17:54:26.726189Z"
    },
    "papermill": {
     "duration": 0.018393,
     "end_time": "2025-10-27T17:54:26.728443",
     "exception": false,
     "start_time": "2025-10-27T17:54:26.710050",
     "status": "completed"
    },
    "tags": []
   },
   "outputs": [
    {
     "data": {
      "text/plain": [
       "Index(['Unit price', 'Quantity', 'Tax 5%', 'Sales', 'cogs', 'gross income',\n",
       "       'Rating', 'Year', 'Hour', 'City_Naypyitaw', 'City_Yangon',\n",
       "       'Customer type_Normal', 'Gender_Male',\n",
       "       'Product line_Fashion accessories', 'Product line_Food and beverages',\n",
       "       'Product line_Health and beauty', 'Product line_Home and lifestyle',\n",
       "       'Product line_Sports and travel', 'Payment_Credit card',\n",
       "       'Payment_Ewallet', 'MonthName_January', 'MonthName_March',\n",
       "       'DayName_Monday', 'DayName_Saturday', 'DayName_Sunday',\n",
       "       'DayName_Thursday', 'DayName_Tuesday', 'DayName_Wednesday',\n",
       "       'TimeOfDay_Afternoon', 'TimeOfDay_Evening', 'TimeOfDay_Night'],\n",
       "      dtype='object')"
      ]
     },
     "execution_count": 15,
     "metadata": {},
     "output_type": "execute_result"
    }
   ],
   "source": [
    "df.columns"
   ]
  },
  {
   "cell_type": "code",
   "execution_count": 16,
   "id": "07efc171",
   "metadata": {
    "execution": {
     "iopub.execute_input": "2025-10-27T17:54:26.750996Z",
     "iopub.status.busy": "2025-10-27T17:54:26.750161Z",
     "iopub.status.idle": "2025-10-27T17:54:26.757316Z",
     "shell.execute_reply": "2025-10-27T17:54:26.756441Z"
    },
    "papermill": {
     "duration": 0.019984,
     "end_time": "2025-10-27T17:54:26.758813",
     "exception": false,
     "start_time": "2025-10-27T17:54:26.738829",
     "status": "completed"
    },
    "tags": []
   },
   "outputs": [],
   "source": [
    "df = df.drop(columns=['Unit price', 'Quantity', 'Tax 5%','cogs', 'gross income'])"
   ]
  },
  {
   "cell_type": "code",
   "execution_count": 17,
   "id": "c115338c",
   "metadata": {
    "execution": {
     "iopub.execute_input": "2025-10-27T17:54:26.781283Z",
     "iopub.status.busy": "2025-10-27T17:54:26.780630Z",
     "iopub.status.idle": "2025-10-27T17:54:26.786747Z",
     "shell.execute_reply": "2025-10-27T17:54:26.785760Z"
    },
    "papermill": {
     "duration": 0.018837,
     "end_time": "2025-10-27T17:54:26.788140",
     "exception": false,
     "start_time": "2025-10-27T17:54:26.769303",
     "status": "completed"
    },
    "tags": []
   },
   "outputs": [],
   "source": [
    "\n",
    "# Definição de X (features) e y (target)\n",
    "X = df.drop('Sales', axis=1)\n",
    "y = df['Sales']"
   ]
  },
  {
   "cell_type": "code",
   "execution_count": 18,
   "id": "35930eaf",
   "metadata": {
    "execution": {
     "iopub.execute_input": "2025-10-27T17:54:26.810881Z",
     "iopub.status.busy": "2025-10-27T17:54:26.810244Z",
     "iopub.status.idle": "2025-10-27T17:54:26.818348Z",
     "shell.execute_reply": "2025-10-27T17:54:26.817397Z"
    },
    "papermill": {
     "duration": 0.021221,
     "end_time": "2025-10-27T17:54:26.819929",
     "exception": false,
     "start_time": "2025-10-27T17:54:26.798708",
     "status": "completed"
    },
    "tags": []
   },
   "outputs": [],
   "source": [
    "# Divisão em treino e teste\n",
    "X_train, X_test, y_train, y_test = train_test_split(X, y, \n",
    "                                                    test_size=0.2, \n",
    "                                                    random_state=42)"
   ]
  },
  {
   "cell_type": "markdown",
   "id": "f64e8630",
   "metadata": {
    "papermill": {
     "duration": 0.010033,
     "end_time": "2025-10-27T17:54:26.840816",
     "exception": false,
     "start_time": "2025-10-27T17:54:26.830783",
     "status": "completed"
    },
    "tags": []
   },
   "source": [
    "### Modelagem Preditiva com Otimização (XGBoost)\n",
    "\n",
    "Aplicação de RandomizedSearchCV para encontrar a melhor combinação de hiperparâmetros para o XGBRegressor, garantindo um modelo mais robusto."
   ]
  },
  {
   "cell_type": "code",
   "execution_count": 19,
   "id": "5ca496e1",
   "metadata": {
    "execution": {
     "iopub.execute_input": "2025-10-27T17:54:26.862561Z",
     "iopub.status.busy": "2025-10-27T17:54:26.862259Z",
     "iopub.status.idle": "2025-10-27T17:54:32.081874Z",
     "shell.execute_reply": "2025-10-27T17:54:32.080753Z"
    },
    "papermill": {
     "duration": 5.232338,
     "end_time": "2025-10-27T17:54:32.083441",
     "exception": false,
     "start_time": "2025-10-27T17:54:26.851103",
     "status": "completed"
    },
    "tags": []
   },
   "outputs": [
    {
     "name": "stdout",
     "output_type": "stream",
     "text": [
      "\n",
      "Iniciando Randomized Search para otimização de hiperparâmetros...\n",
      "Fitting 3 folds for each of 20 candidates, totalling 60 fits\n",
      "\n",
      "Melhores Hiperparâmetros encontrados:\n",
      "{'subsample': 0.9, 'n_estimators': 100, 'max_depth': 3, 'learning_rate': 0.01, 'colsample_bytree': 0.9}\n"
     ]
    }
   ],
   "source": [
    "# Definição do modelo\n",
    "xgb_model = XGBRegressor(random_state=42)\n",
    "\n",
    "# Grid de parâmetros para otimização (apenas alguns exemplos)\n",
    "param_dist = {\n",
    "    'n_estimators': [100, 200, 300],\n",
    "    'learning_rate': [0.01, 0.05, 0.1],\n",
    "    'max_depth': [3, 5, 7],\n",
    "    'subsample': [0.7, 0.9, 1.0],\n",
    "    'colsample_bytree': [0.7, 0.9, 1.0]\n",
    "}\n",
    "\n",
    "# Inicialização do Randomized Search\n",
    "# n_iter=20 significa que 20 combinações aleatórias serão testadas\n",
    "random_search = RandomizedSearchCV(estimator=xgb_model, \n",
    "                                   param_distributions=param_dist, \n",
    "                                   n_iter=20, \n",
    "                                   scoring='neg_mean_squared_error', \n",
    "                                   cv=3, \n",
    "                                   verbose=1, \n",
    "                                   random_state=42, \n",
    "                                   n_jobs=-1)\n",
    "\n",
    "# Treinamento do modelo otimizado\n",
    "print(\"\\nIniciando Randomized Search para otimização de hiperparâmetros...\")\n",
    "random_search.fit(X_train, y_train)\n",
    "\n",
    "# Melhor modelo\n",
    "best_xgb = random_search.best_estimator_\n",
    "\n",
    "print(\"\\nMelhores Hiperparâmetros encontrados:\")\n",
    "print(random_search.best_params_)"
   ]
  },
  {
   "cell_type": "markdown",
   "id": "ffe84b17",
   "metadata": {
    "papermill": {
     "duration": 0.010311,
     "end_time": "2025-10-27T17:54:32.104424",
     "exception": false,
     "start_time": "2025-10-27T17:54:32.094113",
     "status": "completed"
    },
    "tags": []
   },
   "source": [
    "###  Avaliação e Interpretação do Modelo"
   ]
  },
  {
   "cell_type": "code",
   "execution_count": 20,
   "id": "f7bcc9ad",
   "metadata": {
    "execution": {
     "iopub.execute_input": "2025-10-27T17:54:32.127329Z",
     "iopub.status.busy": "2025-10-27T17:54:32.126381Z",
     "iopub.status.idle": "2025-10-27T17:54:32.139769Z",
     "shell.execute_reply": "2025-10-27T17:54:32.138141Z"
    },
    "papermill": {
     "duration": 0.026269,
     "end_time": "2025-10-27T17:54:32.141174",
     "exception": false,
     "start_time": "2025-10-27T17:54:32.114905",
     "status": "completed"
    },
    "tags": []
   },
   "outputs": [
    {
     "name": "stdout",
     "output_type": "stream",
     "text": [
      " Avaliação do Melhor Modelo XGBoost (Após Tuning) \n",
      "\n",
      "MSE: 65623.00\n",
      "R: -0.0087\n",
      "MAE: 210.82\n"
     ]
    }
   ],
   "source": [
    "# Predição com o melhor modelo\n",
    "y_pred = best_xgb.predict(X_test)\n",
    "\n",
    "# Cálculo das métricas\n",
    "mse = mean_squared_error(y_test, y_pred)\n",
    "r2 = r2_score(y_test, y_pred)\n",
    "mae = mean_absolute_error(y_test, y_pred)\n",
    "\n",
    "print(\" Avaliação do Melhor Modelo XGBoost (Após Tuning) \\n\")\n",
    "print(f\"MSE: {mse:.2f}\")\n",
    "print(f\"R: {r2:.4f}\")\n",
    "print(f\"MAE: {mae:.2f}\")\n",
    "\n",
    "# Observação: Espera-se que o R² seja significativamente menor que 0.90, mas isso \n",
    "# reflete a complexidade real da previsão, sem a ajuda de features vazadas."
   ]
  },
  {
   "cell_type": "code",
   "execution_count": 21,
   "id": "cf51f294",
   "metadata": {
    "execution": {
     "iopub.execute_input": "2025-10-27T17:54:32.163299Z",
     "iopub.status.busy": "2025-10-27T17:54:32.162949Z",
     "iopub.status.idle": "2025-10-27T17:54:32.256079Z",
     "shell.execute_reply": "2025-10-27T17:54:32.254990Z"
    },
    "papermill": {
     "duration": 0.106033,
     "end_time": "2025-10-27T17:54:32.257621",
     "exception": false,
     "start_time": "2025-10-27T17:54:32.151588",
     "status": "completed"
    },
    "tags": []
   },
   "outputs": [
    {
     "name": "stdout",
     "output_type": "stream",
     "text": [
      "MSE: 65406.2414260815\n",
      "R²: -0.0053\n",
      "MAE: 209.771352\n"
     ]
    }
   ],
   "source": [
    "model = LassoCV()\n",
    "# Treinando o modelo\n",
    "\n",
    "model.fit(X_train, y_train)\n",
    "\n",
    "\n",
    "y_pred = model.predict(X_test)\n",
    "\n",
    "\n",
    "MSE_LassoCV = mean_squared_error(y_test, y_pred)\n",
    "\n",
    "print(f'MSE: {MSE_LassoCV}')\n",
    "\n",
    "R2_LassoCV = r2_score(y_test, y_pred)\n",
    "print(f'R²: {R2_LassoCV:.4f}')\n",
    "\n",
    "\n",
    "MAE_LassoCV = mean_absolute_error(y_test, y_pred)\n",
    "print(f'MAE: {MAE_LassoCV}')"
   ]
  },
  {
   "cell_type": "code",
   "execution_count": 22,
   "id": "776f15c8",
   "metadata": {
    "execution": {
     "iopub.execute_input": "2025-10-27T17:54:32.280873Z",
     "iopub.status.busy": "2025-10-27T17:54:32.280570Z",
     "iopub.status.idle": "2025-10-27T17:54:32.313414Z",
     "shell.execute_reply": "2025-10-27T17:54:32.312431Z"
    },
    "papermill": {
     "duration": 0.046866,
     "end_time": "2025-10-27T17:54:32.315336",
     "exception": false,
     "start_time": "2025-10-27T17:54:32.268470",
     "status": "completed"
    },
    "tags": []
   },
   "outputs": [
    {
     "name": "stdout",
     "output_type": "stream",
     "text": [
      "MSE: 68049.2807611281\n",
      "R²: -0.0460\n",
      "MAE: 214.8769976191942\n"
     ]
    }
   ],
   "source": [
    "model = LinearRegression()\n",
    "# Treinando o modelo\n",
    "\n",
    "model.fit(X_train, y_train)\n",
    "\n",
    "\n",
    "y_pred = model.predict(X_test)\n",
    "\n",
    "\n",
    "MSE_LinearRegression = mean_squared_error(y_test, y_pred)\n",
    "\n",
    "print(f'MSE: {MSE_LinearRegression}')\n",
    "\n",
    "R2_LinearRegression = r2_score(y_test, y_pred)\n",
    "print(f'R²: {R2_LinearRegression:.4f}')\n",
    "\n",
    "\n",
    "MAE_LinearRegression = mean_absolute_error(y_test, y_pred)\n",
    "print(f'MAE: {MAE_LinearRegression}')"
   ]
  },
  {
   "cell_type": "markdown",
   "id": "52bb65f1",
   "metadata": {
    "papermill": {
     "duration": 0.01815,
     "end_time": "2025-10-27T17:54:32.351140",
     "exception": false,
     "start_time": "2025-10-27T17:54:32.332990",
     "status": "completed"
    },
    "tags": []
   },
   "source": [
    "### Interpretação das Features (Permutation Importance)\n",
    "\n",
    "Plotagem mais clara dos resultados de permutation importance.\n"
   ]
  },
  {
   "cell_type": "code",
   "execution_count": null,
   "id": "5c6ff964",
   "metadata": {
    "execution": {
     "iopub.execute_input": "2025-10-27T17:54:32.389262Z",
     "iopub.status.busy": "2025-10-27T17:54:32.388279Z",
     "iopub.status.idle": "2025-10-27T17:54:33.287141Z",
     "shell.execute_reply": "2025-10-27T17:54:33.286192Z"
    },
    "papermill": {
     "duration": 0.919507,
     "end_time": "2025-10-27T17:54:33.288585",
     "exception": false,
     "start_time": "2025-10-27T17:54:32.369078",
     "status": "completed"
    },
    "tags": []
   },
   "outputs": [
    {
     "name": "stderr",
     "output_type": "stream",
     "text": [
      "<>:24: SyntaxWarning: invalid escape sequence '\\D'\n",
      "<>:24: SyntaxWarning: invalid escape sequence '\\D'\n",
      "C:\\Users\\Ramos\\AppData\\Local\\Temp\\ipykernel_9456\\3881838044.py:24: SyntaxWarning: invalid escape sequence '\\D'\n",
      "  plt.savefig(f\"D:\\Documentos\\VsCode\\projetos_git\\supermarket sales\\outputs\\Permutation Importance - Top {top_features} Features.png\")\n"
     ]
    },
    {
     "data": {
      "image/png": "[encoded data removed]",
      "text/plain": [
       "<Figure size 1000x800 with 1 Axes>"
      ]
     },
     "metadata": {},
     "output_type": "display_data"
    },
    {
     "data": {
      "text/plain": [
       "<Figure size 640x480 with 0 Axes>"
      ]
     },
     "metadata": {},
     "output_type": "display_data"
    }
   ],
   "source": [
    "# Calculation of Permutation Importance\n",
    "# Uses the test set (X_test) for a more accurate evaluation\n",
    "results = permutation_importance(best_xgb, X_test, y_test,\n",
    "n_repeats=10,\n",
    "random_state=42,\n",
    "n_jobs=-1)\n",
    "\n",
    "# Organization and Plotting\n",
    "feature_names = X_test.columns\n",
    "sorted_idx = results.importances_mean.argsort()[::-1]\n",
    "\n",
    "# Top 15 Features\n",
    "top_features = 15\n",
    "plt.figure(figsize=(10, 8))\n",
    "plt.barh(feature_names[sorted_idx][:top_features],\n",
    "results.importances_mean[sorted_idx][:top_features])\n",
    "plt.xlabel(\"Mean Importance (reduction in MSE)\")\n",
    "plt.ylabel(\"Feature\")\n",
    "plt.title(f\"Permutation Importance - Top {top_features} Features\")\n",
    "plt.gca().invert_yaxis()\n",
    "plt.show()\n",
    "\n",
    "# Save plot\n",
    "plt.savefig(f\"outputs\\Permutation Importance - Top {top_features} Features.png\")"
   ]
  }
 ],
 "metadata": {
  "kaggle": {
   "accelerator": "none",
   "dataSources": [
    {
     "datasetId": 5735157,
     "sourceId": 9438306,
     "sourceType": "datasetVersion"
    }
   ],
   "dockerImageVersionId": 31153,
   "isGpuEnabled": false,
   "isInternetEnabled": true,
   "language": "python",
   "sourceType": "notebook"
  },
  "kernelspec": {
   "display_name": ".venv",
   "language": "python",
   "name": "python3"
  },
  "language_info": {
   "codemirror_mode": {
    "name": "ipython",
    "version": 3
   },
   "file_extension": ".py",
   "mimetype": "text/x-python",
   "name": "python",
   "nbconvert_exporter": "python",
   "pygments_lexer": "ipython3",
   "version": "3.13.7"
  },
  "papermill": {
   "default_parameters": {},
   "duration": 21.536005,
   "end_time": "2025-10-27T17:54:35.922157",
   "environment_variables": {},
   "exception": null,
   "input_path": "__notebook__.ipynb",
   "output_path": "__notebook__.ipynb",
   "parameters": {},
   "start_time": "2025-10-27T17:54:14.386152",
   "version": "2.6.0"
  }
 },
 "nbformat": 4,
 "nbformat_minor": 5
}

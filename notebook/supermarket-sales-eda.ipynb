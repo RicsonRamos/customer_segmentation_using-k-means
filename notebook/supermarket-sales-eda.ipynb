{
 "cells": [
  {
   "cell_type": "markdown",
   "id": "a471ea91",
   "metadata": {
    "id": "PLetWxx-cpjC",
    "papermill": {
     "duration": 0.00747,
     "end_time": "2025-10-27T18:06:18.839585",
     "exception": false,
     "start_time": "2025-10-27T18:06:18.832115",
     "status": "completed"
    },
    "tags": []
   },
   "source": [
    "# 🏪 Supermarket Sales (Kaggle)\n",
    "\n",
    "O conjunto de dados **Supermarket Sales** contém informações detalhadas sobre as vendas realizadas em três filiais de um supermercado.\n",
    "\n",
    "---\n",
    "\n",
    "## 📊 Estrutura do Dataset\n",
    "\n",
    "| Coluna | Descrição |\n",
    "|:--------|:-----------|\n",
    "| **Invoice ID** | Código único da venda |\n",
    "| **Branch** | Filial onde a venda foi realizada |\n",
    "| **City** | Cidade da filial |\n",
    "| **Customer type** | Tipo de cliente (*Member* / *Normal*) |\n",
    "| **Gender** | Gênero do cliente |\n",
    "| **Product line** | Categoria de produtos vendidos |\n",
    "| **Unit price** | Preço unitário do produto |\n",
    "| **Quantity** | Quantidade vendida |\n",
    "| **Tax** | Imposto sobre a venda |\n",
    "| **Total** | Preço total (*unit price × quantity + tax*) |\n",
    "| **Date** | Data da venda |\n",
    "| **Time** | Hora da venda |\n",
    "| **Payment** | Forma de pagamento utilizada |\n",
    "| **cogs** | Custo dos produtos vendidos |\n",
    "| **gross margin percentage** | Margem de lucro em percentual |\n",
    "| **gross income** | Lucro bruto obtido |\n",
    "| **Rating** | Avaliação do cliente após a compra |\n",
    "\n",
    "---\n",
    "\n",
    "## 🔗 Fonte do Dataset\n",
    "\n",
    "📥 [**Supermarket Sales – Kaggle**](https://www.kaggle.com/datasets/aungpyaeap/supermarket-sales)\n",
    "\n",
    "---"
   ]
  },
  {
   "cell_type": "markdown",
   "id": "78a49df2",
   "metadata": {
    "id": "2hjoxaL6dPeE",
    "papermill": {
     "duration": 0.006058,
     "end_time": "2025-10-27T18:06:18.852207",
     "exception": false,
     "start_time": "2025-10-27T18:06:18.846149",
     "status": "completed"
    },
    "tags": []
   },
   "source": [
    "# Importando as bibliotecas necessárias e carregando o DataSet"
   ]
  },
  {
   "cell_type": "code",
   "execution_count": 7,
   "id": "7b34faf6",
   "metadata": {
    "execution": {
     "iopub.execute_input": "2025-10-27T18:06:18.866411Z",
     "iopub.status.busy": "2025-10-27T18:06:18.865639Z",
     "iopub.status.idle": "2025-10-27T18:06:23.252692Z",
     "shell.execute_reply": "2025-10-27T18:06:23.251712Z"
    },
    "id": "vfOLWNLaIkeL",
    "papermill": {
     "duration": 4.396023,
     "end_time": "2025-10-27T18:06:23.254437",
     "exception": false,
     "start_time": "2025-10-27T18:06:18.858414",
     "status": "completed"
    },
    "tags": []
   },
   "outputs": [],
   "source": [
    "# Importing Libraries\n",
    "\n",
    "import pandas as pd\n",
    "import numpy as np\n",
    "import matplotlib.pyplot as plt\n",
    "import seaborn as sns\n",
    "import plotly.express as px\n",
    "import warnings\n",
    "warnings.filterwarnings(\"ignore\")"
   ]
  },
  {
   "cell_type": "code",
   "execution_count": null,
   "id": "2275d8d6",
   "metadata": {
    "execution": {
     "iopub.execute_input": "2025-10-27T18:06:23.269034Z",
     "iopub.status.busy": "2025-10-27T18:06:23.268592Z",
     "iopub.status.idle": "2025-10-27T18:06:23.358591Z",
     "shell.execute_reply": "2025-10-27T18:06:23.357842Z"
    },
    "papermill": {
     "duration": 0.098711,
     "end_time": "2025-10-27T18:06:23.360138",
     "exception": false,
     "start_time": "2025-10-27T18:06:23.261427",
     "status": "completed"
    },
    "tags": []
   },
   "outputs": [],
   "source": [
    "# Load Dataset\n",
    "df = pd.read_csv(r\"data\\SuperMarket Analysis.csv\")\n"
   ]
  },
  {
   "cell_type": "code",
   "execution_count": 9,
   "id": "0ea721c6",
   "metadata": {
    "execution": {
     "iopub.execute_input": "2025-10-27T18:06:23.374132Z",
     "iopub.status.busy": "2025-10-27T18:06:23.373868Z",
     "iopub.status.idle": "2025-10-27T18:06:23.405036Z",
     "shell.execute_reply": "2025-10-27T18:06:23.404200Z"
    },
    "papermill": {
     "duration": 0.039755,
     "end_time": "2025-10-27T18:06:23.406549",
     "exception": false,
     "start_time": "2025-10-27T18:06:23.366794",
     "status": "completed"
    },
    "tags": []
   },
   "outputs": [
    {
     "data": {
      "application/vnd.microsoft.datawrangler.viewer.v0+json": {
       "columns": [
        {
         "name": "index",
         "rawType": "int64",
         "type": "integer"
        },
        {
         "name": "Invoice ID",
         "rawType": "object",
         "type": "string"
        },
        {
         "name": "Branch",
         "rawType": "object",
         "type": "string"
        },
        {
         "name": "City",
         "rawType": "object",
         "type": "string"
        },
        {
         "name": "Customer type",
         "rawType": "object",
         "type": "string"
        },
        {
         "name": "Gender",
         "rawType": "object",
         "type": "string"
        },
        {
         "name": "Product line",
         "rawType": "object",
         "type": "string"
        },
        {
         "name": "Unit price",
         "rawType": "float64",
         "type": "float"
        },
        {
         "name": "Quantity",
         "rawType": "int64",
         "type": "integer"
        },
        {
         "name": "Tax 5%",
         "rawType": "float64",
         "type": "float"
        },
        {
         "name": "Sales",
         "rawType": "float64",
         "type": "float"
        },
        {
         "name": "Date",
         "rawType": "object",
         "type": "string"
        },
        {
         "name": "Time",
         "rawType": "object",
         "type": "string"
        },
        {
         "name": "Payment",
         "rawType": "object",
         "type": "string"
        },
        {
         "name": "cogs",
         "rawType": "float64",
         "type": "float"
        },
        {
         "name": "gross margin percentage",
         "rawType": "float64",
         "type": "float"
        },
        {
         "name": "gross income",
         "rawType": "float64",
         "type": "float"
        },
        {
         "name": "Rating",
         "rawType": "float64",
         "type": "float"
        }
       ],
       "ref": "9667fc77-b5a7-403b-a9d7-d4633cd26591",
       "rows": [
        [
         "0",
         "750-67-8428",
         "Alex",
         "Yangon",
         "Member",
         "Female",
         "Health and beauty",
         "74.69",
         "7",
         "26.1415",
         "548.9715",
         "1/5/2019",
         "1:08:00 PM",
         "Ewallet",
         "522.83",
         "4.761904762",
         "26.1415",
         "9.1"
        ],
        [
         "1",
         "226-31-3081",
         "Giza",
         "Naypyitaw",
         "Normal",
         "Female",
         "Electronic accessories",
         "15.28",
         "5",
         "3.82",
         "80.22",
         "3/8/2019",
         "10:29:00 AM",
         "Cash",
         "76.4",
         "4.761904762",
         "3.82",
         "9.6"
        ],
        [
         "2",
         "631-41-3108",
         "Alex",
         "Yangon",
         "Normal",
         "Female",
         "Home and lifestyle",
         "46.33",
         "7",
         "16.2155",
         "340.5255",
         "3/3/2019",
         "1:23:00 PM",
         "Credit card",
         "324.31",
         "4.761904762",
         "16.2155",
         "7.4"
        ],
        [
         "3",
         "123-19-1176",
         "Alex",
         "Yangon",
         "Member",
         "Female",
         "Health and beauty",
         "58.22",
         "8",
         "23.288",
         "489.048",
         "1/27/2019",
         "8:33:00 PM",
         "Ewallet",
         "465.76",
         "4.761904762",
         "23.288",
         "8.4"
        ],
        [
         "4",
         "373-73-7910",
         "Alex",
         "Yangon",
         "Member",
         "Female",
         "Sports and travel",
         "86.31",
         "7",
         "30.2085",
         "634.3785",
         "2/8/2019",
         "10:37:00 AM",
         "Ewallet",
         "604.17",
         "4.761904762",
         "30.2085",
         "5.3"
        ],
        [
         "5",
         "699-14-3026",
         "Giza",
         "Naypyitaw",
         "Member",
         "Female",
         "Electronic accessories",
         "85.39",
         "7",
         "29.8865",
         "627.6165",
         "3/25/2019",
         "6:30:00 PM",
         "Ewallet",
         "597.73",
         "4.761904762",
         "29.8865",
         "4.1"
        ],
        [
         "6",
         "355-53-5943",
         "Alex",
         "Yangon",
         "Member",
         "Female",
         "Electronic accessories",
         "68.84",
         "6",
         "20.652",
         "433.692",
         "2/25/2019",
         "2:36:00 PM",
         "Ewallet",
         "413.04",
         "4.761904762",
         "20.652",
         "5.8"
        ],
        [
         "7",
         "315-22-5665",
         "Giza",
         "Naypyitaw",
         "Member",
         "Female",
         "Home and lifestyle",
         "73.56",
         "10",
         "36.78",
         "772.38",
         "2/24/2019",
         "11:38:00 AM",
         "Ewallet",
         "735.6",
         "4.761904762",
         "36.78",
         "8.0"
        ],
        [
         "8",
         "665-32-9167",
         "Alex",
         "Yangon",
         "Member",
         "Female",
         "Health and beauty",
         "36.26",
         "2",
         "3.626",
         "76.146",
         "1/10/2019",
         "5:15:00 PM",
         "Credit card",
         "72.52",
         "4.761904762",
         "3.626",
         "7.2"
        ],
        [
         "9",
         "692-92-5582",
         "Cairo",
         "Mandalay",
         "Member",
         "Female",
         "Food and beverages",
         "54.84",
         "3",
         "8.226",
         "172.746",
         "2/20/2019",
         "1:27:00 PM",
         "Credit card",
         "164.52",
         "4.761904762",
         "8.226",
         "5.9"
        ]
       ],
       "shape": {
        "columns": 17,
        "rows": 10
       }
      },
      "text/html": [
       "<div>\n",
       "<style scoped>\n",
       "    .dataframe tbody tr th:only-of-type {\n",
       "        vertical-align: middle;\n",
       "    }\n",
       "\n",
       "    .dataframe tbody tr th {\n",
       "        vertical-align: top;\n",
       "    }\n",
       "\n",
       "    .dataframe thead th {\n",
       "        text-align: right;\n",
       "    }\n",
       "</style>\n",
       "<table border=\"1\" class=\"dataframe\">\n",
       "  <thead>\n",
       "    <tr style=\"text-align: right;\">\n",
       "      <th></th>\n",
       "      <th>Invoice ID</th>\n",
       "      <th>Branch</th>\n",
       "      <th>City</th>\n",
       "      <th>Customer type</th>\n",
       "      <th>Gender</th>\n",
       "      <th>Product line</th>\n",
       "      <th>Unit price</th>\n",
       "      <th>Quantity</th>\n",
       "      <th>Tax 5%</th>\n",
       "      <th>Sales</th>\n",
       "      <th>Date</th>\n",
       "      <th>Time</th>\n",
       "      <th>Payment</th>\n",
       "      <th>cogs</th>\n",
       "      <th>gross margin percentage</th>\n",
       "      <th>gross income</th>\n",
       "      <th>Rating</th>\n",
       "    </tr>\n",
       "  </thead>\n",
       "  <tbody>\n",
       "    <tr>\n",
       "      <th>0</th>\n",
       "      <td>750-67-8428</td>\n",
       "      <td>Alex</td>\n",
       "      <td>Yangon</td>\n",
       "      <td>Member</td>\n",
       "      <td>Female</td>\n",
       "      <td>Health and beauty</td>\n",
       "      <td>74.69</td>\n",
       "      <td>7</td>\n",
       "      <td>26.1415</td>\n",
       "      <td>548.9715</td>\n",
       "      <td>1/5/2019</td>\n",
       "      <td>1:08:00 PM</td>\n",
       "      <td>Ewallet</td>\n",
       "      <td>522.83</td>\n",
       "      <td>4.761905</td>\n",
       "      <td>26.1415</td>\n",
       "      <td>9.1</td>\n",
       "    </tr>\n",
       "    <tr>\n",
       "      <th>1</th>\n",
       "      <td>226-31-3081</td>\n",
       "      <td>Giza</td>\n",
       "      <td>Naypyitaw</td>\n",
       "      <td>Normal</td>\n",
       "      <td>Female</td>\n",
       "      <td>Electronic accessories</td>\n",
       "      <td>15.28</td>\n",
       "      <td>5</td>\n",
       "      <td>3.8200</td>\n",
       "      <td>80.2200</td>\n",
       "      <td>3/8/2019</td>\n",
       "      <td>10:29:00 AM</td>\n",
       "      <td>Cash</td>\n",
       "      <td>76.40</td>\n",
       "      <td>4.761905</td>\n",
       "      <td>3.8200</td>\n",
       "      <td>9.6</td>\n",
       "    </tr>\n",
       "    <tr>\n",
       "      <th>2</th>\n",
       "      <td>631-41-3108</td>\n",
       "      <td>Alex</td>\n",
       "      <td>Yangon</td>\n",
       "      <td>Normal</td>\n",
       "      <td>Female</td>\n",
       "      <td>Home and lifestyle</td>\n",
       "      <td>46.33</td>\n",
       "      <td>7</td>\n",
       "      <td>16.2155</td>\n",
       "      <td>340.5255</td>\n",
       "      <td>3/3/2019</td>\n",
       "      <td>1:23:00 PM</td>\n",
       "      <td>Credit card</td>\n",
       "      <td>324.31</td>\n",
       "      <td>4.761905</td>\n",
       "      <td>16.2155</td>\n",
       "      <td>7.4</td>\n",
       "    </tr>\n",
       "    <tr>\n",
       "      <th>3</th>\n",
       "      <td>123-19-1176</td>\n",
       "      <td>Alex</td>\n",
       "      <td>Yangon</td>\n",
       "      <td>Member</td>\n",
       "      <td>Female</td>\n",
       "      <td>Health and beauty</td>\n",
       "      <td>58.22</td>\n",
       "      <td>8</td>\n",
       "      <td>23.2880</td>\n",
       "      <td>489.0480</td>\n",
       "      <td>1/27/2019</td>\n",
       "      <td>8:33:00 PM</td>\n",
       "      <td>Ewallet</td>\n",
       "      <td>465.76</td>\n",
       "      <td>4.761905</td>\n",
       "      <td>23.2880</td>\n",
       "      <td>8.4</td>\n",
       "    </tr>\n",
       "    <tr>\n",
       "      <th>4</th>\n",
       "      <td>373-73-7910</td>\n",
       "      <td>Alex</td>\n",
       "      <td>Yangon</td>\n",
       "      <td>Member</td>\n",
       "      <td>Female</td>\n",
       "      <td>Sports and travel</td>\n",
       "      <td>86.31</td>\n",
       "      <td>7</td>\n",
       "      <td>30.2085</td>\n",
       "      <td>634.3785</td>\n",
       "      <td>2/8/2019</td>\n",
       "      <td>10:37:00 AM</td>\n",
       "      <td>Ewallet</td>\n",
       "      <td>604.17</td>\n",
       "      <td>4.761905</td>\n",
       "      <td>30.2085</td>\n",
       "      <td>5.3</td>\n",
       "    </tr>\n",
       "    <tr>\n",
       "      <th>5</th>\n",
       "      <td>699-14-3026</td>\n",
       "      <td>Giza</td>\n",
       "      <td>Naypyitaw</td>\n",
       "      <td>Member</td>\n",
       "      <td>Female</td>\n",
       "      <td>Electronic accessories</td>\n",
       "      <td>85.39</td>\n",
       "      <td>7</td>\n",
       "      <td>29.8865</td>\n",
       "      <td>627.6165</td>\n",
       "      <td>3/25/2019</td>\n",
       "      <td>6:30:00 PM</td>\n",
       "      <td>Ewallet</td>\n",
       "      <td>597.73</td>\n",
       "      <td>4.761905</td>\n",
       "      <td>29.8865</td>\n",
       "      <td>4.1</td>\n",
       "    </tr>\n",
       "    <tr>\n",
       "      <th>6</th>\n",
       "      <td>355-53-5943</td>\n",
       "      <td>Alex</td>\n",
       "      <td>Yangon</td>\n",
       "      <td>Member</td>\n",
       "      <td>Female</td>\n",
       "      <td>Electronic accessories</td>\n",
       "      <td>68.84</td>\n",
       "      <td>6</td>\n",
       "      <td>20.6520</td>\n",
       "      <td>433.6920</td>\n",
       "      <td>2/25/2019</td>\n",
       "      <td>2:36:00 PM</td>\n",
       "      <td>Ewallet</td>\n",
       "      <td>413.04</td>\n",
       "      <td>4.761905</td>\n",
       "      <td>20.6520</td>\n",
       "      <td>5.8</td>\n",
       "    </tr>\n",
       "    <tr>\n",
       "      <th>7</th>\n",
       "      <td>315-22-5665</td>\n",
       "      <td>Giza</td>\n",
       "      <td>Naypyitaw</td>\n",
       "      <td>Member</td>\n",
       "      <td>Female</td>\n",
       "      <td>Home and lifestyle</td>\n",
       "      <td>73.56</td>\n",
       "      <td>10</td>\n",
       "      <td>36.7800</td>\n",
       "      <td>772.3800</td>\n",
       "      <td>2/24/2019</td>\n",
       "      <td>11:38:00 AM</td>\n",
       "      <td>Ewallet</td>\n",
       "      <td>735.60</td>\n",
       "      <td>4.761905</td>\n",
       "      <td>36.7800</td>\n",
       "      <td>8.0</td>\n",
       "    </tr>\n",
       "    <tr>\n",
       "      <th>8</th>\n",
       "      <td>665-32-9167</td>\n",
       "      <td>Alex</td>\n",
       "      <td>Yangon</td>\n",
       "      <td>Member</td>\n",
       "      <td>Female</td>\n",
       "      <td>Health and beauty</td>\n",
       "      <td>36.26</td>\n",
       "      <td>2</td>\n",
       "      <td>3.6260</td>\n",
       "      <td>76.1460</td>\n",
       "      <td>1/10/2019</td>\n",
       "      <td>5:15:00 PM</td>\n",
       "      <td>Credit card</td>\n",
       "      <td>72.52</td>\n",
       "      <td>4.761905</td>\n",
       "      <td>3.6260</td>\n",
       "      <td>7.2</td>\n",
       "    </tr>\n",
       "    <tr>\n",
       "      <th>9</th>\n",
       "      <td>692-92-5582</td>\n",
       "      <td>Cairo</td>\n",
       "      <td>Mandalay</td>\n",
       "      <td>Member</td>\n",
       "      <td>Female</td>\n",
       "      <td>Food and beverages</td>\n",
       "      <td>54.84</td>\n",
       "      <td>3</td>\n",
       "      <td>8.2260</td>\n",
       "      <td>172.7460</td>\n",
       "      <td>2/20/2019</td>\n",
       "      <td>1:27:00 PM</td>\n",
       "      <td>Credit card</td>\n",
       "      <td>164.52</td>\n",
       "      <td>4.761905</td>\n",
       "      <td>8.2260</td>\n",
       "      <td>5.9</td>\n",
       "    </tr>\n",
       "  </tbody>\n",
       "</table>\n",
       "</div>"
      ],
      "text/plain": [
       "    Invoice ID Branch       City Customer type  Gender  \\\n",
       "0  750-67-8428   Alex     Yangon        Member  Female   \n",
       "1  226-31-3081   Giza  Naypyitaw        Normal  Female   \n",
       "2  631-41-3108   Alex     Yangon        Normal  Female   \n",
       "3  123-19-1176   Alex     Yangon        Member  Female   \n",
       "4  373-73-7910   Alex     Yangon        Member  Female   \n",
       "5  699-14-3026   Giza  Naypyitaw        Member  Female   \n",
       "6  355-53-5943   Alex     Yangon        Member  Female   \n",
       "7  315-22-5665   Giza  Naypyitaw        Member  Female   \n",
       "8  665-32-9167   Alex     Yangon        Member  Female   \n",
       "9  692-92-5582  Cairo   Mandalay        Member  Female   \n",
       "\n",
       "             Product line  Unit price  Quantity   Tax 5%     Sales       Date  \\\n",
       "0       Health and beauty       74.69         7  26.1415  548.9715   1/5/2019   \n",
       "1  Electronic accessories       15.28         5   3.8200   80.2200   3/8/2019   \n",
       "2      Home and lifestyle       46.33         7  16.2155  340.5255   3/3/2019   \n",
       "3       Health and beauty       58.22         8  23.2880  489.0480  1/27/2019   \n",
       "4       Sports and travel       86.31         7  30.2085  634.3785   2/8/2019   \n",
       "5  Electronic accessories       85.39         7  29.8865  627.6165  3/25/2019   \n",
       "6  Electronic accessories       68.84         6  20.6520  433.6920  2/25/2019   \n",
       "7      Home and lifestyle       73.56        10  36.7800  772.3800  2/24/2019   \n",
       "8       Health and beauty       36.26         2   3.6260   76.1460  1/10/2019   \n",
       "9      Food and beverages       54.84         3   8.2260  172.7460  2/20/2019   \n",
       "\n",
       "          Time      Payment    cogs  gross margin percentage  gross income  \\\n",
       "0   1:08:00 PM      Ewallet  522.83                 4.761905       26.1415   \n",
       "1  10:29:00 AM         Cash   76.40                 4.761905        3.8200   \n",
       "2   1:23:00 PM  Credit card  324.31                 4.761905       16.2155   \n",
       "3   8:33:00 PM      Ewallet  465.76                 4.761905       23.2880   \n",
       "4  10:37:00 AM      Ewallet  604.17                 4.761905       30.2085   \n",
       "5   6:30:00 PM      Ewallet  597.73                 4.761905       29.8865   \n",
       "6   2:36:00 PM      Ewallet  413.04                 4.761905       20.6520   \n",
       "7  11:38:00 AM      Ewallet  735.60                 4.761905       36.7800   \n",
       "8   5:15:00 PM  Credit card   72.52                 4.761905        3.6260   \n",
       "9   1:27:00 PM  Credit card  164.52                 4.761905        8.2260   \n",
       "\n",
       "   Rating  \n",
       "0     9.1  \n",
       "1     9.6  \n",
       "2     7.4  \n",
       "3     8.4  \n",
       "4     5.3  \n",
       "5     4.1  \n",
       "6     5.8  \n",
       "7     8.0  \n",
       "8     7.2  \n",
       "9     5.9  "
      ]
     },
     "execution_count": 9,
     "metadata": {},
     "output_type": "execute_result"
    }
   ],
   "source": [
    "# Display first 10 rows\n",
    "df.head(10)"
   ]
  },
  {
   "cell_type": "markdown",
   "id": "fc2d8f6c",
   "metadata": {
    "id": "fU27OqxKdl69",
    "papermill": {
     "duration": 0.006411,
     "end_time": "2025-10-27T18:06:23.419954",
     "exception": false,
     "start_time": "2025-10-27T18:06:23.413543",
     "status": "completed"
    },
    "tags": []
   },
   "source": [
    "## Verificando a estrutura, tipos de dados e dimensões do dataset"
   ]
  },
  {
   "cell_type": "code",
   "execution_count": 10,
   "id": "2222012a",
   "metadata": {
    "execution": {
     "iopub.execute_input": "2025-10-27T18:06:23.434936Z",
     "iopub.status.busy": "2025-10-27T18:06:23.434117Z",
     "iopub.status.idle": "2025-10-27T18:06:23.439075Z",
     "shell.execute_reply": "2025-10-27T18:06:23.438289Z"
    },
    "id": "ldSZ-JeyjX68",
    "outputId": "9bad74dd-1ff3-4914-a3d1-9a4334fa0dba",
    "papermill": {
     "duration": 0.013952,
     "end_time": "2025-10-27T18:06:23.440413",
     "exception": false,
     "start_time": "2025-10-27T18:06:23.426461",
     "status": "completed"
    },
    "tags": []
   },
   "outputs": [
    {
     "name": "stdout",
     "output_type": "stream",
     "text": [
      "(1000, 17)\n"
     ]
    }
   ],
   "source": [
    "print(df.shape)"
   ]
  },
  {
   "cell_type": "code",
   "execution_count": 11,
   "id": "8d9a27f9",
   "metadata": {
    "execution": {
     "iopub.execute_input": "2025-10-27T18:06:23.455066Z",
     "iopub.status.busy": "2025-10-27T18:06:23.454788Z",
     "iopub.status.idle": "2025-10-27T18:06:23.470785Z",
     "shell.execute_reply": "2025-10-27T18:06:23.469650Z"
    },
    "id": "BpvKunTEJReH",
    "outputId": "0c656db3-f957-410a-8c48-0c382560f2a6",
    "papermill": {
     "duration": 0.024777,
     "end_time": "2025-10-27T18:06:23.472049",
     "exception": false,
     "start_time": "2025-10-27T18:06:23.447272",
     "status": "completed"
    },
    "tags": []
   },
   "outputs": [
    {
     "name": "stdout",
     "output_type": "stream",
     "text": [
      "<bound method DataFrame.info of       Invoice ID Branch       City Customer type  Gender  \\\n",
      "0    750-67-8428   Alex     Yangon        Member  Female   \n",
      "1    226-31-3081   Giza  Naypyitaw        Normal  Female   \n",
      "2    631-41-3108   Alex     Yangon        Normal  Female   \n",
      "3    123-19-1176   Alex     Yangon        Member  Female   \n",
      "4    373-73-7910   Alex     Yangon        Member  Female   \n",
      "..           ...    ...        ...           ...     ...   \n",
      "995  233-67-5758   Giza  Naypyitaw        Normal    Male   \n",
      "996  303-96-2227  Cairo   Mandalay        Normal  Female   \n",
      "997  727-02-1313   Alex     Yangon        Member    Male   \n",
      "998  347-56-2442   Alex     Yangon        Normal    Male   \n",
      "999  849-09-3807   Alex     Yangon        Member  Female   \n",
      "\n",
      "               Product line  Unit price  Quantity   Tax 5%      Sales  \\\n",
      "0         Health and beauty       74.69         7  26.1415   548.9715   \n",
      "1    Electronic accessories       15.28         5   3.8200    80.2200   \n",
      "2        Home and lifestyle       46.33         7  16.2155   340.5255   \n",
      "3         Health and beauty       58.22         8  23.2880   489.0480   \n",
      "4         Sports and travel       86.31         7  30.2085   634.3785   \n",
      "..                      ...         ...       ...      ...        ...   \n",
      "995       Health and beauty       40.35         1   2.0175    42.3675   \n",
      "996      Home and lifestyle       97.38        10  48.6900  1022.4900   \n",
      "997      Food and beverages       31.84         1   1.5920    33.4320   \n",
      "998      Home and lifestyle       65.82         1   3.2910    69.1110   \n",
      "999     Fashion accessories       88.34         7  30.9190   649.2990   \n",
      "\n",
      "          Date         Time      Payment    cogs  gross margin percentage  \\\n",
      "0     1/5/2019   1:08:00 PM      Ewallet  522.83                 4.761905   \n",
      "1     3/8/2019  10:29:00 AM         Cash   76.40                 4.761905   \n",
      "2     3/3/2019   1:23:00 PM  Credit card  324.31                 4.761905   \n",
      "3    1/27/2019   8:33:00 PM      Ewallet  465.76                 4.761905   \n",
      "4     2/8/2019  10:37:00 AM      Ewallet  604.17                 4.761905   \n",
      "..         ...          ...          ...     ...                      ...   \n",
      "995  1/29/2019   1:46:00 PM      Ewallet   40.35                 4.761905   \n",
      "996   3/2/2019   5:16:00 PM      Ewallet  973.80                 4.761905   \n",
      "997   2/9/2019   1:22:00 PM         Cash   31.84                 4.761905   \n",
      "998  2/22/2019   3:33:00 PM         Cash   65.82                 4.761905   \n",
      "999  2/18/2019   1:28:00 PM         Cash  618.38                 4.761905   \n",
      "\n",
      "     gross income  Rating  \n",
      "0         26.1415     9.1  \n",
      "1          3.8200     9.6  \n",
      "2         16.2155     7.4  \n",
      "3         23.2880     8.4  \n",
      "4         30.2085     5.3  \n",
      "..            ...     ...  \n",
      "995        2.0175     6.2  \n",
      "996       48.6900     4.4  \n",
      "997        1.5920     7.7  \n",
      "998        3.2910     4.1  \n",
      "999       30.9190     6.6  \n",
      "\n",
      "[1000 rows x 17 columns]>\n"
     ]
    }
   ],
   "source": [
    "print(df.info)"
   ]
  },
  {
   "cell_type": "code",
   "execution_count": 12,
   "id": "6933541b",
   "metadata": {
    "execution": {
     "iopub.execute_input": "2025-10-27T18:06:23.487053Z",
     "iopub.status.busy": "2025-10-27T18:06:23.486413Z",
     "iopub.status.idle": "2025-10-27T18:06:23.492151Z",
     "shell.execute_reply": "2025-10-27T18:06:23.491140Z"
    },
    "id": "d2umJtxVjei8",
    "outputId": "1c2012f3-3012-4e09-a4c6-c4acf221dd17",
    "papermill": {
     "duration": 0.014603,
     "end_time": "2025-10-27T18:06:23.493508",
     "exception": false,
     "start_time": "2025-10-27T18:06:23.478905",
     "status": "completed"
    },
    "tags": []
   },
   "outputs": [
    {
     "name": "stdout",
     "output_type": "stream",
     "text": [
      "Invoice ID                  object\n",
      "Branch                      object\n",
      "City                        object\n",
      "Customer type               object\n",
      "Gender                      object\n",
      "Product line                object\n",
      "Unit price                 float64\n",
      "Quantity                     int64\n",
      "Tax 5%                     float64\n",
      "Sales                      float64\n",
      "Date                        object\n",
      "Time                        object\n",
      "Payment                     object\n",
      "cogs                       float64\n",
      "gross margin percentage    float64\n",
      "gross income               float64\n",
      "Rating                     float64\n",
      "dtype: object\n"
     ]
    }
   ],
   "source": [
    "print(df.dtypes)"
   ]
  },
  {
   "cell_type": "markdown",
   "id": "3dfc0e62",
   "metadata": {
    "id": "joiVage4eit1",
    "papermill": {
     "duration": 0.006625,
     "end_time": "2025-10-27T18:06:23.507071",
     "exception": false,
     "start_time": "2025-10-27T18:06:23.500446",
     "status": "completed"
    },
    "tags": []
   },
   "source": [
    "## Verificação de valores ausentes, duplicados e estatísticas descritivas"
   ]
  },
  {
   "cell_type": "code",
   "execution_count": 13,
   "id": "4d4e874c",
   "metadata": {
    "execution": {
     "iopub.execute_input": "2025-10-27T18:06:23.521906Z",
     "iopub.status.busy": "2025-10-27T18:06:23.521599Z",
     "iopub.status.idle": "2025-10-27T18:06:23.529082Z",
     "shell.execute_reply": "2025-10-27T18:06:23.528381Z"
    },
    "id": "aPLtCeDxJqLK",
    "outputId": "dc404a0a-d45d-4d35-a9f6-01c0a0addcb6",
    "papermill": {
     "duration": 0.016529,
     "end_time": "2025-10-27T18:06:23.530403",
     "exception": false,
     "start_time": "2025-10-27T18:06:23.513874",
     "status": "completed"
    },
    "tags": []
   },
   "outputs": [
    {
     "data": {
      "application/vnd.microsoft.datawrangler.viewer.v0+json": {
       "columns": [
        {
         "name": "index",
         "rawType": "object",
         "type": "string"
        },
        {
         "name": "0",
         "rawType": "int64",
         "type": "integer"
        }
       ],
       "ref": "bf26f226-c09b-4510-bee8-682261a8191f",
       "rows": [
        [
         "Invoice ID",
         "0"
        ],
        [
         "Branch",
         "0"
        ],
        [
         "City",
         "0"
        ],
        [
         "Customer type",
         "0"
        ],
        [
         "Gender",
         "0"
        ],
        [
         "Product line",
         "0"
        ],
        [
         "Unit price",
         "0"
        ],
        [
         "Quantity",
         "0"
        ],
        [
         "Tax 5%",
         "0"
        ],
        [
         "Sales",
         "0"
        ],
        [
         "Date",
         "0"
        ],
        [
         "Time",
         "0"
        ],
        [
         "Payment",
         "0"
        ],
        [
         "cogs",
         "0"
        ],
        [
         "gross margin percentage",
         "0"
        ],
        [
         "gross income",
         "0"
        ],
        [
         "Rating",
         "0"
        ]
       ],
       "shape": {
        "columns": 1,
        "rows": 17
       }
      },
      "text/plain": [
       "Invoice ID                 0\n",
       "Branch                     0\n",
       "City                       0\n",
       "Customer type              0\n",
       "Gender                     0\n",
       "Product line               0\n",
       "Unit price                 0\n",
       "Quantity                   0\n",
       "Tax 5%                     0\n",
       "Sales                      0\n",
       "Date                       0\n",
       "Time                       0\n",
       "Payment                    0\n",
       "cogs                       0\n",
       "gross margin percentage    0\n",
       "gross income               0\n",
       "Rating                     0\n",
       "dtype: int64"
      ]
     },
     "execution_count": 13,
     "metadata": {},
     "output_type": "execute_result"
    }
   ],
   "source": [
    "df.isnull().sum()"
   ]
  },
  {
   "cell_type": "code",
   "execution_count": 14,
   "id": "a197ab83",
   "metadata": {
    "execution": {
     "iopub.execute_input": "2025-10-27T18:06:23.545927Z",
     "iopub.status.busy": "2025-10-27T18:06:23.545625Z",
     "iopub.status.idle": "2025-10-27T18:06:23.559668Z",
     "shell.execute_reply": "2025-10-27T18:06:23.558929Z"
    },
    "id": "Yyh6mN67Jx-G",
    "outputId": "89132718-615c-4a97-b6bd-b3102b3ec964",
    "papermill": {
     "duration": 0.023384,
     "end_time": "2025-10-27T18:06:23.560947",
     "exception": false,
     "start_time": "2025-10-27T18:06:23.537563",
     "status": "completed"
    },
    "tags": []
   },
   "outputs": [
    {
     "data": {
      "text/plain": [
       "np.int64(0)"
      ]
     },
     "execution_count": 14,
     "metadata": {},
     "output_type": "execute_result"
    }
   ],
   "source": [
    "df.duplicated().sum()"
   ]
  },
  {
   "cell_type": "code",
   "execution_count": 15,
   "id": "80961c24",
   "metadata": {
    "execution": {
     "iopub.execute_input": "2025-10-27T18:06:23.576133Z",
     "iopub.status.busy": "2025-10-27T18:06:23.575868Z",
     "iopub.status.idle": "2025-10-27T18:06:23.612025Z",
     "shell.execute_reply": "2025-10-27T18:06:23.611166Z"
    },
    "id": "6UYpUfkoJ8Cy",
    "outputId": "af2cf721-afaf-48f8-b72e-3a99b4b801b5",
    "papermill": {
     "duration": 0.045449,
     "end_time": "2025-10-27T18:06:23.613511",
     "exception": false,
     "start_time": "2025-10-27T18:06:23.568062",
     "status": "completed"
    },
    "tags": []
   },
   "outputs": [
    {
     "data": {
      "application/vnd.microsoft.datawrangler.viewer.v0+json": {
       "columns": [
        {
         "name": "index",
         "rawType": "object",
         "type": "string"
        },
        {
         "name": "Unit price",
         "rawType": "float64",
         "type": "float"
        },
        {
         "name": "Quantity",
         "rawType": "float64",
         "type": "float"
        },
        {
         "name": "Tax 5%",
         "rawType": "float64",
         "type": "float"
        },
        {
         "name": "Sales",
         "rawType": "float64",
         "type": "float"
        },
        {
         "name": "cogs",
         "rawType": "float64",
         "type": "float"
        },
        {
         "name": "gross margin percentage",
         "rawType": "float64",
         "type": "float"
        },
        {
         "name": "gross income",
         "rawType": "float64",
         "type": "float"
        },
        {
         "name": "Rating",
         "rawType": "float64",
         "type": "float"
        }
       ],
       "ref": "81047f0d-6c79-47d2-978a-34fcfeab7535",
       "rows": [
        [
         "count",
         "1000.0",
         "1000.0",
         "1000.0",
         "1000.0",
         "1000.0",
         "1000.0",
         "1000.0",
         "1000.0"
        ],
        [
         "mean",
         "55.67213",
         "5.51",
         "15.379368999999999",
         "322.966749",
         "307.58738",
         "4.761904762",
         "15.379368999999999",
         "6.9727"
        ],
        [
         "std",
         "26.49462834791978",
         "2.923430595455696",
         "11.708825480998659",
         "245.88533510097187",
         "234.1765096199732",
         "0.0",
         "11.708825480998659",
         "1.7185802943791215"
        ],
        [
         "min",
         "10.08",
         "1.0",
         "0.5085",
         "10.6785",
         "10.17",
         "4.761904762",
         "0.5085",
         "4.0"
        ],
        [
         "25%",
         "32.875",
         "3.0",
         "5.924875",
         "124.422375",
         "118.4975",
         "4.761904762",
         "5.924875",
         "5.5"
        ],
        [
         "50%",
         "55.230000000000004",
         "5.0",
         "12.088000000000001",
         "253.848",
         "241.76",
         "4.761904762",
         "12.088000000000001",
         "7.0"
        ],
        [
         "75%",
         "77.935",
         "8.0",
         "22.44525",
         "471.35024999999996",
         "448.90500000000003",
         "4.761904762",
         "22.44525",
         "8.5"
        ],
        [
         "max",
         "99.96",
         "10.0",
         "49.65",
         "1042.65",
         "993.0",
         "4.761904762",
         "49.65",
         "10.0"
        ]
       ],
       "shape": {
        "columns": 8,
        "rows": 8
       }
      },
      "text/html": [
       "<div>\n",
       "<style scoped>\n",
       "    .dataframe tbody tr th:only-of-type {\n",
       "        vertical-align: middle;\n",
       "    }\n",
       "\n",
       "    .dataframe tbody tr th {\n",
       "        vertical-align: top;\n",
       "    }\n",
       "\n",
       "    .dataframe thead th {\n",
       "        text-align: right;\n",
       "    }\n",
       "</style>\n",
       "<table border=\"1\" class=\"dataframe\">\n",
       "  <thead>\n",
       "    <tr style=\"text-align: right;\">\n",
       "      <th></th>\n",
       "      <th>Unit price</th>\n",
       "      <th>Quantity</th>\n",
       "      <th>Tax 5%</th>\n",
       "      <th>Sales</th>\n",
       "      <th>cogs</th>\n",
       "      <th>gross margin percentage</th>\n",
       "      <th>gross income</th>\n",
       "      <th>Rating</th>\n",
       "    </tr>\n",
       "  </thead>\n",
       "  <tbody>\n",
       "    <tr>\n",
       "      <th>count</th>\n",
       "      <td>1000.000000</td>\n",
       "      <td>1000.000000</td>\n",
       "      <td>1000.000000</td>\n",
       "      <td>1000.000000</td>\n",
       "      <td>1000.00000</td>\n",
       "      <td>1000.000000</td>\n",
       "      <td>1000.000000</td>\n",
       "      <td>1000.00000</td>\n",
       "    </tr>\n",
       "    <tr>\n",
       "      <th>mean</th>\n",
       "      <td>55.672130</td>\n",
       "      <td>5.510000</td>\n",
       "      <td>15.379369</td>\n",
       "      <td>322.966749</td>\n",
       "      <td>307.58738</td>\n",
       "      <td>4.761905</td>\n",
       "      <td>15.379369</td>\n",
       "      <td>6.97270</td>\n",
       "    </tr>\n",
       "    <tr>\n",
       "      <th>std</th>\n",
       "      <td>26.494628</td>\n",
       "      <td>2.923431</td>\n",
       "      <td>11.708825</td>\n",
       "      <td>245.885335</td>\n",
       "      <td>234.17651</td>\n",
       "      <td>0.000000</td>\n",
       "      <td>11.708825</td>\n",
       "      <td>1.71858</td>\n",
       "    </tr>\n",
       "    <tr>\n",
       "      <th>min</th>\n",
       "      <td>10.080000</td>\n",
       "      <td>1.000000</td>\n",
       "      <td>0.508500</td>\n",
       "      <td>10.678500</td>\n",
       "      <td>10.17000</td>\n",
       "      <td>4.761905</td>\n",
       "      <td>0.508500</td>\n",
       "      <td>4.00000</td>\n",
       "    </tr>\n",
       "    <tr>\n",
       "      <th>25%</th>\n",
       "      <td>32.875000</td>\n",
       "      <td>3.000000</td>\n",
       "      <td>5.924875</td>\n",
       "      <td>124.422375</td>\n",
       "      <td>118.49750</td>\n",
       "      <td>4.761905</td>\n",
       "      <td>5.924875</td>\n",
       "      <td>5.50000</td>\n",
       "    </tr>\n",
       "    <tr>\n",
       "      <th>50%</th>\n",
       "      <td>55.230000</td>\n",
       "      <td>5.000000</td>\n",
       "      <td>12.088000</td>\n",
       "      <td>253.848000</td>\n",
       "      <td>241.76000</td>\n",
       "      <td>4.761905</td>\n",
       "      <td>12.088000</td>\n",
       "      <td>7.00000</td>\n",
       "    </tr>\n",
       "    <tr>\n",
       "      <th>75%</th>\n",
       "      <td>77.935000</td>\n",
       "      <td>8.000000</td>\n",
       "      <td>22.445250</td>\n",
       "      <td>471.350250</td>\n",
       "      <td>448.90500</td>\n",
       "      <td>4.761905</td>\n",
       "      <td>22.445250</td>\n",
       "      <td>8.50000</td>\n",
       "    </tr>\n",
       "    <tr>\n",
       "      <th>max</th>\n",
       "      <td>99.960000</td>\n",
       "      <td>10.000000</td>\n",
       "      <td>49.650000</td>\n",
       "      <td>1042.650000</td>\n",
       "      <td>993.00000</td>\n",
       "      <td>4.761905</td>\n",
       "      <td>49.650000</td>\n",
       "      <td>10.00000</td>\n",
       "    </tr>\n",
       "  </tbody>\n",
       "</table>\n",
       "</div>"
      ],
      "text/plain": [
       "        Unit price     Quantity       Tax 5%        Sales        cogs  \\\n",
       "count  1000.000000  1000.000000  1000.000000  1000.000000  1000.00000   \n",
       "mean     55.672130     5.510000    15.379369   322.966749   307.58738   \n",
       "std      26.494628     2.923431    11.708825   245.885335   234.17651   \n",
       "min      10.080000     1.000000     0.508500    10.678500    10.17000   \n",
       "25%      32.875000     3.000000     5.924875   124.422375   118.49750   \n",
       "50%      55.230000     5.000000    12.088000   253.848000   241.76000   \n",
       "75%      77.935000     8.000000    22.445250   471.350250   448.90500   \n",
       "max      99.960000    10.000000    49.650000  1042.650000   993.00000   \n",
       "\n",
       "       gross margin percentage  gross income      Rating  \n",
       "count              1000.000000   1000.000000  1000.00000  \n",
       "mean                  4.761905     15.379369     6.97270  \n",
       "std                   0.000000     11.708825     1.71858  \n",
       "min                   4.761905      0.508500     4.00000  \n",
       "25%                   4.761905      5.924875     5.50000  \n",
       "50%                   4.761905     12.088000     7.00000  \n",
       "75%                   4.761905     22.445250     8.50000  \n",
       "max                   4.761905     49.650000    10.00000  "
      ]
     },
     "execution_count": 15,
     "metadata": {},
     "output_type": "execute_result"
    }
   ],
   "source": [
    "df.describe()"
   ]
  },
  {
   "cell_type": "markdown",
   "id": "3b4053e7",
   "metadata": {
    "id": "aD98cZBSe3up",
    "papermill": {
     "duration": 0.00699,
     "end_time": "2025-10-27T18:06:23.627998",
     "exception": false,
     "start_time": "2025-10-27T18:06:23.621008",
     "status": "completed"
    },
    "tags": []
   },
   "source": [
    "## Contagem e proporção de categorias (`.value_counts()`)"
   ]
  },
  {
   "cell_type": "code",
   "execution_count": 16,
   "id": "aca2e66d",
   "metadata": {
    "execution": {
     "iopub.execute_input": "2025-10-27T18:06:23.643554Z",
     "iopub.status.busy": "2025-10-27T18:06:23.643047Z",
     "iopub.status.idle": "2025-10-27T18:06:23.664152Z",
     "shell.execute_reply": "2025-10-27T18:06:23.663270Z"
    },
    "id": "5zG5Nsv2KLnb",
    "outputId": "67110236-6f38-4ec9-e6d0-1aef076983d3",
    "papermill": {
     "duration": 0.030518,
     "end_time": "2025-10-27T18:06:23.665587",
     "exception": false,
     "start_time": "2025-10-27T18:06:23.635069",
     "status": "completed"
    },
    "tags": []
   },
   "outputs": [
    {
     "data": {
      "application/vnd.microsoft.datawrangler.viewer.v0+json": {
       "columns": [
        {
         "name": "('Invoice ID', 'Branch', 'City', 'Customer type', 'Gender', 'Product line', 'Unit price', 'Quantity', 'Tax 5%', 'Sales', 'Date', 'Time', 'Payment', 'cogs', 'gross margin percentage', 'gross income', 'Rating')",
         "rawType": "object",
         "type": "unknown"
        },
        {
         "name": "count",
         "rawType": "int64",
         "type": "integer"
        }
       ],
       "ref": "257734f4-13ad-4fc4-9650-4b34e3d665cc",
       "rows": [
        [
         "('101-17-6199', 'Alex', 'Yangon', 'Normal', 'Male', 'Food and beverages', np.float64(45.79), np.int64(7), np.float64(16.0265), np.float64(336.5565), '3/13/2019', '7:44:00 PM', 'Credit card', np.float64(320.53), np.float64(4.761904762), np.float64(16.0265), np.float64(7.0))",
         "1"
        ],
        [
         "('641-62-7288', 'Cairo', 'Mandalay', 'Normal', 'Male', 'Home and lifestyle', np.float64(99.92), np.int64(6), np.float64(29.976), np.float64(629.496), '3/24/2019', '1:33:00 PM', 'Ewallet', np.float64(599.52), np.float64(4.761904762), np.float64(29.976), np.float64(7.1))",
         "1"
        ],
        [
         "('633-91-1052', 'Alex', 'Yangon', 'Normal', 'Female', 'Home and lifestyle', np.float64(12.03), np.int64(2), np.float64(1.203), np.float64(25.263), '1/27/2019', '3:51:00 PM', 'Cash', np.float64(24.06), np.float64(4.761904762), np.float64(1.203), np.float64(5.1))",
         "1"
        ],
        [
         "('634-97-8956', 'Alex', 'Yangon', 'Normal', 'Male', 'Food and beverages', np.float64(32.9), np.int64(3), np.float64(4.935), np.float64(103.635), '2/17/2019', '5:27:00 PM', 'Credit card', np.float64(98.7), np.float64(4.761904762), np.float64(4.935), np.float64(9.1))",
         "1"
        ],
        [
         "('635-28-5728', 'Alex', 'Yangon', 'Normal', 'Male', 'Health and beauty', np.float64(56.0), np.int64(3), np.float64(8.4), np.float64(176.4), '2/28/2019', '7:33:00 PM', 'Ewallet', np.float64(168.0), np.float64(4.761904762), np.float64(8.4), np.float64(4.8))",
         "1"
        ],
        [
         "('635-40-6220', 'Alex', 'Yangon', 'Member', 'Female', 'Health and beauty', np.float64(89.6), np.int64(8), np.float64(35.84), np.float64(752.64), '2/7/2019', '11:28:00 AM', 'Ewallet', np.float64(716.8), np.float64(4.761904762), np.float64(35.84), np.float64(6.6))",
         "1"
        ],
        [
         "('636-17-0325', 'Cairo', 'Mandalay', 'Normal', 'Male', 'Health and beauty', np.float64(62.57), np.int64(4), np.float64(12.514), np.float64(262.794), '2/25/2019', '6:37:00 PM', 'Cash', np.float64(250.28), np.float64(4.761904762), np.float64(12.514), np.float64(9.5))",
         "1"
        ],
        [
         "('636-48-8204', 'Alex', 'Yangon', 'Member', 'Female', 'Electronic accessories', np.float64(34.56), np.int64(5), np.float64(8.64), np.float64(181.44), '2/17/2019', '11:15:00 AM', 'Ewallet', np.float64(172.8), np.float64(4.761904762), np.float64(8.64), np.float64(9.9))",
         "1"
        ],
        [
         "('636-98-3364', 'Cairo', 'Mandalay', 'Member', 'Female', 'Electronic accessories', np.float64(26.26), np.int64(3), np.float64(3.939), np.float64(82.719), '3/2/2019', '12:36:00 PM', 'Ewallet', np.float64(78.78), np.float64(4.761904762), np.float64(3.939), np.float64(6.3))",
         "1"
        ],
        [
         "('638-60-7125', 'Alex', 'Yangon', 'Member', 'Female', 'Electronic accessories', np.float64(99.56), np.int64(8), np.float64(39.824), np.float64(836.304), '2/14/2019', '5:03:00 PM', 'Credit card', np.float64(796.48), np.float64(4.761904762), np.float64(39.824), np.float64(5.2))",
         "1"
        ],
        [
         "('639-76-1242', 'Giza', 'Naypyitaw', 'Normal', 'Male', 'Food and beverages', np.float64(40.52), np.int64(5), np.float64(10.13), np.float64(212.73), '2/3/2019', '3:19:00 PM', 'Cash', np.float64(202.6), np.float64(4.761904762), np.float64(10.13), np.float64(4.5))",
         "1"
        ],
        [
         "('640-48-5028', 'Cairo', 'Mandalay', 'Member', 'Female', 'Home and lifestyle', np.float64(88.39), np.int64(9), np.float64(39.7755), np.float64(835.2855), '3/2/2019', '12:40:00 PM', 'Cash', np.float64(795.51), np.float64(4.761904762), np.float64(39.7755), np.float64(6.3))",
         "1"
        ],
        [
         "('640-49-2076', 'Cairo', 'Mandalay', 'Member', 'Female', 'Sports and travel', np.float64(83.78), np.int64(8), np.float64(33.512), np.float64(703.752), '1/10/2019', '2:49:00 PM', 'Cash', np.float64(670.24), np.float64(4.761904762), np.float64(33.512), np.float64(5.1))",
         "1"
        ],
        [
         "('641-43-2399', 'Cairo', 'Mandalay', 'Normal', 'Male', 'Home and lifestyle', np.float64(25.55), np.int64(4), np.float64(5.11), np.float64(107.31), '1/26/2019', '8:23:00 PM', 'Ewallet', np.float64(102.2), np.float64(4.761904762), np.float64(5.11), np.float64(5.7))",
         "1"
        ],
        [
         "('641-51-2661', 'Giza', 'Naypyitaw', 'Member', 'Female', 'Food and beverages', np.float64(87.1), np.int64(10), np.float64(43.55), np.float64(914.55), '2/12/2019', '2:45:00 PM', 'Credit card', np.float64(871.0), np.float64(4.761904762), np.float64(43.55), np.float64(9.9))",
         "1"
        ],
        [
         "('641-96-3695', 'Giza', 'Naypyitaw', 'Member', 'Female', 'Fashion accessories', np.float64(43.46), np.int64(6), np.float64(13.038), np.float64(273.798), '2/7/2019', '5:55:00 PM', 'Ewallet', np.float64(260.76), np.float64(4.761904762), np.float64(13.038), np.float64(8.5))",
         "1"
        ],
        [
         "('651-96-5970', 'Alex', 'Yangon', 'Normal', 'Male', 'Fashion accessories', np.float64(46.41), np.int64(1), np.float64(2.3205), np.float64(48.7305), '3/3/2019', '8:06:00 PM', 'Credit card', np.float64(46.41), np.float64(4.761904762), np.float64(2.3205), np.float64(4.0))",
         "1"
        ],
        [
         "('642-30-6693', 'Cairo', 'Mandalay', 'Normal', 'Female', 'Sports and travel', np.float64(54.51), np.int64(6), np.float64(16.353), np.float64(343.413), '3/17/2019', '1:54:00 PM', 'Ewallet', np.float64(327.06), np.float64(4.761904762), np.float64(16.353), np.float64(7.8))",
         "1"
        ],
        [
         "('642-32-2990', 'Alex', 'Yangon', 'Member', 'Female', 'Food and beverages', np.float64(10.96), np.int64(10), np.float64(5.48), np.float64(115.08), '2/2/2019', '8:48:00 PM', 'Ewallet', np.float64(109.6), np.float64(4.761904762), np.float64(5.48), np.float64(6.0))",
         "1"
        ],
        [
         "('642-61-4706', 'Cairo', 'Mandalay', 'Member', 'Male', 'Food and beverages', np.float64(93.4), np.int64(2), np.float64(9.34), np.float64(196.14), '3/30/2019', '4:34:00 PM', 'Cash', np.float64(186.8), np.float64(4.761904762), np.float64(9.34), np.float64(5.5))",
         "1"
        ],
        [
         "('643-38-7867', 'Alex', 'Yangon', 'Normal', 'Male', 'Home and lifestyle', np.float64(97.94), np.int64(1), np.float64(4.897), np.float64(102.837), '3/7/2019', '11:44:00 AM', 'Ewallet', np.float64(97.94), np.float64(4.761904762), np.float64(4.897), np.float64(6.9))",
         "1"
        ],
        [
         "('645-44-1170', 'Alex', 'Yangon', 'Member', 'Female', 'Home and lifestyle', np.float64(58.07), np.int64(9), np.float64(26.1315), np.float64(548.7615), '1/19/2019', '8:07:00 PM', 'Ewallet', np.float64(522.63), np.float64(4.761904762), np.float64(26.1315), np.float64(4.3))",
         "1"
        ],
        [
         "('645-78-8093', 'Alex', 'Yangon', 'Normal', 'Female', 'Sports and travel', np.float64(93.14), np.int64(2), np.float64(9.314), np.float64(195.594), '1/20/2019', '6:09:00 PM', 'Ewallet', np.float64(186.28), np.float64(4.761904762), np.float64(9.314), np.float64(4.1))",
         "1"
        ],
        [
         "('647-50-1224', 'Alex', 'Yangon', 'Normal', 'Female', 'Fashion accessories', np.float64(29.42), np.int64(10), np.float64(14.71), np.float64(308.91), '1/12/2019', '4:23:00 PM', 'Ewallet', np.float64(294.2), np.float64(4.761904762), np.float64(14.71), np.float64(8.9))",
         "1"
        ],
        [
         "('648-83-1321', 'Alex', 'Yangon', 'Member', 'Male', 'Home and lifestyle', np.float64(63.56), np.int64(10), np.float64(31.78), np.float64(667.38), '1/16/2019', '5:59:00 PM', 'Cash', np.float64(635.6), np.float64(4.761904762), np.float64(31.78), np.float64(4.3))",
         "1"
        ],
        [
         "('648-94-3045', 'Giza', 'Naypyitaw', 'Normal', 'Male', 'Health and beauty', np.float64(58.95), np.int64(10), np.float64(29.475), np.float64(618.975), '2/7/2019', '2:27:00 PM', 'Ewallet', np.float64(589.5), np.float64(4.761904762), np.float64(29.475), np.float64(8.1))",
         "1"
        ],
        [
         "('649-11-3678', 'Giza', 'Naypyitaw', 'Normal', 'Female', 'Food and beverages', np.float64(22.93), np.int64(9), np.float64(10.3185), np.float64(216.6885), '2/26/2019', '8:26:00 PM', 'Cash', np.float64(206.37), np.float64(4.761904762), np.float64(10.3185), np.float64(5.5))",
         "1"
        ],
        [
         "('649-29-6775', 'Cairo', 'Mandalay', 'Member', 'Female', 'Fashion accessories', np.float64(33.52), np.int64(1), np.float64(1.676), np.float64(35.196), '2/8/2019', '3:31:00 PM', 'Cash', np.float64(33.52), np.float64(4.761904762), np.float64(1.676), np.float64(6.7))",
         "1"
        ],
        [
         "('650-98-6268', 'Cairo', 'Mandalay', 'Member', 'Female', 'Food and beverages', np.float64(20.87), np.int64(3), np.float64(3.1305), np.float64(65.7405), '3/20/2019', '1:53:00 PM', 'Credit card', np.float64(62.61), np.float64(4.761904762), np.float64(3.1305), np.float64(8.0))",
         "1"
        ],
        [
         "('651-61-0874', 'Giza', 'Naypyitaw', 'Normal', 'Male', 'Home and lifestyle', np.float64(46.22), np.int64(4), np.float64(9.244), np.float64(194.124), '3/12/2019', '8:04:00 PM', 'Credit card', np.float64(184.88), np.float64(4.761904762), np.float64(9.244), np.float64(6.2))",
         "1"
        ],
        [
         "('633-44-8566', 'Alex', 'Yangon', 'Member', 'Female', 'Food and beverages', np.float64(49.38), np.int64(7), np.float64(17.283), np.float64(362.943), '3/27/2019', '8:35:00 PM', 'Credit card', np.float64(345.66), np.float64(4.761904762), np.float64(17.283), np.float64(7.3))",
         "1"
        ],
        [
         "('633-09-3463', 'Giza', 'Naypyitaw', 'Normal', 'Female', 'Electronic accessories', np.float64(47.65), np.int64(3), np.float64(7.1475), np.float64(150.0975), '3/28/2019', '12:58:00 PM', 'Credit card', np.float64(142.95), np.float64(4.761904762), np.float64(7.1475), np.float64(9.5))",
         "1"
        ],
        [
         "('632-90-0281', 'Giza', 'Naypyitaw', 'Normal', 'Female', 'Fashion accessories', np.float64(37.55), np.int64(10), np.float64(18.775), np.float64(394.275), '3/8/2019', '8:01:00 PM', 'Credit card', np.float64(375.5), np.float64(4.761904762), np.float64(18.775), np.float64(9.3))",
         "1"
        ],
        [
         "('632-32-4574', 'Cairo', 'Mandalay', 'Normal', 'Male', 'Sports and travel', np.float64(75.92), np.int64(8), np.float64(30.368), np.float64(637.728), '3/20/2019', '2:14:00 PM', 'Cash', np.float64(607.36), np.float64(4.761904762), np.float64(30.368), np.float64(5.5))",
         "1"
        ],
        [
         "('605-83-1050', 'Cairo', 'Mandalay', 'Normal', 'Male', 'Fashion accessories', np.float64(27.18), np.int64(2), np.float64(2.718), np.float64(57.078), '3/15/2019', '4:26:00 PM', 'Ewallet', np.float64(54.36), np.float64(4.761904762), np.float64(2.718), np.float64(4.3))",
         "1"
        ],
        [
         "('606-80-4905', 'Giza', 'Naypyitaw', 'Member', 'Female', 'Sports and travel', np.float64(19.15), np.int64(6), np.float64(5.745), np.float64(120.645), '1/29/2019', '10:01:00 AM', 'Credit card', np.float64(114.9), np.float64(4.761904762), np.float64(5.745), np.float64(6.8))",
         "1"
        ],
        [
         "('607-65-2441', 'Giza', 'Naypyitaw', 'Member', 'Male', 'Health and beauty', np.float64(81.95), np.int64(10), np.float64(40.975), np.float64(860.475), '3/10/2019', '12:39:00 PM', 'Credit card', np.float64(819.5), np.float64(4.761904762), np.float64(40.975), np.float64(6.0))",
         "1"
        ],
        [
         "('607-76-6216', 'Giza', 'Naypyitaw', 'Member', 'Female', 'Fashion accessories', np.float64(92.49), np.int64(5), np.float64(23.1225), np.float64(485.5725), '3/2/2019', '4:35:00 PM', 'Credit card', np.float64(462.45), np.float64(4.761904762), np.float64(23.1225), np.float64(8.6))",
         "1"
        ],
        [
         "('608-04-3797', 'Cairo', 'Mandalay', 'Member', 'Female', 'Health and beauty', np.float64(25.32), np.int64(8), np.float64(10.128), np.float64(212.688), '3/5/2019', '8:24:00 PM', 'Ewallet', np.float64(202.56), np.float64(4.761904762), np.float64(10.128), np.float64(8.7))",
         "1"
        ],
        [
         "('608-05-3804', 'Cairo', 'Mandalay', 'Member', 'Male', 'Electronic accessories', np.float64(39.75), np.int64(1), np.float64(1.9875), np.float64(41.7375), '2/25/2019', '8:19:00 PM', 'Cash', np.float64(39.75), np.float64(4.761904762), np.float64(1.9875), np.float64(6.1))",
         "1"
        ],
        [
         "('608-27-6295', 'Cairo', 'Mandalay', 'Member', 'Male', 'Electronic accessories', np.float64(52.89), np.int64(6), np.float64(15.867), np.float64(333.207), '1/19/2019', '5:34:00 PM', 'Credit card', np.float64(317.34), np.float64(4.761904762), np.float64(15.867), np.float64(9.8))",
         "1"
        ],
        [
         "('608-96-3517', 'Cairo', 'Mandalay', 'Member', 'Female', 'Fashion accessories', np.float64(91.54), np.int64(4), np.float64(18.308), np.float64(384.468), '3/23/2019', '7:20:00 PM', 'Credit card', np.float64(366.16), np.float64(4.761904762), np.float64(18.308), np.float64(4.8))",
         "1"
        ],
        [
         "('609-81-8548', 'Alex', 'Yangon', 'Member', 'Female', 'Home and lifestyle', np.float64(37.44), np.int64(6), np.float64(11.232), np.float64(235.872), '2/6/2019', '1:55:00 PM', 'Credit card', np.float64(224.64), np.float64(4.761904762), np.float64(11.232), np.float64(5.9))",
         "1"
        ],
        [
         "('610-46-4100', 'Alex', 'Yangon', 'Normal', 'Male', 'Health and beauty', np.float64(28.95), np.int64(7), np.float64(10.1325), np.float64(212.7825), '3/3/2019', '8:31:00 PM', 'Credit card', np.float64(202.65), np.float64(4.761904762), np.float64(10.1325), np.float64(6.0))",
         "1"
        ],
        [
         "('612-36-5536', 'Alex', 'Yangon', 'Member', 'Male', 'Food and beverages', np.float64(80.96), np.int64(8), np.float64(32.384), np.float64(680.064), '2/17/2019', '11:12:00 AM', 'Credit card', np.float64(647.68), np.float64(4.761904762), np.float64(32.384), np.float64(7.4))",
         "1"
        ],
        [
         "('613-59-9758', 'Giza', 'Naypyitaw', 'Normal', 'Female', 'Sports and travel', np.float64(14.36), np.int64(10), np.float64(7.18), np.float64(150.78), '1/27/2019', '2:28:00 PM', 'Cash', np.float64(143.6), np.float64(4.761904762), np.float64(7.18), np.float64(5.4))",
         "1"
        ],
        [
         "('616-24-2851', 'Cairo', 'Mandalay', 'Member', 'Female', 'Fashion accessories', np.float64(17.87), np.int64(4), np.float64(3.574), np.float64(75.054), '3/22/2019', '2:42:00 PM', 'Ewallet', np.float64(71.48), np.float64(4.761904762), np.float64(3.574), np.float64(6.5))",
         "1"
        ],
        [
         "('616-87-0016', 'Cairo', 'Mandalay', 'Normal', 'Male', 'Fashion accessories', np.float64(95.54), np.int64(7), np.float64(33.439), np.float64(702.219), '3/9/2019', '2:36:00 PM', 'Credit card', np.float64(668.78), np.float64(4.761904762), np.float64(33.439), np.float64(9.6))",
         "1"
        ],
        [
         "('617-15-4209', 'Giza', 'Naypyitaw', 'Member', 'Female', 'Health and beauty', np.float64(15.37), np.int64(2), np.float64(1.537), np.float64(32.277), '3/16/2019', '7:47:00 PM', 'Cash', np.float64(30.74), np.float64(4.761904762), np.float64(1.537), np.float64(7.2))",
         "1"
        ],
        [
         "('618-34-8551', 'Alex', 'Yangon', 'Normal', 'Female', 'Sports and travel', np.float64(93.18), np.int64(2), np.float64(9.318), np.float64(195.678), '1/16/2019', '6:41:00 PM', 'Credit card', np.float64(186.36), np.float64(4.761904762), np.float64(9.318), np.float64(8.5))",
         "1"
        ]
       ],
       "shape": {
        "columns": 1,
        "rows": 1000
       }
      },
      "text/plain": [
       "Invoice ID   Branch  City       Customer type  Gender  Product line         Unit price  Quantity  Tax 5%   Sales     Date       Time         Payment      cogs    gross margin percentage  gross income  Rating\n",
       "101-17-6199  Alex    Yangon     Normal         Male    Food and beverages   45.79       7         16.0265  336.5565  3/13/2019  7:44:00 PM   Credit card  320.53  4.761905                 16.0265       7.0       1\n",
       "641-62-7288  Cairo   Mandalay   Normal         Male    Home and lifestyle   99.92       6         29.9760  629.4960  3/24/2019  1:33:00 PM   Ewallet      599.52  4.761905                 29.9760       7.1       1\n",
       "633-91-1052  Alex    Yangon     Normal         Female  Home and lifestyle   12.03       2         1.2030   25.2630   1/27/2019  3:51:00 PM   Cash         24.06   4.761905                 1.2030        5.1       1\n",
       "634-97-8956  Alex    Yangon     Normal         Male    Food and beverages   32.90       3         4.9350   103.6350  2/17/2019  5:27:00 PM   Credit card  98.70   4.761905                 4.9350        9.1       1\n",
       "635-28-5728  Alex    Yangon     Normal         Male    Health and beauty    56.00       3         8.4000   176.4000  2/28/2019  7:33:00 PM   Ewallet      168.00  4.761905                 8.4000        4.8       1\n",
       "                                                                                                                                                                                                                  ..\n",
       "373-14-0504  Alex    Yangon     Member         Female  Sports and travel    71.63       2         7.1630   150.4230  2/12/2019  2:33:00 PM   Ewallet      143.26  4.761905                 7.1630        8.8       1\n",
       "373-73-7910  Alex    Yangon     Member         Female  Sports and travel    86.31       7         30.2085  634.3785  2/8/2019   10:37:00 AM  Ewallet      604.17  4.761905                 30.2085       5.3       1\n",
       "373-88-1424  Giza    Naypyitaw  Member         Male    Home and lifestyle   35.81       5         8.9525   188.0025  2/6/2019   6:44:00 PM   Ewallet      179.05  4.761905                 8.9525        7.9       1\n",
       "374-17-3652  Cairo   Mandalay   Member         Female  Food and beverages   42.82       9         19.2690  404.6490  2/5/2019   3:26:00 PM   Credit card  385.38  4.761905                 19.2690       8.9       1\n",
       "898-04-2717  Alex    Yangon     Normal         Male    Fashion accessories  76.40       9         34.3800  721.9800  3/19/2019  3:49:00 PM   Ewallet      687.60  4.761905                 34.3800       7.5       1\n",
       "Name: count, Length: 1000, dtype: int64"
      ]
     },
     "execution_count": 16,
     "metadata": {},
     "output_type": "execute_result"
    }
   ],
   "source": [
    "df.value_counts()"
   ]
  },
  {
   "cell_type": "markdown",
   "id": "b4509311",
   "metadata": {
    "id": "C5__giKVe8H6",
    "papermill": {
     "duration": 0.00703,
     "end_time": "2025-10-27T18:06:23.680140",
     "exception": false,
     "start_time": "2025-10-27T18:06:23.673110",
     "status": "completed"
    },
    "tags": []
   },
   "source": [
    "## Verificando o produto mais vendido"
   ]
  },
  {
   "cell_type": "code",
   "execution_count": 17,
   "id": "8b3d0016",
   "metadata": {
    "execution": {
     "iopub.execute_input": "2025-10-27T18:06:23.696082Z",
     "iopub.status.busy": "2025-10-27T18:06:23.695507Z",
     "iopub.status.idle": "2025-10-27T18:06:23.713126Z",
     "shell.execute_reply": "2025-10-27T18:06:23.712443Z"
    },
    "id": "2JxIB4i04Ska",
    "outputId": "db4731e4-106b-4c47-8454-f1654c6ed8a8",
    "papermill": {
     "duration": 0.027033,
     "end_time": "2025-10-27T18:06:23.714438",
     "exception": false,
     "start_time": "2025-10-27T18:06:23.687405",
     "status": "completed"
    },
    "tags": []
   },
   "outputs": [
    {
     "data": {
      "application/vnd.microsoft.datawrangler.viewer.v0+json": {
       "columns": [
        {
         "name": "index",
         "rawType": "int64",
         "type": "integer"
        },
        {
         "name": "Product line",
         "rawType": "object",
         "type": "string"
        },
        {
         "name": "Sales",
         "rawType": "float64",
         "type": "float"
        }
       ],
       "ref": "cddcd173-8eab-47f6-b733-fad007fd73ef",
       "rows": [
        [
         "2",
         "Food and beverages",
         "56144.844"
        ],
        [
         "5",
         "Sports and travel",
         "55122.8265"
        ],
        [
         "0",
         "Electronic accessories",
         "54337.5315"
        ],
        [
         "1",
         "Fashion accessories",
         "54305.895"
        ],
        [
         "4",
         "Home and lifestyle",
         "53861.913"
        ],
        [
         "3",
         "Health and beauty",
         "49193.739"
        ]
       ],
       "shape": {
        "columns": 2,
        "rows": 6
       }
      },
      "text/html": [
       "<div>\n",
       "<style scoped>\n",
       "    .dataframe tbody tr th:only-of-type {\n",
       "        vertical-align: middle;\n",
       "    }\n",
       "\n",
       "    .dataframe tbody tr th {\n",
       "        vertical-align: top;\n",
       "    }\n",
       "\n",
       "    .dataframe thead th {\n",
       "        text-align: right;\n",
       "    }\n",
       "</style>\n",
       "<table border=\"1\" class=\"dataframe\">\n",
       "  <thead>\n",
       "    <tr style=\"text-align: right;\">\n",
       "      <th></th>\n",
       "      <th>Product line</th>\n",
       "      <th>Sales</th>\n",
       "    </tr>\n",
       "  </thead>\n",
       "  <tbody>\n",
       "    <tr>\n",
       "      <th>2</th>\n",
       "      <td>Food and beverages</td>\n",
       "      <td>56144.8440</td>\n",
       "    </tr>\n",
       "    <tr>\n",
       "      <th>5</th>\n",
       "      <td>Sports and travel</td>\n",
       "      <td>55122.8265</td>\n",
       "    </tr>\n",
       "    <tr>\n",
       "      <th>0</th>\n",
       "      <td>Electronic accessories</td>\n",
       "      <td>54337.5315</td>\n",
       "    </tr>\n",
       "    <tr>\n",
       "      <th>1</th>\n",
       "      <td>Fashion accessories</td>\n",
       "      <td>54305.8950</td>\n",
       "    </tr>\n",
       "    <tr>\n",
       "      <th>4</th>\n",
       "      <td>Home and lifestyle</td>\n",
       "      <td>53861.9130</td>\n",
       "    </tr>\n",
       "    <tr>\n",
       "      <th>3</th>\n",
       "      <td>Health and beauty</td>\n",
       "      <td>49193.7390</td>\n",
       "    </tr>\n",
       "  </tbody>\n",
       "</table>\n",
       "</div>"
      ],
      "text/plain": [
       "             Product line       Sales\n",
       "2      Food and beverages  56144.8440\n",
       "5       Sports and travel  55122.8265\n",
       "0  Electronic accessories  54337.5315\n",
       "1     Fashion accessories  54305.8950\n",
       "4      Home and lifestyle  53861.9130\n",
       "3       Health and beauty  49193.7390"
      ]
     },
     "metadata": {},
     "output_type": "display_data"
    }
   ],
   "source": [
    "\n",
    "most_seller = df.groupby('Product line').sum('Sales').reset_index()[['Product line','Sales']].sort_values('Sales', ascending=False)\n",
    "\n",
    "\n",
    "percent_seller = most_seller.loc[0, 'Sales'] / most_seller['Sales'].sum() * 100\n",
    "\n",
    "\n",
    "display(most_seller)"
   ]
  },
  {
   "cell_type": "markdown",
   "id": "87a29f06",
   "metadata": {
    "id": "SjetJz_NfDyT",
    "papermill": {
     "duration": 0.007252,
     "end_time": "2025-10-27T18:06:23.729275",
     "exception": false,
     "start_time": "2025-10-27T18:06:23.722023",
     "status": "completed"
    },
    "tags": []
   },
   "source": [
    "## Filial/Cidade com maior venda"
   ]
  },
  {
   "cell_type": "code",
   "execution_count": 18,
   "id": "ad7b98e6",
   "metadata": {
    "execution": {
     "iopub.execute_input": "2025-10-27T18:06:23.745675Z",
     "iopub.status.busy": "2025-10-27T18:06:23.744971Z",
     "iopub.status.idle": "2025-10-27T18:06:23.758003Z",
     "shell.execute_reply": "2025-10-27T18:06:23.757157Z"
    },
    "id": "6-BFgOPP5gzY",
    "outputId": "64dcf7bf-d9b5-4f5c-aec9-b49e02b67e85",
    "papermill": {
     "duration": 0.022792,
     "end_time": "2025-10-27T18:06:23.759448",
     "exception": false,
     "start_time": "2025-10-27T18:06:23.736656",
     "status": "completed"
    },
    "tags": []
   },
   "outputs": [
    {
     "name": "stdout",
     "output_type": "stream",
     "text": [
      "322966.749\n"
     ]
    },
    {
     "data": {
      "application/vnd.microsoft.datawrangler.viewer.v0+json": {
       "columns": [
        {
         "name": "index",
         "rawType": "int64",
         "type": "integer"
        },
        {
         "name": "City",
         "rawType": "object",
         "type": "string"
        },
        {
         "name": "Branch",
         "rawType": "object",
         "type": "string"
        },
        {
         "name": "Sales",
         "rawType": "float64",
         "type": "float"
        }
       ],
       "ref": "27388d8f-a66c-4ed4-b612-27e0986352c5",
       "rows": [
        [
         "350",
         "Naypyitaw",
         "Giza",
         "1042.65"
        ],
        [
         "167",
         "Yangon",
         "Alex",
         "1039.29"
        ],
        [
         "557",
         "Naypyitaw",
         "Giza",
         "1034.46"
        ],
        [
         "699",
         "Naypyitaw",
         "Giza",
         "1023.75"
        ],
        [
         "996",
         "Mandalay",
         "Cairo",
         "1022.49"
        ],
        [
         "792",
         "Mandalay",
         "Cairo",
         "1022.385"
        ],
        [
         "422",
         "Naypyitaw",
         "Giza",
         "1020.705"
        ],
        [
         "166",
         "Naypyitaw",
         "Giza",
         "1003.59"
        ],
        [
         "357",
         "Naypyitaw",
         "Giza",
         "1002.12"
        ],
        [
         "429",
         "Yangon",
         "Alex",
         "951.825"
        ],
        [
         "141",
         "Naypyitaw",
         "Giza",
         "950.25"
        ],
        [
         "122",
         "Mandalay",
         "Cairo",
         "944.622"
        ],
        [
         "941",
         "Naypyitaw",
         "Giza",
         "943.299"
        ],
        [
         "140",
         "Naypyitaw",
         "Giza",
         "942.9"
        ],
        [
         "209",
         "Mandalay",
         "Cairo",
         "942.4485"
        ],
        [
         "70",
         "Naypyitaw",
         "Giza",
         "939.54"
        ],
        [
         "435",
         "Naypyitaw",
         "Giza",
         "937.818"
        ],
        [
         "561",
         "Naypyitaw",
         "Giza",
         "936.6"
        ],
        [
         "611",
         "Naypyitaw",
         "Giza",
         "935.2665"
        ],
        [
         "959",
         "Yangon",
         "Alex",
         "932.337"
        ],
        [
         "105",
         "Yangon",
         "Alex",
         "931.035"
        ],
        [
         "529",
         "Yangon",
         "Alex",
         "926.9505"
        ],
        [
         "96",
         "Mandalay",
         "Cairo",
         "922.635"
        ],
        [
         "982",
         "Yangon",
         "Alex",
         "921.186"
        ],
        [
         "158",
         "Mandalay",
         "Cairo",
         "918.729"
        ],
        [
         "663",
         "Naypyitaw",
         "Giza",
         "914.55"
        ],
        [
         "970",
         "Mandalay",
         "Cairo",
         "888.615"
        ],
        [
         "906",
         "Naypyitaw",
         "Giza",
         "888.405"
        ],
        [
         "739",
         "Yangon",
         "Alex",
         "887.922"
        ],
        [
         "211",
         "Naypyitaw",
         "Giza",
         "881.307"
        ],
        [
         "623",
         "Mandalay",
         "Cairo",
         "874.125"
        ],
        [
         "49",
         "Naypyitaw",
         "Giza",
         "867.615"
        ],
        [
         "627",
         "Mandalay",
         "Cairo",
         "867.09"
        ],
        [
         "988",
         "Naypyitaw",
         "Giza",
         "864.57"
        ],
        [
         "109",
         "Naypyitaw",
         "Giza",
         "860.685"
        ],
        [
         "735",
         "Naypyitaw",
         "Giza",
         "860.475"
        ],
        [
         "721",
         "Naypyitaw",
         "Giza",
         "856.4535"
        ],
        [
         "129",
         "Mandalay",
         "Cairo",
         "853.146"
        ],
        [
         "565",
         "Yangon",
         "Alex",
         "852.705"
        ],
        [
         "442",
         "Yangon",
         "Alex",
         "843.0345"
        ],
        [
         "120",
         "Yangon",
         "Alex",
         "836.304"
        ],
        [
         "704",
         "Mandalay",
         "Cairo",
         "835.2855"
        ],
        [
         "928",
         "Mandalay",
         "Cairo",
         "833.9625"
        ],
        [
         "457",
         "Mandalay",
         "Cairo",
         "833.595"
        ],
        [
         "895",
         "Mandalay",
         "Cairo",
         "832.944"
        ],
        [
         "779",
         "Mandalay",
         "Cairo",
         "830.3715"
        ],
        [
         "192",
         "Naypyitaw",
         "Giza",
         "829.71"
        ],
        [
         "714",
         "Naypyitaw",
         "Giza",
         "829.08"
        ],
        [
         "43",
         "Naypyitaw",
         "Giza",
         "829.08"
        ],
        [
         "68",
         "Yangon",
         "Alex",
         "827.085"
        ]
       ],
       "shape": {
        "columns": 3,
        "rows": 1000
       }
      },
      "text/html": [
       "<div>\n",
       "<style scoped>\n",
       "    .dataframe tbody tr th:only-of-type {\n",
       "        vertical-align: middle;\n",
       "    }\n",
       "\n",
       "    .dataframe tbody tr th {\n",
       "        vertical-align: top;\n",
       "    }\n",
       "\n",
       "    .dataframe thead th {\n",
       "        text-align: right;\n",
       "    }\n",
       "</style>\n",
       "<table border=\"1\" class=\"dataframe\">\n",
       "  <thead>\n",
       "    <tr style=\"text-align: right;\">\n",
       "      <th></th>\n",
       "      <th>City</th>\n",
       "      <th>Branch</th>\n",
       "      <th>Sales</th>\n",
       "    </tr>\n",
       "  </thead>\n",
       "  <tbody>\n",
       "    <tr>\n",
       "      <th>350</th>\n",
       "      <td>Naypyitaw</td>\n",
       "      <td>Giza</td>\n",
       "      <td>1042.6500</td>\n",
       "    </tr>\n",
       "    <tr>\n",
       "      <th>167</th>\n",
       "      <td>Yangon</td>\n",
       "      <td>Alex</td>\n",
       "      <td>1039.2900</td>\n",
       "    </tr>\n",
       "    <tr>\n",
       "      <th>557</th>\n",
       "      <td>Naypyitaw</td>\n",
       "      <td>Giza</td>\n",
       "      <td>1034.4600</td>\n",
       "    </tr>\n",
       "    <tr>\n",
       "      <th>699</th>\n",
       "      <td>Naypyitaw</td>\n",
       "      <td>Giza</td>\n",
       "      <td>1023.7500</td>\n",
       "    </tr>\n",
       "    <tr>\n",
       "      <th>996</th>\n",
       "      <td>Mandalay</td>\n",
       "      <td>Cairo</td>\n",
       "      <td>1022.4900</td>\n",
       "    </tr>\n",
       "    <tr>\n",
       "      <th>...</th>\n",
       "      <td>...</td>\n",
       "      <td>...</td>\n",
       "      <td>...</td>\n",
       "    </tr>\n",
       "    <tr>\n",
       "      <th>402</th>\n",
       "      <td>Naypyitaw</td>\n",
       "      <td>Giza</td>\n",
       "      <td>14.6790</td>\n",
       "    </tr>\n",
       "    <tr>\n",
       "      <th>443</th>\n",
       "      <td>Naypyitaw</td>\n",
       "      <td>Giza</td>\n",
       "      <td>13.4190</td>\n",
       "    </tr>\n",
       "    <tr>\n",
       "      <th>223</th>\n",
       "      <td>Naypyitaw</td>\n",
       "      <td>Giza</td>\n",
       "      <td>13.1670</td>\n",
       "    </tr>\n",
       "    <tr>\n",
       "      <th>629</th>\n",
       "      <td>Yangon</td>\n",
       "      <td>Alex</td>\n",
       "      <td>12.6945</td>\n",
       "    </tr>\n",
       "    <tr>\n",
       "      <th>822</th>\n",
       "      <td>Naypyitaw</td>\n",
       "      <td>Giza</td>\n",
       "      <td>10.6785</td>\n",
       "    </tr>\n",
       "  </tbody>\n",
       "</table>\n",
       "<p>1000 rows × 3 columns</p>\n",
       "</div>"
      ],
      "text/plain": [
       "          City Branch      Sales\n",
       "350  Naypyitaw   Giza  1042.6500\n",
       "167     Yangon   Alex  1039.2900\n",
       "557  Naypyitaw   Giza  1034.4600\n",
       "699  Naypyitaw   Giza  1023.7500\n",
       "996   Mandalay  Cairo  1022.4900\n",
       "..         ...    ...        ...\n",
       "402  Naypyitaw   Giza    14.6790\n",
       "443  Naypyitaw   Giza    13.4190\n",
       "223  Naypyitaw   Giza    13.1670\n",
       "629     Yangon   Alex    12.6945\n",
       "822  Naypyitaw   Giza    10.6785\n",
       "\n",
       "[1000 rows x 3 columns]"
      ]
     },
     "metadata": {},
     "output_type": "display_data"
    }
   ],
   "source": [
    "city = df[['City','Branch', 'Sales']].sort_values('Sales', ascending=False)\n",
    "\n",
    "\n",
    "print(city.Sales.sum() )\n",
    "\n",
    "# calcula o percentual da cidade/top filial em relação ao total\n",
    "percent_city = (city.iloc[0,2] / city['Sales'].sum()) * 100\n",
    "\n",
    "display(city)"
   ]
  },
  {
   "cell_type": "markdown",
   "id": "18c27e76",
   "metadata": {
    "id": "ZhVYW3wehcwf",
    "papermill": {
     "duration": 0.007655,
     "end_time": "2025-10-27T18:06:23.775022",
     "exception": false,
     "start_time": "2025-10-27T18:06:23.767367",
     "status": "completed"
    },
    "tags": []
   },
   "source": [
    "## Destruição dos clientes por gênero"
   ]
  },
  {
   "cell_type": "code",
   "execution_count": 19,
   "id": "5fb98f7f",
   "metadata": {
    "execution": {
     "iopub.execute_input": "2025-10-27T18:06:23.791998Z",
     "iopub.status.busy": "2025-10-27T18:06:23.791205Z",
     "iopub.status.idle": "2025-10-27T18:06:23.802349Z",
     "shell.execute_reply": "2025-10-27T18:06:23.801614Z"
    },
    "id": "XZX9OlIb8-Ay",
    "outputId": "5acb2d07-c118-442b-a592-209a065e40a5",
    "papermill": {
     "duration": 0.020984,
     "end_time": "2025-10-27T18:06:23.803732",
     "exception": false,
     "start_time": "2025-10-27T18:06:23.782748",
     "status": "completed"
    },
    "tags": []
   },
   "outputs": [
    {
     "data": {
      "application/vnd.microsoft.datawrangler.viewer.v0+json": {
       "columns": [
        {
         "name": "index",
         "rawType": "int64",
         "type": "integer"
        },
        {
         "name": "Gender",
         "rawType": "object",
         "type": "string"
        },
        {
         "name": "Sales",
         "rawType": "float64",
         "type": "float"
        }
       ],
       "ref": "69f0042f-562c-4573-9a3e-d4016461894c",
       "rows": [
        [
         "0",
         "Female",
         "194671.8375"
        ],
        [
         "1",
         "Male",
         "128294.9115"
        ]
       ],
       "shape": {
        "columns": 2,
        "rows": 2
       }
      },
      "text/html": [
       "<div>\n",
       "<style scoped>\n",
       "    .dataframe tbody tr th:only-of-type {\n",
       "        vertical-align: middle;\n",
       "    }\n",
       "\n",
       "    .dataframe tbody tr th {\n",
       "        vertical-align: top;\n",
       "    }\n",
       "\n",
       "    .dataframe thead th {\n",
       "        text-align: right;\n",
       "    }\n",
       "</style>\n",
       "<table border=\"1\" class=\"dataframe\">\n",
       "  <thead>\n",
       "    <tr style=\"text-align: right;\">\n",
       "      <th></th>\n",
       "      <th>Gender</th>\n",
       "      <th>Sales</th>\n",
       "    </tr>\n",
       "  </thead>\n",
       "  <tbody>\n",
       "    <tr>\n",
       "      <th>0</th>\n",
       "      <td>Female</td>\n",
       "      <td>194671.8375</td>\n",
       "    </tr>\n",
       "    <tr>\n",
       "      <th>1</th>\n",
       "      <td>Male</td>\n",
       "      <td>128294.9115</td>\n",
       "    </tr>\n",
       "  </tbody>\n",
       "</table>\n",
       "</div>"
      ],
      "text/plain": [
       "   Gender        Sales\n",
       "0  Female  194671.8375\n",
       "1    Male  128294.9115"
      ]
     },
     "metadata": {},
     "output_type": "display_data"
    }
   ],
   "source": [
    "gender = df[['Gender','Sales']].groupby('Gender').sum().reset_index()\n",
    "\n",
    "percent_gender = gender.iloc[0,1] / gender['Sales'].sum() * 100\n",
    "\n",
    "\n",
    "\n",
    "display(gender)"
   ]
  },
  {
   "cell_type": "markdown",
   "id": "2194e6b3",
   "metadata": {
    "id": "K0Cfk1QzhnPn",
    "papermill": {
     "duration": 0.00734,
     "end_time": "2025-10-27T18:06:23.818965",
     "exception": false,
     "start_time": "2025-10-27T18:06:23.811625",
     "status": "completed"
    },
    "tags": []
   },
   "source": [
    "# Distribuição por método de pagamento"
   ]
  },
  {
   "cell_type": "code",
   "execution_count": 20,
   "id": "dde54827",
   "metadata": {
    "execution": {
     "iopub.execute_input": "2025-10-27T18:06:23.835728Z",
     "iopub.status.busy": "2025-10-27T18:06:23.834902Z",
     "iopub.status.idle": "2025-10-27T18:06:23.845055Z",
     "shell.execute_reply": "2025-10-27T18:06:23.844358Z"
    },
    "id": "_SCSJ2vQ9ofK",
    "outputId": "03e4141c-1117-43f5-8dbe-4e9346a41df0",
    "papermill": {
     "duration": 0.019707,
     "end_time": "2025-10-27T18:06:23.846290",
     "exception": false,
     "start_time": "2025-10-27T18:06:23.826583",
     "status": "completed"
    },
    "tags": []
   },
   "outputs": [
    {
     "data": {
      "application/vnd.microsoft.datawrangler.viewer.v0+json": {
       "columns": [
        {
         "name": "index",
         "rawType": "int64",
         "type": "integer"
        },
        {
         "name": "Payment",
         "rawType": "object",
         "type": "string"
        },
        {
         "name": "Count",
         "rawType": "int64",
         "type": "integer"
        }
       ],
       "ref": "4742ef38-44b1-41df-bb2b-31b61179f444",
       "rows": [
        [
         "0",
         "Ewallet",
         "345"
        ],
        [
         "1",
         "Cash",
         "344"
        ],
        [
         "2",
         "Credit card",
         "311"
        ]
       ],
       "shape": {
        "columns": 2,
        "rows": 3
       }
      },
      "text/html": [
       "<div>\n",
       "<style scoped>\n",
       "    .dataframe tbody tr th:only-of-type {\n",
       "        vertical-align: middle;\n",
       "    }\n",
       "\n",
       "    .dataframe tbody tr th {\n",
       "        vertical-align: top;\n",
       "    }\n",
       "\n",
       "    .dataframe thead th {\n",
       "        text-align: right;\n",
       "    }\n",
       "</style>\n",
       "<table border=\"1\" class=\"dataframe\">\n",
       "  <thead>\n",
       "    <tr style=\"text-align: right;\">\n",
       "      <th></th>\n",
       "      <th>Payment</th>\n",
       "      <th>Count</th>\n",
       "    </tr>\n",
       "  </thead>\n",
       "  <tbody>\n",
       "    <tr>\n",
       "      <th>0</th>\n",
       "      <td>Ewallet</td>\n",
       "      <td>345</td>\n",
       "    </tr>\n",
       "    <tr>\n",
       "      <th>1</th>\n",
       "      <td>Cash</td>\n",
       "      <td>344</td>\n",
       "    </tr>\n",
       "    <tr>\n",
       "      <th>2</th>\n",
       "      <td>Credit card</td>\n",
       "      <td>311</td>\n",
       "    </tr>\n",
       "  </tbody>\n",
       "</table>\n",
       "</div>"
      ],
      "text/plain": [
       "       Payment  Count\n",
       "0      Ewallet    345\n",
       "1         Cash    344\n",
       "2  Credit card    311"
      ]
     },
     "metadata": {},
     "output_type": "display_data"
    }
   ],
   "source": [
    "\n",
    "payment = df['Payment'].value_counts().reset_index()\n",
    "payment.columns = ['Payment', 'Count']\n",
    "\n",
    "# Calcula o percentual da forma de pagamento mais usada\n",
    "percent_payment = (payment.loc[0, 'Count'] / payment['Count'].sum()) * 100\n",
    "\n",
    "display(payment)"
   ]
  },
  {
   "cell_type": "markdown",
   "id": "2ac75db5",
   "metadata": {
    "id": "dkl-TEK0huY3",
    "papermill": {
     "duration": 0.008177,
     "end_time": "2025-10-27T18:06:23.862761",
     "exception": false,
     "start_time": "2025-10-27T18:06:23.854584",
     "status": "completed"
    },
    "tags": []
   },
   "source": [
    "## Insights principais: receita, produtos, pagamentos e clientes"
   ]
  },
  {
   "cell_type": "code",
   "execution_count": 21,
   "id": "ea494faf",
   "metadata": {
    "execution": {
     "iopub.execute_input": "2025-10-27T18:06:23.879808Z",
     "iopub.status.busy": "2025-10-27T18:06:23.879522Z",
     "iopub.status.idle": "2025-10-27T18:06:23.884906Z",
     "shell.execute_reply": "2025-10-27T18:06:23.883968Z"
    },
    "id": "zkIJTObb-uyx",
    "outputId": "7b305cd6-0411-4bb7-8051-ba364fe04ac1",
    "papermill": {
     "duration": 0.015199,
     "end_time": "2025-10-27T18:06:23.886141",
     "exception": false,
     "start_time": "2025-10-27T18:06:23.870942",
     "status": "completed"
    },
    "tags": []
   },
   "outputs": [
    {
     "name": "stdout",
     "output_type": "stream",
     "text": [
      "\n",
      "A filial Giza na cidade de Naypyitaw tem a maior receita total R$ 1042.65,\n",
      "representando 0.32% da receita total da empresa.\n",
      "Os produtos da categoria Food and beverages são os mais vendidos, representando 16.82% do total de vendas.\n",
      "O método de pagamento mais comum é Ewallet, representando 34.5% dos pagamentos.\n",
      "O gênero Female é o mais assíduo entre os clientes da empresa, representando 60.28% do total de consumidores.\n",
      "\n"
     ]
    }
   ],
   "source": [
    "\n",
    "text = f\"\"\"\n",
    "A filial {city.iloc[0,1]} na cidade de {city.iloc[0,0]} tem a maior receita total R$ {city.iloc[0,2]},\n",
    "representando {percent_city:.2f}% da receita total da empresa.\n",
    "Os produtos da categoria {most_seller.iloc[0,0]} são os mais vendidos, representando {percent_seller:.2f}% do total de vendas.\n",
    "O método de pagamento mais comum é {payment.iloc[0,0]}, representando {percent_payment}% dos pagamentos.\n",
    "O gênero {gender.iloc[0,0]} é o mais assíduo entre os clientes da empresa, representando {percent_gender:.2f}% do total de consumidores.\n",
    "\"\"\"\n",
    "\n",
    "print(text)"
   ]
  },
  {
   "cell_type": "markdown",
   "id": "bc9f2d04",
   "metadata": {
    "id": "gtlJdlMgDvV3",
    "papermill": {
     "duration": 0.007712,
     "end_time": "2025-10-27T18:06:23.901990",
     "exception": false,
     "start_time": "2025-10-27T18:06:23.894278",
     "status": "completed"
    },
    "tags": []
   },
   "source": [
    "# Preparação dos dados para visualização"
   ]
  },
  {
   "cell_type": "code",
   "execution_count": 22,
   "id": "cf0d2315",
   "metadata": {
    "execution": {
     "iopub.execute_input": "2025-10-27T18:06:23.919264Z",
     "iopub.status.busy": "2025-10-27T18:06:23.918654Z",
     "iopub.status.idle": "2025-10-27T18:06:23.945425Z",
     "shell.execute_reply": "2025-10-27T18:06:23.944500Z"
    },
    "id": "oqlXU1gFD3zn",
    "outputId": "a67e4109-cc5f-4c8d-e9ca-d5bbe92d07b1",
    "papermill": {
     "duration": 0.037002,
     "end_time": "2025-10-27T18:06:23.946844",
     "exception": false,
     "start_time": "2025-10-27T18:06:23.909842",
     "status": "completed"
    },
    "tags": []
   },
   "outputs": [
    {
     "data": {
      "application/vnd.microsoft.datawrangler.viewer.v0+json": {
       "columns": [
        {
         "name": "index",
         "rawType": "int64",
         "type": "integer"
        },
        {
         "name": "Invoice ID",
         "rawType": "object",
         "type": "string"
        },
        {
         "name": "Branch",
         "rawType": "object",
         "type": "string"
        },
        {
         "name": "City",
         "rawType": "object",
         "type": "string"
        },
        {
         "name": "Customer type",
         "rawType": "object",
         "type": "string"
        },
        {
         "name": "Gender",
         "rawType": "object",
         "type": "string"
        },
        {
         "name": "Product line",
         "rawType": "object",
         "type": "string"
        },
        {
         "name": "Unit price",
         "rawType": "float64",
         "type": "float"
        },
        {
         "name": "Quantity",
         "rawType": "int64",
         "type": "integer"
        },
        {
         "name": "Tax 5%",
         "rawType": "float64",
         "type": "float"
        },
        {
         "name": "Sales",
         "rawType": "float64",
         "type": "float"
        },
        {
         "name": "Date",
         "rawType": "datetime64[ns]",
         "type": "datetime"
        },
        {
         "name": "Time",
         "rawType": "object",
         "type": "string"
        },
        {
         "name": "Payment",
         "rawType": "object",
         "type": "string"
        },
        {
         "name": "cogs",
         "rawType": "float64",
         "type": "float"
        },
        {
         "name": "gross margin percentage",
         "rawType": "float64",
         "type": "float"
        },
        {
         "name": "gross income",
         "rawType": "float64",
         "type": "float"
        },
        {
         "name": "Rating",
         "rawType": "float64",
         "type": "float"
        },
        {
         "name": "month",
         "rawType": "int32",
         "type": "integer"
        },
        {
         "name": "weekday",
         "rawType": "object",
         "type": "string"
        },
        {
         "name": "year",
         "rawType": "UInt32",
         "type": "integer"
        },
        {
         "name": "week",
         "rawType": "UInt32",
         "type": "integer"
        }
       ],
       "ref": "2b2cd1a9-f2a3-426f-ba9f-d01902b341b6",
       "rows": [
        [
         "0",
         "750-67-8428",
         "Alex",
         "Yangon",
         "Member",
         "Female",
         "Health and beauty",
         "74.69",
         "7",
         "26.1415",
         "548.9715",
         "2019-01-05 00:00:00",
         "1:08:00 PM",
         "Ewallet",
         "522.83",
         "4.761904762",
         "26.1415",
         "9.1",
         "1",
         "Saturday",
         "2019",
         "1"
        ]
       ],
       "shape": {
        "columns": 21,
        "rows": 1
       }
      },
      "text/html": [
       "<div>\n",
       "<style scoped>\n",
       "    .dataframe tbody tr th:only-of-type {\n",
       "        vertical-align: middle;\n",
       "    }\n",
       "\n",
       "    .dataframe tbody tr th {\n",
       "        vertical-align: top;\n",
       "    }\n",
       "\n",
       "    .dataframe thead th {\n",
       "        text-align: right;\n",
       "    }\n",
       "</style>\n",
       "<table border=\"1\" class=\"dataframe\">\n",
       "  <thead>\n",
       "    <tr style=\"text-align: right;\">\n",
       "      <th></th>\n",
       "      <th>Invoice ID</th>\n",
       "      <th>Branch</th>\n",
       "      <th>City</th>\n",
       "      <th>Customer type</th>\n",
       "      <th>Gender</th>\n",
       "      <th>Product line</th>\n",
       "      <th>Unit price</th>\n",
       "      <th>Quantity</th>\n",
       "      <th>Tax 5%</th>\n",
       "      <th>Sales</th>\n",
       "      <th>...</th>\n",
       "      <th>Time</th>\n",
       "      <th>Payment</th>\n",
       "      <th>cogs</th>\n",
       "      <th>gross margin percentage</th>\n",
       "      <th>gross income</th>\n",
       "      <th>Rating</th>\n",
       "      <th>month</th>\n",
       "      <th>weekday</th>\n",
       "      <th>year</th>\n",
       "      <th>week</th>\n",
       "    </tr>\n",
       "  </thead>\n",
       "  <tbody>\n",
       "    <tr>\n",
       "      <th>0</th>\n",
       "      <td>750-67-8428</td>\n",
       "      <td>Alex</td>\n",
       "      <td>Yangon</td>\n",
       "      <td>Member</td>\n",
       "      <td>Female</td>\n",
       "      <td>Health and beauty</td>\n",
       "      <td>74.69</td>\n",
       "      <td>7</td>\n",
       "      <td>26.1415</td>\n",
       "      <td>548.9715</td>\n",
       "      <td>...</td>\n",
       "      <td>1:08:00 PM</td>\n",
       "      <td>Ewallet</td>\n",
       "      <td>522.83</td>\n",
       "      <td>4.761905</td>\n",
       "      <td>26.1415</td>\n",
       "      <td>9.1</td>\n",
       "      <td>1</td>\n",
       "      <td>Saturday</td>\n",
       "      <td>2019</td>\n",
       "      <td>1</td>\n",
       "    </tr>\n",
       "  </tbody>\n",
       "</table>\n",
       "<p>1 rows × 21 columns</p>\n",
       "</div>"
      ],
      "text/plain": [
       "    Invoice ID Branch    City Customer type  Gender       Product line  \\\n",
       "0  750-67-8428   Alex  Yangon        Member  Female  Health and beauty   \n",
       "\n",
       "   Unit price  Quantity   Tax 5%     Sales  ...        Time  Payment    cogs  \\\n",
       "0       74.69         7  26.1415  548.9715  ...  1:08:00 PM  Ewallet  522.83   \n",
       "\n",
       "   gross margin percentage  gross income  Rating  month   weekday  year  week  \n",
       "0                 4.761905       26.1415     9.1      1  Saturday  2019     1  \n",
       "\n",
       "[1 rows x 21 columns]"
      ]
     },
     "metadata": {},
     "output_type": "display_data"
    }
   ],
   "source": [
    "\n",
    "# Transformando coluna 'Date' em datetime\n",
    "\n",
    "df['Date'] = pd.to_datetime(df['Date'])\n",
    "\n",
    "# criando colina mês\n",
    "df['month'] = df.Date.dt.month\n",
    "\n",
    "# criando coluna dia da semana\n",
    "df['weekday'] = df.Date.dt.day_name()\n",
    "\n",
    "\n",
    "# criando colina ano\n",
    "df['year'] = df.Date.dt.isocalendar().year\n",
    "\n",
    "# criando coluna dia da semana\n",
    "df['week'] = df.Date.dt.isocalendar().week\n",
    "\n",
    "\n",
    "display(df.head(1))"
   ]
  },
  {
   "cell_type": "markdown",
   "id": "28704967",
   "metadata": {
    "id": "8PBJfNyJFN4Z",
    "papermill": {
     "duration": 0.007867,
     "end_time": "2025-10-27T18:06:23.963149",
     "exception": false,
     "start_time": "2025-10-27T18:06:23.955282",
     "status": "completed"
    },
    "tags": []
   },
   "source": [
    "# Tendência de vendas"
   ]
  },
  {
   "cell_type": "code",
   "execution_count": 23,
   "id": "f25fe516",
   "metadata": {
    "execution": {
     "iopub.execute_input": "2025-10-27T18:06:23.980778Z",
     "iopub.status.busy": "2025-10-27T18:06:23.979977Z",
     "iopub.status.idle": "2025-10-27T18:06:23.992673Z",
     "shell.execute_reply": "2025-10-27T18:06:23.991790Z"
    },
    "id": "pt0AKNWaFTBf",
    "outputId": "fc2e34ea-8382-44ca-a9d4-4aeb593fc6d1",
    "papermill": {
     "duration": 0.022795,
     "end_time": "2025-10-27T18:06:23.993974",
     "exception": false,
     "start_time": "2025-10-27T18:06:23.971179",
     "status": "completed"
    },
    "tags": []
   },
   "outputs": [
    {
     "data": {
      "application/vnd.microsoft.datawrangler.viewer.v0+json": {
       "columns": [
        {
         "name": "index",
         "rawType": "int64",
         "type": "integer"
        },
        {
         "name": "year",
         "rawType": "UInt32",
         "type": "integer"
        },
        {
         "name": "week",
         "rawType": "UInt32",
         "type": "integer"
        },
        {
         "name": "Sales",
         "rawType": "float64",
         "type": "float"
        }
       ],
       "ref": "c3f2eff1-8b1e-4585-a13c-c5fa30199fbd",
       "rows": [
        [
         "0",
         "2019",
         "1",
         "17543.3895"
        ],
        [
         "1",
         "2019",
         "2",
         "24461.199"
        ],
        [
         "2",
         "2019",
         "3",
         "28693.3605"
        ],
        [
         "3",
         "2019",
         "4",
         "29286.8835"
        ],
        [
         "4",
         "2019",
         "5",
         "28360.4475"
        ],
        [
         "5",
         "2019",
         "6",
         "27101.8335"
        ],
        [
         "6",
         "2019",
         "7",
         "25563.594"
        ],
        [
         "7",
         "2019",
         "8",
         "17328.6645"
        ],
        [
         "8",
         "2019",
         "9",
         "29219.715"
        ],
        [
         "9",
         "2019",
         "10",
         "28418.838"
        ],
        [
         "10",
         "2019",
         "11",
         "23990.2215"
        ],
        [
         "11",
         "2019",
         "12",
         "25120.599"
        ],
        [
         "12",
         "2019",
         "13",
         "17878.0035"
        ]
       ],
       "shape": {
        "columns": 3,
        "rows": 13
       }
      },
      "text/html": [
       "<div>\n",
       "<style scoped>\n",
       "    .dataframe tbody tr th:only-of-type {\n",
       "        vertical-align: middle;\n",
       "    }\n",
       "\n",
       "    .dataframe tbody tr th {\n",
       "        vertical-align: top;\n",
       "    }\n",
       "\n",
       "    .dataframe thead th {\n",
       "        text-align: right;\n",
       "    }\n",
       "</style>\n",
       "<table border=\"1\" class=\"dataframe\">\n",
       "  <thead>\n",
       "    <tr style=\"text-align: right;\">\n",
       "      <th></th>\n",
       "      <th>year</th>\n",
       "      <th>week</th>\n",
       "      <th>Sales</th>\n",
       "    </tr>\n",
       "  </thead>\n",
       "  <tbody>\n",
       "    <tr>\n",
       "      <th>0</th>\n",
       "      <td>2019</td>\n",
       "      <td>1</td>\n",
       "      <td>17543.3895</td>\n",
       "    </tr>\n",
       "    <tr>\n",
       "      <th>1</th>\n",
       "      <td>2019</td>\n",
       "      <td>2</td>\n",
       "      <td>24461.1990</td>\n",
       "    </tr>\n",
       "    <tr>\n",
       "      <th>2</th>\n",
       "      <td>2019</td>\n",
       "      <td>3</td>\n",
       "      <td>28693.3605</td>\n",
       "    </tr>\n",
       "    <tr>\n",
       "      <th>3</th>\n",
       "      <td>2019</td>\n",
       "      <td>4</td>\n",
       "      <td>29286.8835</td>\n",
       "    </tr>\n",
       "    <tr>\n",
       "      <th>4</th>\n",
       "      <td>2019</td>\n",
       "      <td>5</td>\n",
       "      <td>28360.4475</td>\n",
       "    </tr>\n",
       "    <tr>\n",
       "      <th>5</th>\n",
       "      <td>2019</td>\n",
       "      <td>6</td>\n",
       "      <td>27101.8335</td>\n",
       "    </tr>\n",
       "    <tr>\n",
       "      <th>6</th>\n",
       "      <td>2019</td>\n",
       "      <td>7</td>\n",
       "      <td>25563.5940</td>\n",
       "    </tr>\n",
       "    <tr>\n",
       "      <th>7</th>\n",
       "      <td>2019</td>\n",
       "      <td>8</td>\n",
       "      <td>17328.6645</td>\n",
       "    </tr>\n",
       "    <tr>\n",
       "      <th>8</th>\n",
       "      <td>2019</td>\n",
       "      <td>9</td>\n",
       "      <td>29219.7150</td>\n",
       "    </tr>\n",
       "    <tr>\n",
       "      <th>9</th>\n",
       "      <td>2019</td>\n",
       "      <td>10</td>\n",
       "      <td>28418.8380</td>\n",
       "    </tr>\n",
       "    <tr>\n",
       "      <th>10</th>\n",
       "      <td>2019</td>\n",
       "      <td>11</td>\n",
       "      <td>23990.2215</td>\n",
       "    </tr>\n",
       "    <tr>\n",
       "      <th>11</th>\n",
       "      <td>2019</td>\n",
       "      <td>12</td>\n",
       "      <td>25120.5990</td>\n",
       "    </tr>\n",
       "    <tr>\n",
       "      <th>12</th>\n",
       "      <td>2019</td>\n",
       "      <td>13</td>\n",
       "      <td>17878.0035</td>\n",
       "    </tr>\n",
       "  </tbody>\n",
       "</table>\n",
       "</div>"
      ],
      "text/plain": [
       "    year  week       Sales\n",
       "0   2019     1  17543.3895\n",
       "1   2019     2  24461.1990\n",
       "2   2019     3  28693.3605\n",
       "3   2019     4  29286.8835\n",
       "4   2019     5  28360.4475\n",
       "5   2019     6  27101.8335\n",
       "6   2019     7  25563.5940\n",
       "7   2019     8  17328.6645\n",
       "8   2019     9  29219.7150\n",
       "9   2019    10  28418.8380\n",
       "10  2019    11  23990.2215\n",
       "11  2019    12  25120.5990\n",
       "12  2019    13  17878.0035"
      ]
     },
     "metadata": {},
     "output_type": "display_data"
    }
   ],
   "source": [
    "daily_sales = df.groupby(['year','week'])['Sales'].sum().reset_index()\n",
    "display(daily_sales)"
   ]
  },
  {
   "cell_type": "code",
   "execution_count": null,
   "id": "c3a26e68",
   "metadata": {
    "execution": {
     "iopub.execute_input": "2025-10-27T18:06:24.013703Z",
     "iopub.status.busy": "2025-10-27T18:06:24.013127Z",
     "iopub.status.idle": "2025-10-27T18:06:24.273291Z",
     "shell.execute_reply": "2025-10-27T18:06:24.272521Z"
    },
    "id": "6TXLA0gnF72u",
    "outputId": "10f86e4c-4b9f-4843-efae-ebdb93474028",
    "papermill": {
     "duration": 0.272647,
     "end_time": "2025-10-27T18:06:24.275159",
     "exception": false,
     "start_time": "2025-10-27T18:06:24.002512",
     "status": "completed"
    },
    "tags": []
   },
   "outputs": [
    {
     "data": {
      "image/png": "[encoded data removed]",
      "text/plain": [
       "<Figure size 1200x500 with 1 Axes>"
      ]
     },
     "metadata": {},
     "output_type": "display_data"
    },
    {
     "data": {
      "text/plain": [
       "<Figure size 640x480 with 0 Axes>"
      ]
     },
     "metadata": {},
     "output_type": "display_data"
    }
   ],
   "source": [
    "\n",
    "plt.figure(figsize=(12,5))\n",
    "plt.plot(daily_sales['week'], daily_sales['Sales'])\n",
    "plt.title('Tendência de Receita Semanal')\n",
    "plt.xlabel('Data')\n",
    "plt.ylabel('Receita Total')\n",
    "plt.grid(True)\n",
    "plt.show()\n",
    "\n",
    "# Salvar gráfico\n",
    "plt.savefig(r\"outputs\\Tendência de Receita Semanal.png\")  "
   ]
  },
  {
   "cell_type": "markdown",
   "id": "9ca64ef8",
   "metadata": {
    "id": "dQmCNKtAGgnc",
    "papermill": {
     "duration": 0.009066,
     "end_time": "2025-10-27T18:06:24.294652",
     "exception": false,
     "start_time": "2025-10-27T18:06:24.285586",
     "status": "completed"
    },
    "tags": []
   },
   "source": [
    "### O gráfico de vendas diária nos mostra que o valor das vedas oscilam muito no período avaliado"
   ]
  },
  {
   "cell_type": "markdown",
   "id": "59b10fdb",
   "metadata": {
    "id": "KKVtWy9TGvN3",
    "papermill": {
     "duration": 0.009086,
     "end_time": "2025-10-27T18:06:24.312890",
     "exception": false,
     "start_time": "2025-10-27T18:06:24.303804",
     "status": "completed"
    },
    "tags": []
   },
   "source": [
    "# Análise por tipo e gênero de cliente"
   ]
  },
  {
   "cell_type": "code",
   "execution_count": 28,
   "id": "7c25160c",
   "metadata": {
    "execution": {
     "iopub.execute_input": "2025-10-27T18:06:24.332552Z",
     "iopub.status.busy": "2025-10-27T18:06:24.332228Z",
     "iopub.status.idle": "2025-10-27T18:06:24.341431Z",
     "shell.execute_reply": "2025-10-27T18:06:24.340826Z"
    },
    "id": "EG6JwiaLGtq3",
    "papermill": {
     "duration": 0.020735,
     "end_time": "2025-10-27T18:06:24.342796",
     "exception": false,
     "start_time": "2025-10-27T18:06:24.322061",
     "status": "completed"
    },
    "tags": []
   },
   "outputs": [],
   "source": [
    "gender = df.groupby(['Customer type', 'Gender'])['Sales'].sum().sort_values(ascending=False).reset_index()\n",
    "\n",
    "\n",
    "total = gender['Sales'].sum()\n",
    "gender_group = gender.groupby('Gender')['Sales'].sum('Sales').reset_index()"
   ]
  },
  {
   "cell_type": "code",
   "execution_count": 29,
   "id": "bb8e0238",
   "metadata": {
    "execution": {
     "iopub.execute_input": "2025-10-27T18:06:24.363033Z",
     "iopub.status.busy": "2025-10-27T18:06:24.362363Z",
     "iopub.status.idle": "2025-10-27T18:06:24.369589Z",
     "shell.execute_reply": "2025-10-27T18:06:24.368715Z"
    },
    "id": "49zZri7_JUgZ",
    "papermill": {
     "duration": 0.018776,
     "end_time": "2025-10-27T18:06:24.370971",
     "exception": false,
     "start_time": "2025-10-27T18:06:24.352195",
     "status": "completed"
    },
    "tags": []
   },
   "outputs": [],
   "source": [
    "# Percentual do primeiro grupo sobre o total\n",
    "percent_total = (gender.groupby('Gender')['Sales'].sum() / total * 100).reset_index()\n",
    "\n",
    "gender_group = (gender.groupby('Gender')['Sales'].sum()).reset_index()"
   ]
  },
  {
   "cell_type": "code",
   "execution_count": null,
   "id": "d5572501",
   "metadata": {
    "execution": {
     "iopub.execute_input": "2025-10-27T18:06:24.390895Z",
     "iopub.status.busy": "2025-10-27T18:06:24.390615Z",
     "iopub.status.idle": "2025-10-27T18:06:24.542286Z",
     "shell.execute_reply": "2025-10-27T18:06:24.541549Z"
    },
    "id": "8LhAjzgHWrBi",
    "outputId": "5be63ecd-d6fe-4657-cf28-0b3f49fe961b",
    "papermill": {
     "duration": 0.163399,
     "end_time": "2025-10-27T18:06:24.543817",
     "exception": false,
     "start_time": "2025-10-27T18:06:24.380418",
     "status": "completed"
    },
    "tags": []
   },
   "outputs": [
    {
     "data": {
      "image/png": "[encoded data removed]",
      "text/plain": [
       "<Figure size 600x500 with 1 Axes>"
      ]
     },
     "metadata": {},
     "output_type": "display_data"
    },
    {
     "data": {
      "text/plain": [
       "<Figure size 640x480 with 0 Axes>"
      ]
     },
     "metadata": {},
     "output_type": "display_data"
    }
   ],
   "source": [
    "# Gráfico tendência de receita por gênero\n",
    "\n",
    "\n",
    "# Calcular o total geral de vendas\n",
    "total_sales = gender_group['Sales'].sum()\n",
    "\n",
    "# Criar coluna de percentual\n",
    "gender_group['Percent'] = (gender_group['Sales'] / total_sales) * 100\n",
    "\n",
    "# Plotar gráfico\n",
    "plt.figure(figsize=(6,5))\n",
    "plt.bar(gender_group['Gender'], gender_group['Percent'], color=['#4C72B0', '#55A868'])\n",
    "plt.title('Percentual de Receita por Gênero')\n",
    "plt.xlabel('Gênero')\n",
    "plt.ylabel('Percentual de Receita (%)')\n",
    "plt.ylim(0, max(gender_group['Percent']) * 1.2)\n",
    "plt.grid(axis='y', linestyle='--', alpha=0.7)\n",
    "\n",
    "# Adicionar o valor percentual em cima das barras\n",
    "for i, v in enumerate(gender_group['Percent']):\n",
    "    plt.text(i, v + 0.5, f\"{v:.2f}%\", ha='center', fontweight='bold')\n",
    "\n",
    "plt.show()\n",
    "\n",
    "# Salvar gráfico\n",
    "plt.savefig(r\"outputs\\Percentual_receita_genero.png\")  "
   ]
  },
  {
   "cell_type": "code",
   "execution_count": null,
   "id": "858f83b9",
   "metadata": {
    "execution": {
     "iopub.execute_input": "2025-10-27T18:06:24.566123Z",
     "iopub.status.busy": "2025-10-27T18:06:24.565541Z",
     "iopub.status.idle": "2025-10-27T18:06:24.716574Z",
     "shell.execute_reply": "2025-10-27T18:06:24.715727Z"
    },
    "id": "J70AF-dCZgOy",
    "outputId": "74e302d7-c44c-4ce3-ab4e-1367c81f1751",
    "papermill": {
     "duration": 0.163544,
     "end_time": "2025-10-27T18:06:24.718068",
     "exception": false,
     "start_time": "2025-10-27T18:06:24.554524",
     "status": "completed"
    },
    "tags": []
   },
   "outputs": [
    {
     "data": {
      "image/png": "[encoded data removed]",
      "text/plain": [
       "<Figure size 600x500 with 1 Axes>"
      ]
     },
     "metadata": {},
     "output_type": "display_data"
    },
    {
     "data": {
      "text/plain": [
       "<Figure size 640x480 with 0 Axes>"
      ]
     },
     "metadata": {},
     "output_type": "display_data"
    }
   ],
   "source": [
    "\n",
    "# Gráfico tendência receita por tipo consumidor\n",
    "\n",
    "\n",
    "# Agrupar apenas por tipo de cliente\n",
    "type_sales = gender.groupby('Customer type')['Sales'].sum().reset_index()\n",
    "\n",
    "# Calcular percentuais\n",
    "type_sales['Percent'] = type_sales['Sales'] / type_sales['Sales'].sum() * 100\n",
    "\n",
    "# Plotar\n",
    "plt.figure(figsize=(6,5))\n",
    "plt.bar(type_sales['Customer type'], type_sales['Percent'], color=['#4C72B0','#55A868'])\n",
    "plt.title('Percentual de Receita por Tipo de Consumidor')\n",
    "plt.xlabel('Tipo de Cliente')\n",
    "plt.ylabel('Percentual de Receita (%)')\n",
    "plt.ylim(0, max(type_sales['Percent']) * 1.2)\n",
    "plt.grid(axis='y', linestyle='--', alpha=0.7)\n",
    "\n",
    "# Adicionar rótulos\n",
    "for i, v in enumerate(type_sales['Percent']):\n",
    "    plt.text(i, v + 0.5, f\"{v:.2f}%\", ha='center', fontweight='bold')\n",
    "\n",
    "plt.show()\n",
    "\n",
    "# Salvar gráfico\n",
    "plt.savefig(r\"outputs\\percentual_receita_tipo_consumidor.png\")  "
   ]
  },
  {
   "cell_type": "code",
   "execution_count": null,
   "id": "0437addc",
   "metadata": {
    "execution": {
     "iopub.execute_input": "2025-10-27T18:06:24.741526Z",
     "iopub.status.busy": "2025-10-27T18:06:24.740550Z",
     "iopub.status.idle": "2025-10-27T18:06:24.880537Z",
     "shell.execute_reply": "2025-10-27T18:06:24.879623Z"
    },
    "papermill": {
     "duration": 0.152902,
     "end_time": "2025-10-27T18:06:24.881818",
     "exception": false,
     "start_time": "2025-10-27T18:06:24.728916",
     "status": "completed"
    },
    "tags": []
   },
   "outputs": [
    {
     "data": {
      "image/png": "[encoded data removed]",
      "text/plain": [
       "<Figure size 640x480 with 1 Axes>"
      ]
     },
     "metadata": {},
     "output_type": "display_data"
    },
    {
     "data": {
      "text/plain": [
       "<Figure size 640x480 with 0 Axes>"
      ]
     },
     "metadata": {},
     "output_type": "display_data"
    }
   ],
   "source": [
    "# Sales per Branch\n",
    "sns.countplot(data=df, x='Branch')\n",
    "plt.title('Number of Sales per Branch')\n",
    "plt.show()\n",
    "\n",
    "# Salvar gráfico\n",
    "plt.savefig(r\"outputs\\number_sales_branch.png\")  "
   ]
  },
  {
   "cell_type": "code",
   "execution_count": null,
   "id": "d7da8161",
   "metadata": {
    "execution": {
     "iopub.execute_input": "2025-10-27T18:06:24.906718Z",
     "iopub.status.busy": "2025-10-27T18:06:24.906443Z",
     "iopub.status.idle": "2025-10-27T18:06:25.045073Z",
     "shell.execute_reply": "2025-10-27T18:06:25.044215Z"
    },
    "papermill": {
     "duration": 0.152793,
     "end_time": "2025-10-27T18:06:25.046619",
     "exception": false,
     "start_time": "2025-10-27T18:06:24.893826",
     "status": "completed"
    },
    "tags": []
   },
   "outputs": [
    {
     "data": {
      "image/png": "[encoded data removed]",
      "text/plain": [
       "<Figure size 640x480 with 1 Axes>"
      ]
     },
     "metadata": {},
     "output_type": "display_data"
    },
    {
     "data": {
      "text/plain": [
       "<Figure size 640x480 with 0 Axes>"
      ]
     },
     "metadata": {},
     "output_type": "display_data"
    }
   ],
   "source": [
    "# Sales per City\n",
    "sns.countplot(data=df, x='City')\n",
    "plt.title('Number of Sales per City')\n",
    "plt.show()\n",
    "\n",
    "# Salvar gráfico\n",
    "plt.savefig(r\"outputs\\number_sales_city.png\")  "
   ]
  },
  {
   "cell_type": "code",
   "execution_count": 35,
   "id": "de1df1b9",
   "metadata": {
    "execution": {
     "iopub.execute_input": "2025-10-27T18:06:25.073094Z",
     "iopub.status.busy": "2025-10-27T18:06:25.072547Z",
     "iopub.status.idle": "2025-10-27T18:06:25.080284Z",
     "shell.execute_reply": "2025-10-27T18:06:25.079578Z"
    },
    "papermill": {
     "duration": 0.022134,
     "end_time": "2025-10-27T18:06:25.081583",
     "exception": false,
     "start_time": "2025-10-27T18:06:25.059449",
     "status": "completed"
    },
    "tags": []
   },
   "outputs": [
    {
     "data": {
      "application/vnd.microsoft.datawrangler.viewer.v0+json": {
       "columns": [
        {
         "name": "Branch",
         "rawType": "object",
         "type": "string"
        },
        {
         "name": "Sales",
         "rawType": "float64",
         "type": "float"
        }
       ],
       "ref": "454becf0-2e57-45a9-a009-7e22a9bdb63d",
       "rows": [
        [
         "Giza",
         "110568.7065"
        ],
        [
         "Alex",
         "106200.3705"
        ],
        [
         "Cairo",
         "106197.672"
        ]
       ],
       "shape": {
        "columns": 1,
        "rows": 3
       }
      },
      "text/plain": [
       "Branch\n",
       "Giza     110568.7065\n",
       "Alex     106200.3705\n",
       "Cairo    106197.6720\n",
       "Name: Sales, dtype: float64"
      ]
     },
     "execution_count": 35,
     "metadata": {},
     "output_type": "execute_result"
    }
   ],
   "source": [
    "# Total sales per Branch\n",
    "branch_sales = df.groupby('Branch')['Sales'].sum().sort_values(ascending=False)\n",
    "branch_sales"
   ]
  },
  {
   "cell_type": "code",
   "execution_count": null,
   "id": "0dfd577b",
   "metadata": {
    "execution": {
     "iopub.execute_input": "2025-10-27T18:06:25.108201Z",
     "iopub.status.busy": "2025-10-27T18:06:25.107864Z",
     "iopub.status.idle": "2025-10-27T18:06:25.299535Z",
     "shell.execute_reply": "2025-10-27T18:06:25.298687Z"
    },
    "papermill": {
     "duration": 0.206447,
     "end_time": "2025-10-27T18:06:25.300918",
     "exception": false,
     "start_time": "2025-10-27T18:06:25.094471",
     "status": "completed"
    },
    "tags": []
   },
   "outputs": [
    {
     "data": {
      "image/png": "[encoded data removed]",
      "text/plain": [
       "<Figure size 640x480 with 1 Axes>"
      ]
     },
     "metadata": {},
     "output_type": "display_data"
    },
    {
     "data": {
      "text/plain": [
       "<Figure size 640x480 with 0 Axes>"
      ]
     },
     "metadata": {},
     "output_type": "display_data"
    }
   ],
   "source": [
    "# Visualization\n",
    "branch_sales.plot(kind='bar', title='Total Sales per Branch')\n",
    "plt.ylabel('Total Sales')\n",
    "plt.show()\n",
    "\n",
    "# Salvar gráfico\n",
    "plt.savefig(r\"outputs\\total_sales_branch.png\")  "
   ]
  },
  {
   "cell_type": "code",
   "execution_count": null,
   "id": "e80221d8",
   "metadata": {
    "execution": {
     "iopub.execute_input": "2025-10-27T18:06:25.329402Z",
     "iopub.status.busy": "2025-10-27T18:06:25.329060Z",
     "iopub.status.idle": "2025-10-27T18:06:25.481997Z",
     "shell.execute_reply": "2025-10-27T18:06:25.481236Z"
    },
    "papermill": {
     "duration": 0.168285,
     "end_time": "2025-10-27T18:06:25.483446",
     "exception": false,
     "start_time": "2025-10-27T18:06:25.315161",
     "status": "completed"
    },
    "tags": []
   },
   "outputs": [
    {
     "data": {
      "image/png": "[encoded data removed]",
      "text/plain": [
       "<Figure size 640x480 with 1 Axes>"
      ]
     },
     "metadata": {},
     "output_type": "display_data"
    },
    {
     "data": {
      "text/plain": [
       "<Figure size 640x480 with 0 Axes>"
      ]
     },
     "metadata": {},
     "output_type": "display_data"
    }
   ],
   "source": [
    "# Transactions per City\n",
    "city_transactions = df['City'].value_counts()\n",
    "city_transactions.plot(kind='bar', title='Transactions per City')\n",
    "plt.ylabel('Number of Transactions')\n",
    "plt.show()\n",
    "\n",
    "# Salvar gráfico\n",
    "plt.savefig(r\"outputs\\transactions_city.png\")  "
   ]
  },
  {
   "cell_type": "code",
   "execution_count": null,
   "id": "6c631309",
   "metadata": {
    "execution": {
     "iopub.execute_input": "2025-10-27T18:06:25.512154Z",
     "iopub.status.busy": "2025-10-27T18:06:25.511400Z",
     "iopub.status.idle": "2025-10-27T18:06:25.678341Z",
     "shell.execute_reply": "2025-10-27T18:06:25.677504Z"
    },
    "papermill": {
     "duration": 0.182465,
     "end_time": "2025-10-27T18:06:25.679742",
     "exception": false,
     "start_time": "2025-10-27T18:06:25.497277",
     "status": "completed"
    },
    "tags": []
   },
   "outputs": [
    {
     "data": {
      "image/png": "[encoded data removed]",
      "text/plain": [
       "<Figure size 640x480 with 1 Axes>"
      ]
     },
     "metadata": {},
     "output_type": "display_data"
    },
    {
     "data": {
      "text/plain": [
       "<Figure size 640x480 with 0 Axes>"
      ]
     },
     "metadata": {},
     "output_type": "display_data"
    }
   ],
   "source": [
    "# Revenue per Product Line\n",
    "product_revenue = df.groupby('Product line')['Sales'].sum().sort_values(ascending=False)\n",
    "product_revenue.plot(kind='bar', title='Revenue per Product Line')\n",
    "plt.ylabel('Total Revenue')\n",
    "plt.show()\n",
    "\n",
    "# Salvar gráfico\n",
    "plt.savefig(r\"outputs\\revenue_product_line.png\")  "
   ]
  },
  {
   "cell_type": "code",
   "execution_count": null,
   "id": "5f24be09",
   "metadata": {
    "execution": {
     "iopub.execute_input": "2025-10-27T18:06:25.711390Z",
     "iopub.status.busy": "2025-10-27T18:06:25.710747Z",
     "iopub.status.idle": "2025-10-27T18:06:25.858173Z",
     "shell.execute_reply": "2025-10-27T18:06:25.857394Z"
    },
    "papermill": {
     "duration": 0.164457,
     "end_time": "2025-10-27T18:06:25.859685",
     "exception": false,
     "start_time": "2025-10-27T18:06:25.695228",
     "status": "completed"
    },
    "tags": []
   },
   "outputs": [
    {
     "data": {
      "image/png": "[encoded data removed]",
      "text/plain": [
       "<Figure size 640x480 with 1 Axes>"
      ]
     },
     "metadata": {},
     "output_type": "display_data"
    },
    {
     "data": {
      "text/plain": [
       "<Figure size 640x480 with 0 Axes>"
      ]
     },
     "metadata": {},
     "output_type": "display_data"
    }
   ],
   "source": [
    "# Average spend by Customer type\n",
    "avg_spend = df.groupby('Customer type')['Sales'].mean()\n",
    "avg_spend.plot(kind='bar', title='Average Spend: Member vs Normal')\n",
    "plt.ylabel('Average Total')\n",
    "plt.show()\n",
    "\n",
    "# Salvar gráfico\n",
    "plt.savefig(r\"outputs\\avarage_spend.png\")  "
   ]
  }
 ],
 "metadata": {
  "colab": {
   "provenance": []
  },
  "kaggle": {
   "accelerator": "none",
   "dataSources": [
    {
     "datasetId": 5735157,
     "sourceId": 9438306,
     "sourceType": "datasetVersion"
    }
   ],
   "dockerImageVersionId": 31153,
   "isGpuEnabled": false,
   "isInternetEnabled": true,
   "language": "python",
   "sourceType": "notebook"
  },
  "kernelspec": {
   "display_name": ".venv",
   "language": "python",
   "name": "python3"
  },
  "language_info": {
   "codemirror_mode": {
    "name": "ipython",
    "version": 3
   },
   "file_extension": ".py",
   "mimetype": "text/x-python",
   "name": "python",
   "nbconvert_exporter": "python",
   "pygments_lexer": "ipython3",
   "version": "3.13.7"
  },
  "papermill": {
   "default_parameters": {},
   "duration": 12.049706,
   "end_time": "2025-10-27T18:06:26.494172",
   "environment_variables": {},
   "exception": null,
   "input_path": "__notebook__.ipynb",
   "output_path": "__notebook__.ipynb",
   "parameters": {},
   "start_time": "2025-10-27T18:06:14.444466",
   "version": "2.6.0"
  }
 },
 "nbformat": 4,
 "nbformat_minor": 5
}
